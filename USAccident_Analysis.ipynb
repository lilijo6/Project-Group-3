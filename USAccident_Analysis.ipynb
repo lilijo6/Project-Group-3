{
 "cells": [
  {
   "cell_type": "code",
   "execution_count": 1,
   "metadata": {},
   "outputs": [],
   "source": [
    "import pandas as pd\n",
    "import numpy as np\n",
    "import json\n",
    "\n",
    "import seaborn as sn\n",
    "\n",
    "import requests\n",
    "\n",
    "from census import Census\n",
    "\n",
    "from matplotlib import pyplot as plt\n",
    "\n",
    "import datetime as dt\n",
    "\n",
    "from config import (gkey,api_key)\n",
    "\n",
    "from scipy.stats import linregress,pearsonr\n",
    "\n",
    "from us import states\n",
    "\n",
    "import gmaps\n",
    "\n",
    "# Access maps with unique API key\n",
    "gmaps.configure(api_key=gkey)\n",
    "\n",
    "#Access census data for 2017\n",
    "c = Census(api_key, year=2018)\n"
   ]
  },
  {
   "cell_type": "markdown",
   "metadata": {},
   "source": [
    "### Loading data into dataframe"
   ]
  },
  {
   "cell_type": "code",
   "execution_count": 2,
   "metadata": {},
   "outputs": [
    {
     "ename": "MemoryError",
     "evalue": "Unable to allocate 477. MiB for an array with shape (21, 2974335) and data type object",
     "output_type": "error",
     "traceback": [
      "\u001b[1;31m---------------------------------------------------------------------------\u001b[0m",
      "\u001b[1;31mMemoryError\u001b[0m                               Traceback (most recent call last)",
      "\u001b[1;32m<ipython-input-2-c74e6286812b>\u001b[0m in \u001b[0;36m<module>\u001b[1;34m\u001b[0m\n\u001b[0;32m      1\u001b[0m \u001b[1;31m#Reading data from source file\u001b[0m\u001b[1;33m\u001b[0m\u001b[1;33m\u001b[0m\u001b[1;33m\u001b[0m\u001b[0m\n\u001b[0;32m      2\u001b[0m \u001b[1;33m\u001b[0m\u001b[0m\n\u001b[1;32m----> 3\u001b[1;33m \u001b[0maccidents_source\u001b[0m\u001b[1;33m=\u001b[0m\u001b[0mpd\u001b[0m\u001b[1;33m.\u001b[0m\u001b[0mread_csv\u001b[0m\u001b[1;33m(\u001b[0m\u001b[1;34m\"Accident data/US_Accidents_Dec19.csv\"\u001b[0m\u001b[1;33m)\u001b[0m\u001b[1;33m\u001b[0m\u001b[1;33m\u001b[0m\u001b[0m\n\u001b[0m",
      "\u001b[1;32m~\\anaconda3\\lib\\site-packages\\pandas\\io\\parsers.py\u001b[0m in \u001b[0;36mparser_f\u001b[1;34m(filepath_or_buffer, sep, delimiter, header, names, index_col, usecols, squeeze, prefix, mangle_dupe_cols, dtype, engine, converters, true_values, false_values, skipinitialspace, skiprows, skipfooter, nrows, na_values, keep_default_na, na_filter, verbose, skip_blank_lines, parse_dates, infer_datetime_format, keep_date_col, date_parser, dayfirst, cache_dates, iterator, chunksize, compression, thousands, decimal, lineterminator, quotechar, quoting, doublequote, escapechar, comment, encoding, dialect, error_bad_lines, warn_bad_lines, delim_whitespace, low_memory, memory_map, float_precision)\u001b[0m\n\u001b[0;32m    674\u001b[0m         )\n\u001b[0;32m    675\u001b[0m \u001b[1;33m\u001b[0m\u001b[0m\n\u001b[1;32m--> 676\u001b[1;33m         \u001b[1;32mreturn\u001b[0m \u001b[0m_read\u001b[0m\u001b[1;33m(\u001b[0m\u001b[0mfilepath_or_buffer\u001b[0m\u001b[1;33m,\u001b[0m \u001b[0mkwds\u001b[0m\u001b[1;33m)\u001b[0m\u001b[1;33m\u001b[0m\u001b[1;33m\u001b[0m\u001b[0m\n\u001b[0m\u001b[0;32m    677\u001b[0m \u001b[1;33m\u001b[0m\u001b[0m\n\u001b[0;32m    678\u001b[0m     \u001b[0mparser_f\u001b[0m\u001b[1;33m.\u001b[0m\u001b[0m__name__\u001b[0m \u001b[1;33m=\u001b[0m \u001b[0mname\u001b[0m\u001b[1;33m\u001b[0m\u001b[1;33m\u001b[0m\u001b[0m\n",
      "\u001b[1;32m~\\anaconda3\\lib\\site-packages\\pandas\\io\\parsers.py\u001b[0m in \u001b[0;36m_read\u001b[1;34m(filepath_or_buffer, kwds)\u001b[0m\n\u001b[0;32m    452\u001b[0m \u001b[1;33m\u001b[0m\u001b[0m\n\u001b[0;32m    453\u001b[0m     \u001b[1;32mtry\u001b[0m\u001b[1;33m:\u001b[0m\u001b[1;33m\u001b[0m\u001b[1;33m\u001b[0m\u001b[0m\n\u001b[1;32m--> 454\u001b[1;33m         \u001b[0mdata\u001b[0m \u001b[1;33m=\u001b[0m \u001b[0mparser\u001b[0m\u001b[1;33m.\u001b[0m\u001b[0mread\u001b[0m\u001b[1;33m(\u001b[0m\u001b[0mnrows\u001b[0m\u001b[1;33m)\u001b[0m\u001b[1;33m\u001b[0m\u001b[1;33m\u001b[0m\u001b[0m\n\u001b[0m\u001b[0;32m    455\u001b[0m     \u001b[1;32mfinally\u001b[0m\u001b[1;33m:\u001b[0m\u001b[1;33m\u001b[0m\u001b[1;33m\u001b[0m\u001b[0m\n\u001b[0;32m    456\u001b[0m         \u001b[0mparser\u001b[0m\u001b[1;33m.\u001b[0m\u001b[0mclose\u001b[0m\u001b[1;33m(\u001b[0m\u001b[1;33m)\u001b[0m\u001b[1;33m\u001b[0m\u001b[1;33m\u001b[0m\u001b[0m\n",
      "\u001b[1;32m~\\anaconda3\\lib\\site-packages\\pandas\\io\\parsers.py\u001b[0m in \u001b[0;36mread\u001b[1;34m(self, nrows)\u001b[0m\n\u001b[0;32m   1146\u001b[0m             \u001b[0mnew_rows\u001b[0m \u001b[1;33m=\u001b[0m \u001b[0mlen\u001b[0m\u001b[1;33m(\u001b[0m\u001b[0mindex\u001b[0m\u001b[1;33m)\u001b[0m\u001b[1;33m\u001b[0m\u001b[1;33m\u001b[0m\u001b[0m\n\u001b[0;32m   1147\u001b[0m \u001b[1;33m\u001b[0m\u001b[0m\n\u001b[1;32m-> 1148\u001b[1;33m         \u001b[0mdf\u001b[0m \u001b[1;33m=\u001b[0m \u001b[0mDataFrame\u001b[0m\u001b[1;33m(\u001b[0m\u001b[0mcol_dict\u001b[0m\u001b[1;33m,\u001b[0m \u001b[0mcolumns\u001b[0m\u001b[1;33m=\u001b[0m\u001b[0mcolumns\u001b[0m\u001b[1;33m,\u001b[0m \u001b[0mindex\u001b[0m\u001b[1;33m=\u001b[0m\u001b[0mindex\u001b[0m\u001b[1;33m)\u001b[0m\u001b[1;33m\u001b[0m\u001b[1;33m\u001b[0m\u001b[0m\n\u001b[0m\u001b[0;32m   1149\u001b[0m \u001b[1;33m\u001b[0m\u001b[0m\n\u001b[0;32m   1150\u001b[0m         \u001b[0mself\u001b[0m\u001b[1;33m.\u001b[0m\u001b[0m_currow\u001b[0m \u001b[1;33m+=\u001b[0m \u001b[0mnew_rows\u001b[0m\u001b[1;33m\u001b[0m\u001b[1;33m\u001b[0m\u001b[0m\n",
      "\u001b[1;32m~\\anaconda3\\lib\\site-packages\\pandas\\core\\frame.py\u001b[0m in \u001b[0;36m__init__\u001b[1;34m(self, data, index, columns, dtype, copy)\u001b[0m\n\u001b[0;32m    433\u001b[0m             )\n\u001b[0;32m    434\u001b[0m         \u001b[1;32melif\u001b[0m \u001b[0misinstance\u001b[0m\u001b[1;33m(\u001b[0m\u001b[0mdata\u001b[0m\u001b[1;33m,\u001b[0m \u001b[0mdict\u001b[0m\u001b[1;33m)\u001b[0m\u001b[1;33m:\u001b[0m\u001b[1;33m\u001b[0m\u001b[1;33m\u001b[0m\u001b[0m\n\u001b[1;32m--> 435\u001b[1;33m             \u001b[0mmgr\u001b[0m \u001b[1;33m=\u001b[0m \u001b[0minit_dict\u001b[0m\u001b[1;33m(\u001b[0m\u001b[0mdata\u001b[0m\u001b[1;33m,\u001b[0m \u001b[0mindex\u001b[0m\u001b[1;33m,\u001b[0m \u001b[0mcolumns\u001b[0m\u001b[1;33m,\u001b[0m \u001b[0mdtype\u001b[0m\u001b[1;33m=\u001b[0m\u001b[0mdtype\u001b[0m\u001b[1;33m)\u001b[0m\u001b[1;33m\u001b[0m\u001b[1;33m\u001b[0m\u001b[0m\n\u001b[0m\u001b[0;32m    436\u001b[0m         \u001b[1;32melif\u001b[0m \u001b[0misinstance\u001b[0m\u001b[1;33m(\u001b[0m\u001b[0mdata\u001b[0m\u001b[1;33m,\u001b[0m \u001b[0mma\u001b[0m\u001b[1;33m.\u001b[0m\u001b[0mMaskedArray\u001b[0m\u001b[1;33m)\u001b[0m\u001b[1;33m:\u001b[0m\u001b[1;33m\u001b[0m\u001b[1;33m\u001b[0m\u001b[0m\n\u001b[0;32m    437\u001b[0m             \u001b[1;32mimport\u001b[0m \u001b[0mnumpy\u001b[0m\u001b[1;33m.\u001b[0m\u001b[0mma\u001b[0m\u001b[1;33m.\u001b[0m\u001b[0mmrecords\u001b[0m \u001b[1;32mas\u001b[0m \u001b[0mmrecords\u001b[0m\u001b[1;33m\u001b[0m\u001b[1;33m\u001b[0m\u001b[0m\n",
      "\u001b[1;32m~\\anaconda3\\lib\\site-packages\\pandas\\core\\internals\\construction.py\u001b[0m in \u001b[0;36minit_dict\u001b[1;34m(data, index, columns, dtype)\u001b[0m\n\u001b[0;32m    252\u001b[0m             \u001b[0marr\u001b[0m \u001b[1;32mif\u001b[0m \u001b[1;32mnot\u001b[0m \u001b[0mis_datetime64tz_dtype\u001b[0m\u001b[1;33m(\u001b[0m\u001b[0marr\u001b[0m\u001b[1;33m)\u001b[0m \u001b[1;32melse\u001b[0m \u001b[0marr\u001b[0m\u001b[1;33m.\u001b[0m\u001b[0mcopy\u001b[0m\u001b[1;33m(\u001b[0m\u001b[1;33m)\u001b[0m \u001b[1;32mfor\u001b[0m \u001b[0marr\u001b[0m \u001b[1;32min\u001b[0m \u001b[0marrays\u001b[0m\u001b[1;33m\u001b[0m\u001b[1;33m\u001b[0m\u001b[0m\n\u001b[0;32m    253\u001b[0m         ]\n\u001b[1;32m--> 254\u001b[1;33m     \u001b[1;32mreturn\u001b[0m \u001b[0marrays_to_mgr\u001b[0m\u001b[1;33m(\u001b[0m\u001b[0marrays\u001b[0m\u001b[1;33m,\u001b[0m \u001b[0mdata_names\u001b[0m\u001b[1;33m,\u001b[0m \u001b[0mindex\u001b[0m\u001b[1;33m,\u001b[0m \u001b[0mcolumns\u001b[0m\u001b[1;33m,\u001b[0m \u001b[0mdtype\u001b[0m\u001b[1;33m=\u001b[0m\u001b[0mdtype\u001b[0m\u001b[1;33m)\u001b[0m\u001b[1;33m\u001b[0m\u001b[1;33m\u001b[0m\u001b[0m\n\u001b[0m\u001b[0;32m    255\u001b[0m \u001b[1;33m\u001b[0m\u001b[0m\n\u001b[0;32m    256\u001b[0m \u001b[1;33m\u001b[0m\u001b[0m\n",
      "\u001b[1;32m~\\anaconda3\\lib\\site-packages\\pandas\\core\\internals\\construction.py\u001b[0m in \u001b[0;36marrays_to_mgr\u001b[1;34m(arrays, arr_names, index, columns, dtype)\u001b[0m\n\u001b[0;32m     72\u001b[0m     \u001b[0maxes\u001b[0m \u001b[1;33m=\u001b[0m \u001b[1;33m[\u001b[0m\u001b[0mensure_index\u001b[0m\u001b[1;33m(\u001b[0m\u001b[0mcolumns\u001b[0m\u001b[1;33m)\u001b[0m\u001b[1;33m,\u001b[0m \u001b[0mindex\u001b[0m\u001b[1;33m]\u001b[0m\u001b[1;33m\u001b[0m\u001b[1;33m\u001b[0m\u001b[0m\n\u001b[0;32m     73\u001b[0m \u001b[1;33m\u001b[0m\u001b[0m\n\u001b[1;32m---> 74\u001b[1;33m     \u001b[1;32mreturn\u001b[0m \u001b[0mcreate_block_manager_from_arrays\u001b[0m\u001b[1;33m(\u001b[0m\u001b[0marrays\u001b[0m\u001b[1;33m,\u001b[0m \u001b[0marr_names\u001b[0m\u001b[1;33m,\u001b[0m \u001b[0maxes\u001b[0m\u001b[1;33m)\u001b[0m\u001b[1;33m\u001b[0m\u001b[1;33m\u001b[0m\u001b[0m\n\u001b[0m\u001b[0;32m     75\u001b[0m \u001b[1;33m\u001b[0m\u001b[0m\n\u001b[0;32m     76\u001b[0m \u001b[1;33m\u001b[0m\u001b[0m\n",
      "\u001b[1;32m~\\anaconda3\\lib\\site-packages\\pandas\\core\\internals\\managers.py\u001b[0m in \u001b[0;36mcreate_block_manager_from_arrays\u001b[1;34m(arrays, names, axes)\u001b[0m\n\u001b[0;32m   1668\u001b[0m \u001b[1;33m\u001b[0m\u001b[0m\n\u001b[0;32m   1669\u001b[0m     \u001b[1;32mtry\u001b[0m\u001b[1;33m:\u001b[0m\u001b[1;33m\u001b[0m\u001b[1;33m\u001b[0m\u001b[0m\n\u001b[1;32m-> 1670\u001b[1;33m         \u001b[0mblocks\u001b[0m \u001b[1;33m=\u001b[0m \u001b[0mform_blocks\u001b[0m\u001b[1;33m(\u001b[0m\u001b[0marrays\u001b[0m\u001b[1;33m,\u001b[0m \u001b[0mnames\u001b[0m\u001b[1;33m,\u001b[0m \u001b[0maxes\u001b[0m\u001b[1;33m)\u001b[0m\u001b[1;33m\u001b[0m\u001b[1;33m\u001b[0m\u001b[0m\n\u001b[0m\u001b[0;32m   1671\u001b[0m         \u001b[0mmgr\u001b[0m \u001b[1;33m=\u001b[0m \u001b[0mBlockManager\u001b[0m\u001b[1;33m(\u001b[0m\u001b[0mblocks\u001b[0m\u001b[1;33m,\u001b[0m \u001b[0maxes\u001b[0m\u001b[1;33m)\u001b[0m\u001b[1;33m\u001b[0m\u001b[1;33m\u001b[0m\u001b[0m\n\u001b[0;32m   1672\u001b[0m         \u001b[0mmgr\u001b[0m\u001b[1;33m.\u001b[0m\u001b[0m_consolidate_inplace\u001b[0m\u001b[1;33m(\u001b[0m\u001b[1;33m)\u001b[0m\u001b[1;33m\u001b[0m\u001b[1;33m\u001b[0m\u001b[0m\n",
      "\u001b[1;32m~\\anaconda3\\lib\\site-packages\\pandas\\core\\internals\\managers.py\u001b[0m in \u001b[0;36mform_blocks\u001b[1;34m(arrays, names, axes)\u001b[0m\n\u001b[0;32m   1755\u001b[0m \u001b[1;33m\u001b[0m\u001b[0m\n\u001b[0;32m   1756\u001b[0m     \u001b[1;32mif\u001b[0m \u001b[0mlen\u001b[0m\u001b[1;33m(\u001b[0m\u001b[0mitems_dict\u001b[0m\u001b[1;33m[\u001b[0m\u001b[1;34m\"ObjectBlock\"\u001b[0m\u001b[1;33m]\u001b[0m\u001b[1;33m)\u001b[0m \u001b[1;33m>\u001b[0m \u001b[1;36m0\u001b[0m\u001b[1;33m:\u001b[0m\u001b[1;33m\u001b[0m\u001b[1;33m\u001b[0m\u001b[0m\n\u001b[1;32m-> 1757\u001b[1;33m         \u001b[0mobject_blocks\u001b[0m \u001b[1;33m=\u001b[0m \u001b[0m_simple_blockify\u001b[0m\u001b[1;33m(\u001b[0m\u001b[0mitems_dict\u001b[0m\u001b[1;33m[\u001b[0m\u001b[1;34m\"ObjectBlock\"\u001b[0m\u001b[1;33m]\u001b[0m\u001b[1;33m,\u001b[0m \u001b[0mnp\u001b[0m\u001b[1;33m.\u001b[0m\u001b[0mobject_\u001b[0m\u001b[1;33m)\u001b[0m\u001b[1;33m\u001b[0m\u001b[1;33m\u001b[0m\u001b[0m\n\u001b[0m\u001b[0;32m   1758\u001b[0m         \u001b[0mblocks\u001b[0m\u001b[1;33m.\u001b[0m\u001b[0mextend\u001b[0m\u001b[1;33m(\u001b[0m\u001b[0mobject_blocks\u001b[0m\u001b[1;33m)\u001b[0m\u001b[1;33m\u001b[0m\u001b[1;33m\u001b[0m\u001b[0m\n\u001b[0;32m   1759\u001b[0m \u001b[1;33m\u001b[0m\u001b[0m\n",
      "\u001b[1;32m~\\anaconda3\\lib\\site-packages\\pandas\\core\\internals\\managers.py\u001b[0m in \u001b[0;36m_simple_blockify\u001b[1;34m(tuples, dtype)\u001b[0m\n\u001b[0;32m   1799\u001b[0m     \u001b[1;32mnot\u001b[0m \u001b[1;32mNone\u001b[0m\u001b[1;33m,\u001b[0m \u001b[0mcoerce\u001b[0m \u001b[0mto\u001b[0m \u001b[0mthis\u001b[0m \u001b[0mdtype\u001b[0m\u001b[1;33m\u001b[0m\u001b[1;33m\u001b[0m\u001b[0m\n\u001b[0;32m   1800\u001b[0m     \"\"\"\n\u001b[1;32m-> 1801\u001b[1;33m     \u001b[0mvalues\u001b[0m\u001b[1;33m,\u001b[0m \u001b[0mplacement\u001b[0m \u001b[1;33m=\u001b[0m \u001b[0m_stack_arrays\u001b[0m\u001b[1;33m(\u001b[0m\u001b[0mtuples\u001b[0m\u001b[1;33m,\u001b[0m \u001b[0mdtype\u001b[0m\u001b[1;33m)\u001b[0m\u001b[1;33m\u001b[0m\u001b[1;33m\u001b[0m\u001b[0m\n\u001b[0m\u001b[0;32m   1802\u001b[0m \u001b[1;33m\u001b[0m\u001b[0m\n\u001b[0;32m   1803\u001b[0m     \u001b[1;31m# TODO: CHECK DTYPE?\u001b[0m\u001b[1;33m\u001b[0m\u001b[1;33m\u001b[0m\u001b[1;33m\u001b[0m\u001b[0m\n",
      "\u001b[1;32m~\\anaconda3\\lib\\site-packages\\pandas\\core\\internals\\managers.py\u001b[0m in \u001b[0;36m_stack_arrays\u001b[1;34m(tuples, dtype)\u001b[0m\n\u001b[0;32m   1846\u001b[0m     \u001b[0mshape\u001b[0m \u001b[1;33m=\u001b[0m \u001b[1;33m(\u001b[0m\u001b[0mlen\u001b[0m\u001b[1;33m(\u001b[0m\u001b[0marrays\u001b[0m\u001b[1;33m)\u001b[0m\u001b[1;33m,\u001b[0m\u001b[1;33m)\u001b[0m \u001b[1;33m+\u001b[0m \u001b[0m_shape_compat\u001b[0m\u001b[1;33m(\u001b[0m\u001b[0mfirst\u001b[0m\u001b[1;33m)\u001b[0m\u001b[1;33m\u001b[0m\u001b[1;33m\u001b[0m\u001b[0m\n\u001b[0;32m   1847\u001b[0m \u001b[1;33m\u001b[0m\u001b[0m\n\u001b[1;32m-> 1848\u001b[1;33m     \u001b[0mstacked\u001b[0m \u001b[1;33m=\u001b[0m \u001b[0mnp\u001b[0m\u001b[1;33m.\u001b[0m\u001b[0mempty\u001b[0m\u001b[1;33m(\u001b[0m\u001b[0mshape\u001b[0m\u001b[1;33m,\u001b[0m \u001b[0mdtype\u001b[0m\u001b[1;33m=\u001b[0m\u001b[0mdtype\u001b[0m\u001b[1;33m)\u001b[0m\u001b[1;33m\u001b[0m\u001b[1;33m\u001b[0m\u001b[0m\n\u001b[0m\u001b[0;32m   1849\u001b[0m     \u001b[1;32mfor\u001b[0m \u001b[0mi\u001b[0m\u001b[1;33m,\u001b[0m \u001b[0marr\u001b[0m \u001b[1;32min\u001b[0m \u001b[0menumerate\u001b[0m\u001b[1;33m(\u001b[0m\u001b[0marrays\u001b[0m\u001b[1;33m)\u001b[0m\u001b[1;33m:\u001b[0m\u001b[1;33m\u001b[0m\u001b[1;33m\u001b[0m\u001b[0m\n\u001b[0;32m   1850\u001b[0m         \u001b[0mstacked\u001b[0m\u001b[1;33m[\u001b[0m\u001b[0mi\u001b[0m\u001b[1;33m]\u001b[0m \u001b[1;33m=\u001b[0m \u001b[0m_asarray_compat\u001b[0m\u001b[1;33m(\u001b[0m\u001b[0marr\u001b[0m\u001b[1;33m)\u001b[0m\u001b[1;33m\u001b[0m\u001b[1;33m\u001b[0m\u001b[0m\n",
      "\u001b[1;31mMemoryError\u001b[0m: Unable to allocate 477. MiB for an array with shape (21, 2974335) and data type object"
     ]
    }
   ],
   "source": [
    "#Reading data from source file\n",
    "\n",
    "accidents_source=pd.read_csv(\"Accident data/US_Accidents_Dec19.csv\")\n"
   ]
  },
  {
   "cell_type": "markdown",
   "metadata": {},
   "source": [
    "### Data cleaning"
   ]
  },
  {
   "cell_type": "code",
   "execution_count": null,
   "metadata": {
    "scrolled": false
   },
   "outputs": [],
   "source": [
    "#Checking size of data\n",
    "\n",
    "accidents_source.size"
   ]
  },
  {
   "cell_type": "code",
   "execution_count": null,
   "metadata": {
    "scrolled": true
   },
   "outputs": [],
   "source": [
    "accidents_source.shape"
   ]
  },
  {
   "cell_type": "code",
   "execution_count": null,
   "metadata": {},
   "outputs": [],
   "source": [
    "#Priniting list of columns in the dataset\n",
    "accidents_source.columns"
   ]
  },
  {
   "cell_type": "code",
   "execution_count": null,
   "metadata": {
    "scrolled": true
   },
   "outputs": [],
   "source": [
    "#Running to see top 5 records in the dataset\n",
    "\n",
    "accidents_source.head()"
   ]
  },
  {
   "cell_type": "code",
   "execution_count": null,
   "metadata": {},
   "outputs": [],
   "source": [
    "# Finding total count of values in each column\n",
    "\n",
    "accidents_source.agg([\"count\"])"
   ]
  },
  {
   "cell_type": "code",
   "execution_count": null,
   "metadata": {
    "scrolled": true
   },
   "outputs": [],
   "source": [
    "# Finding number of null values within each column\n",
    "\n",
    "accidents_source.isna().sum()"
   ]
  },
  {
   "cell_type": "code",
   "execution_count": null,
   "metadata": {
    "scrolled": true
   },
   "outputs": [],
   "source": [
    "accidents_source[\"Source\"].value_counts()\n"
   ]
  },
  {
   "cell_type": "code",
   "execution_count": null,
   "metadata": {},
   "outputs": [],
   "source": []
  },
  {
   "cell_type": "markdown",
   "metadata": {},
   "source": [
    "*The below columns have most of the values as null:</b>\n",
    "\n",
    "1. End_Lat: 2246264 out of 2974335\n",
    "2. End_Lng: 2246264 out of 2974335\n",
    "3. Number: 1917605 out of 2974335\n",
    "4. Wind_Chill(F): 1852623 out of 2974335\n",
    "5. Precipitation(in): 1998358 out of 2974335\n",
    "\n",
    "*The columns <b>End_Lat, End_Lng, Number</b> do not have much significance for our analysis and most of the data is null, the columns will be removed\n",
    "\n",
    "*Since <b>Wind_Chill(F) and Precipitation(in)</b> are weather factors and might be used in analysis of weather factor relationship with accidents.\n",
    "\n",
    "*Column <b>\"ID\"</b> is an identity column for each row and is of no significance in the analysis hence will be removed.\n",
    "\n",
    "*Column <b>\"Source\"</b> has three values: MapQuest (2204098), Bing (728071), MapQuest-Bing(42166) with MapQuest being the source for most of the data. Since our focus is not on the source of the data the column will be removed.\n",
    "\n",
    "*Column <b>\"TMC\"</b> has been removed as it is needed for our analysis.\n",
    "*Column <b>\"Description\"</b> is a brief description of accidents and since other columns provide factors around accidents are provided and sufficient of our analysis, the column is being removed\n",
    "\n",
    "*Colums related to location of Accidents:\n",
    "\n",
    "1. Side : Not relevant for our study\n",
    "2. City: Needed for analysis\n",
    "3. County: Neede fo analysis\n",
    "4. State: Needed for analysis\n",
    "5. Zipcode: Analysis would be based on city, state, county and hence not needed\n",
    "6. Country: The data is for only for country: US and hence removed\n",
    "7. Timezone: Since the time of accident is provided in local timezone and being analyzed based on local timezone and hence being removed\n",
    "8. Airport_Code: Not required in analysis\n",
    "\n",
    "<b>Amenity, Bump, Crossing, Give_Way, Junction, No_Exit, Railway, Roundabout, Station, Stop, Traffic_Calming, Traffic_Signal, Turning_Loop factors</b> are not being analyzed as part of our study and hence removed from data set\n",
    "\n",
    "<b>Civil_Twilight, Nautical_Twilight and Astronomical_Twilight </b> are being removed as analysis on time point would be done using Start_Time of accidents\n",
    "\n",
    "The data provided in the data set is from February 2016 to December 2019 but data before December 2016 will be removed as focus is to analysis data from Winter 2016 to Fall 2019."
   ]
  },
  {
   "cell_type": "code",
   "execution_count": null,
   "metadata": {},
   "outputs": [],
   "source": [
    "#accidents_source[[\"End Date\",\"End Time\"]]=accidents_source[\"End_Time\"].str.split(expand=True)"
   ]
  },
  {
   "cell_type": "code",
   "execution_count": null,
   "metadata": {
    "scrolled": true
   },
   "outputs": [],
   "source": [
    "# Setting list of columns that will used from data source n futher analysis\n",
    "\n",
    "target_columns=['Severity','Start_Time','End_Time','Start_Lat', 'Start_Lng','City', 'County','State',\\\n",
    "                'Zipcode', 'Temperature(F)', 'Wind_Chill(F)', 'Humidity(%)', 'Pressure(in)',\\\n",
    "       'Visibility(mi)', 'Wind_Direction', 'Wind_Speed(mph)','Precipitation(in)', 'Weather_Condition','Sunrise_Sunset']\n"
   ]
  },
  {
   "cell_type": "code",
   "execution_count": null,
   "metadata": {},
   "outputs": [],
   "source": [
    "#Keeping data from December 2016 to reduce size of data and focus on 2017, 2018 and 2019\n",
    "\n",
    "accident_target=accidents_source.loc[accidents_source['Start_Time']>='2016-12-01'][target_columns].reset_index(drop=True)\n"
   ]
  },
  {
   "cell_type": "code",
   "execution_count": null,
   "metadata": {},
   "outputs": [],
   "source": [
    "accident_target.head()"
   ]
  },
  {
   "cell_type": "code",
   "execution_count": null,
   "metadata": {},
   "outputs": [],
   "source": [
    "#Checking datatype for columns in the resultant data-set\n",
    "accident_target.dtypes"
   ]
  },
  {
   "cell_type": "code",
   "execution_count": null,
   "metadata": {},
   "outputs": [],
   "source": [
    "# Changing datatype of Start_Time column to datetime as this column will be used to find \n",
    "#month/year/season/hour for our time analysis\n",
    "accident_target[\"Start_Time\"]=pd.to_datetime(accident_target[\"Start_Time\"],format='%Y-%m-%d %H:%M:%S.%f')"
   ]
  },
  {
   "cell_type": "code",
   "execution_count": null,
   "metadata": {},
   "outputs": [],
   "source": [
    "# Adding a new column \"Start_Year\" for analysis on year\n",
    "accident_target[\"Start_Year\"]=accident_target[\"Start_Time\"].dt.year\n",
    "\n",
    "#accident_target.head()"
   ]
  },
  {
   "cell_type": "code",
   "execution_count": null,
   "metadata": {},
   "outputs": [],
   "source": [
    "#Adding a new column \"Season\" for analysis based on Season in different years\n",
    "#Seasons are being set based on below logic:\n",
    "#months in (Dec,Jan,Feb) then Winter\n",
    "#months in (Mar,Apr,May) the Spring\n",
    "#months in (Jun, Jul, Aug) then Summer\n",
    "#months in (Sep, Oct, Nov) then Fall\n",
    "\n",
    "accident_target[\"Season\"]=np.select(\n",
    "    [\n",
    "        (accident_target[\"Start_Time\"].dt.month== 12) | (accident_target[\"Start_Time\"].dt.month== 1)| (accident_target[\"Start_Time\"].dt.month== 2), \n",
    "        (accident_target[\"Start_Time\"].dt.month== 3) | (accident_target[\"Start_Time\"].dt.month== 4)| (accident_target[\"Start_Time\"].dt.month== 5),\n",
    "        (accident_target[\"Start_Time\"].dt.month== 6) | (accident_target[\"Start_Time\"].dt.month== 7)| (accident_target[\"Start_Time\"].dt.month== 8),\n",
    "        (accident_target[\"Start_Time\"].dt.month== 9) | (accident_target[\"Start_Time\"].dt.month== 10)| (accident_target[\"Start_Time\"].dt.month== 11)\n",
    "        \n",
    "    ], \n",
    "    [\n",
    "        'Winter', \n",
    "        'Spring',\n",
    "        'Summer',\n",
    "        'Fall'\n",
    "    ], \n",
    "    default='Unknown'\n",
    ")\n"
   ]
  },
  {
   "cell_type": "code",
   "execution_count": null,
   "metadata": {},
   "outputs": [],
   "source": [
    "accident_target.head()"
   ]
  },
  {
   "cell_type": "code",
   "execution_count": null,
   "metadata": {},
   "outputs": [],
   "source": [
    "#Writing clean data-set into a csv to create smaller and cleaner file that can be used by individual contributors\n",
    "\n",
    "accident_target.to_csv(\"TargetData/us_accident_clean.csv\",index=False)"
   ]
  },
  {
   "cell_type": "markdown",
   "metadata": {},
   "source": [
    "# Analysis of Location and Population on Number of Accidents"
   ]
  },
  {
   "cell_type": "markdown",
   "metadata": {},
   "source": [
    "## Analysis of states based on Number of Accidents"
   ]
  },
  {
   "cell_type": "code",
   "execution_count": null,
   "metadata": {
    "scrolled": true
   },
   "outputs": [],
   "source": [
    "#Creating Dataframe that contains counts of Accidents per state in each year\n",
    "\n",
    "accident_state_year=pd.DataFrame(accident_target[accident_target[\"Start_Time\"]>='2017-01-01']\\\n",
    "                                 .groupby([\"State\",\"Start_Year\"])[\"Start_Time\"].count())\\\n",
    ".sort_values(\"Start_Time\",ascending=False).reset_index()\n",
    "\n",
    "accident_state_year.columns=[\"State\",\"Year\",\"Accident Count\"]\n",
    "\n",
    "accident_state_year[[\"State\",\"Year\",\"Accident Count\"]].head()\n"
   ]
  },
  {
   "cell_type": "code",
   "execution_count": null,
   "metadata": {
    "scrolled": false
   },
   "outputs": [],
   "source": [
    "#Plotting of Distribution of Accidents in different states\n",
    "\n",
    "plt.figure(figsize=(20,6))\n",
    "_=plt.bar(accident_state_year[\"State\"],accident_state_year[\"Accident Count\"])\n",
    "plt.tight_layout()\n",
    "\n",
    "plt.xlabel(\"State\",fontsize=16)\n",
    "\n",
    "plt.ylabel(\"Number of Accidents\",fontsize=16)\n",
    "\n",
    "_=plt.title(\"Distribution of Accidents in different states in 2017-19\",fontsize=20)\n",
    "\n",
    "plt.savefig(\"Images/Fig1. AccidentsByState.png\",bbox_inches='tight')"
   ]
  },
  {
   "cell_type": "code",
   "execution_count": null,
   "metadata": {},
   "outputs": [],
   "source": [
    "# calculation combined Month and Year for Start of Accident\n",
    "accident_target[\"month_year\"]=accident_target[\"Start_Time\"].dt.year.astype(str)\\\n",
    "+'-'+accident_target[\"Start_Time\"].dt.month.astype(str)"
   ]
  },
  {
   "cell_type": "code",
   "execution_count": null,
   "metadata": {},
   "outputs": [],
   "source": [
    "#accident_target.groupby(\"month_year\")[\"Start_Time\"].count().nlargest(3).index"
   ]
  },
  {
   "cell_type": "code",
   "execution_count": null,
   "metadata": {},
   "outputs": [],
   "source": [
    "#Ceating list of top 3 months of accidents to plot data on maps of number of accidentd\n",
    "\n",
    "max_accident_3mon=[]\n",
    "max_accident_3mon.extend(accident_target.groupby(\"month_year\")[\"Start_Time\"].count().nlargest(3).index)\n",
    "\n",
    "#max_accident_3mon"
   ]
  },
  {
   "cell_type": "code",
   "execution_count": null,
   "metadata": {},
   "outputs": [],
   "source": [
    "#CReating a traget dataframe for plotting number of accidents for top 3 months on gmaps\n",
    "accident_target_max3mon=accident_target.loc[accident_target[\"month_year\"].isin (max_accident_3mon)]"
   ]
  },
  {
   "cell_type": "code",
   "execution_count": null,
   "metadata": {},
   "outputs": [],
   "source": [
    "locations=accident_target_max3mon[[\"Start_Lat\",\"Start_Lng\"]]\n"
   ]
  },
  {
   "cell_type": "code",
   "execution_count": null,
   "metadata": {},
   "outputs": [],
   "source": [
    "# PLotting on google maps using gmaps\n",
    "\n",
    "fig=gmaps.figure()\n",
    "\n",
    "heatmap_layer=gmaps.heatmap_layer(locations,dissipating=False, max_intensity=5,\n",
    "                                 point_radius=0.1)\n",
    "\n",
    "\n",
    "# Add layer\n",
    "fig.add_layer(heatmap_layer)\n",
    "\n",
    "# Display figure\n",
    "fig\n",
    "\n"
   ]
  },
  {
   "cell_type": "markdown",
   "metadata": {},
   "source": [
    "##### The distribution of accidents by state show that California is the state with most accidents by almost the double amount of the number of accidents for Texas followed by Florida and New York in suxth position."
   ]
  },
  {
   "cell_type": "code",
   "execution_count": null,
   "metadata": {},
   "outputs": [],
   "source": []
  },
  {
   "cell_type": "markdown",
   "metadata": {},
   "source": [
    "### 10 Cities with largest number of accidents in 2017-2019"
   ]
  },
  {
   "cell_type": "code",
   "execution_count": null,
   "metadata": {},
   "outputs": [],
   "source": [
    "# Create a datafram of top 10 cities with maximum number of accidents in 2017-2019\n",
    "\n",
    "cities_accidents=accident_target.groupby([\"City\"])[\"Start_Time\"].count().nlargest(10).reset_index()\n",
    "#locations_ca_ny.head()\n",
    "\n",
    "cities_accidents.columns=[\"City\",\"Accident Count\"]"
   ]
  },
  {
   "cell_type": "code",
   "execution_count": null,
   "metadata": {
    "scrolled": false
   },
   "outputs": [],
   "source": [
    "#Ploting 10 Cities vs Accidents\n",
    "plt.figure(figsize=(20,6))\n",
    "_=plt.bar(cities_accidents[\"City\"],cities_accidents[\"Accident Count\"])\n",
    "plt.tight_layout()\n",
    "\n",
    "plt.xlabel(\"City\",fontsize=16)\n",
    "\n",
    "plt.ylabel(\"Number of Accidents\",fontsize=16)\n",
    "\n",
    "_=plt.title(\"Top 10 cities in terms of Accidents in 2017-19\",fontsize=20)\n",
    "\n",
    "plt.savefig(\"Images/Fig2.TopCities_Accident.png\", bbox_inches='tight')"
   ]
  },
  {
   "cell_type": "markdown",
   "metadata": {},
   "source": [
    "##### Though California is the state with most accidents (almost triple than next state with most accidents) but ony one city in California (Los Angeles) is among 10 cities with most accidents\n",
    "\n",
    "Let's see the distribution of accidents in different cities of California and Texas"
   ]
  },
  {
   "cell_type": "code",
   "execution_count": null,
   "metadata": {},
   "outputs": [],
   "source": [
    "accidents_cities_CA_TX=accident_target[accident_target[\"State\"].isin([\"CA\",\"TX\"])]\\\n",
    "                                    .groupby([\"State\",\"City\"])[\"Start_Time\"].count().reset_index()\n",
    "accidents_cities_CA_TX.rename(columns={\"Start_Time\":\"Accident Count\"},inplace=True)\n"
   ]
  },
  {
   "cell_type": "code",
   "execution_count": null,
   "metadata": {},
   "outputs": [],
   "source": [
    "accidents_cities_CA_TX.sort_values([\"Accident Count\"],ascending=False)"
   ]
  },
  {
   "cell_type": "code",
   "execution_count": null,
   "metadata": {},
   "outputs": [],
   "source": [
    "#plt.bar(accidents_cities_CA_TX[\"City\"],accidents_cities_CA_TX[\"Accident Count\"])"
   ]
  },
  {
   "cell_type": "markdown",
   "metadata": {},
   "source": [
    "### Analysis of accidents with Years and Severity"
   ]
  },
  {
   "cell_type": "code",
   "execution_count": null,
   "metadata": {
    "scrolled": true
   },
   "outputs": [],
   "source": [
    "# Extract years of interest and get number of accidents for each year\n",
    "target_years = accident_target[(accident_target[\"Start_Year\"] >= 2017) & (accident_target[\"Start_Year\"] < 2020)]\n",
    "yearly_accidents = target_years.groupby(\"Start_Year\")\n",
    "yearly_counts = yearly_accidents[\"Start_Year\"].count()\n",
    "yearly_counts"
   ]
  },
  {
   "cell_type": "code",
   "execution_count": null,
   "metadata": {},
   "outputs": [],
   "source": [
    "# Plot the number of accidents by year\n",
    "accident_count = yearly_counts.plot(kind=\"bar\", color=\"blue\", figsize=(10,8))\n",
    "plt.title(\"Number of Accidents by Year\", fontweight=\"bold\", fontsize=14)\n",
    "plt.xlabel(\"Year\", fontweight='bold', fontsize=12)\n",
    "plt.ylabel(\"Number of Accidents\", fontweight='bold', fontsize=12)\n",
    "\n",
    "# Save image and show graph\n",
    "plt.savefig(\"Images/Fig3. AccidentsByYear.png\")\n",
    "plt.tight_layout()\n",
    "plt.show();"
   ]
  },
  {
   "cell_type": "markdown",
   "metadata": {},
   "source": [
    "##### Number of accidents seems to show a steady increase each year from 2017 to 2019."
   ]
  },
  {
   "cell_type": "code",
   "execution_count": null,
   "metadata": {
    "scrolled": false
   },
   "outputs": [],
   "source": [
    "# Get severity counts by year\n",
    "severity_counts = yearly_accidents[\"Severity\"].value_counts()\n",
    "severity_counts = severity_counts.to_frame()\n",
    "severity_by_year = severity_counts.rename(columns= {severity_counts.columns[0]: \"Severity Count\"})\n",
    "severity_by_year.reset_index(inplace=True)\n",
    "severity_by_year"
   ]
  },
  {
   "cell_type": "code",
   "execution_count": null,
   "metadata": {},
   "outputs": [],
   "source": [
    "# Create plot to compare accident severity levels by year\n",
    "plt.figure(figsize=(10, 8))\n",
    "barWidth = 0.25\n",
    "\n",
    "# Set height of bar\n",
    "y1 = severity_by_year[severity_by_year[\"Severity\"]==1][\"Severity Count\"].to_list()\n",
    "y2 = severity_by_year[severity_by_year[\"Severity\"]==2][\"Severity Count\"].to_list()\n",
    "y3 = severity_by_year[severity_by_year[\"Severity\"]==3][\"Severity Count\"].to_list()\n",
    "y4 = severity_by_year[severity_by_year[\"Severity\"]==4][\"Severity Count\"].to_list()\n",
    "\n",
    "# Set position of bar on X axis\n",
    "x1 = np.arange(len(y1))\n",
    "x2 = [x + barWidth for x in x1]\n",
    "x3 = [x + barWidth for x in x2]\n",
    "x4 = [x + barWidth for x in x3]\n",
    " \n",
    "# Make the plot\n",
    "plt.bar(x1, y1, color=\"r\", width=barWidth, edgecolor=\"white\", label=\"1\")\n",
    "plt.bar(x2, y2, color=\"b\", width=barWidth, edgecolor=\"white\", label=\"2\")\n",
    "plt.bar(x3, y3, color=\"orange\", width=barWidth, edgecolor=\"white\", label=\"3\")\n",
    "plt.bar(x4, y4, color=\"g\", width=barWidth, edgecolor=\"white\", label=\"4\")\n",
    " \n",
    "# Add xticks and lables\n",
    "plt.title(\"Accident Severity by Year\", fontweight=\"bold\", fontsize=14)\n",
    "plt.xlabel(\"Severity Level\", fontweight=\"bold\", fontsize=12)\n",
    "plt.ylabel(\"Severity Count\", fontweight=\"bold\", fontsize=12)\n",
    "plt.xticks([r + barWidth for r in range(len(y1))], [\"2017\", \"2018\", \"2019\"])\n",
    " \n",
    "# Create legend, save image and show graph\n",
    "plt.legend()\n",
    "plt.savefig(\"Images/Fig4. SeverityByYear.png\")\n",
    "plt.show();\n"
   ]
  },
  {
   "cell_type": "markdown",
   "metadata": {},
   "source": [
    "##### Severity of accidents by year. The graph shows that the level of severity of 2 is the most frequent, followed by 3 with 1 and 4 being very minimal by comparison. Severity level in this case is as follows: 1 indicates the least impact on traffic (i.e., short delay) and 4 indicates major impact on traffic (i.e. long delay)"
   ]
  },
  {
   "cell_type": "code",
   "execution_count": null,
   "metadata": {
    "scrolled": false
   },
   "outputs": [],
   "source": [
    "# Create a pie chart to showcase the percentage of each severity \n",
    "plt.figure(figsize=(10, 8))\n",
    "accident_target[\"Severity\"].value_counts().plot.pie(explode=[0.1,0,0,0],autopct=\"%1.1f%%\",shadow=True)\n",
    "plt.title(\"Accident Severity by Percentage (Cumulative) Dec. 2016-Dec.2019\", fontweight=\"bold\", fontsize=14)\n",
    "plt.ylabel(\"Severity Count\",fontweight=\"bold\", fontsize=12)\n",
    "plt.axis(\"equal\")\n",
    "\n",
    "# Save image and show graph\n",
    "plt.savefig(\"Images/Fig5. TotalSeverity.png\")\n",
    "plt.tight_layout()\n",
    "plt.show()"
   ]
  },
  {
   "cell_type": "markdown",
   "metadata": {},
   "source": [
    "##### Chart showing the cumulative percentage of accidents based on severity level. This again shows that most accidents cause medium and moderate delay in traffic accounts for approx. 97% of all accidents between December 2016 to December 2019."
   ]
  },
  {
   "cell_type": "code",
   "execution_count": null,
   "metadata": {},
   "outputs": [],
   "source": []
  },
  {
   "cell_type": "markdown",
   "metadata": {},
   "source": [
    "## Relationship of accidents with population density in different states"
   ]
  },
  {
   "cell_type": "code",
   "execution_count": null,
   "metadata": {},
   "outputs": [],
   "source": [
    "# Finding population and other census data using census api for all states in USA\n",
    "\n",
    "census_state = c.acs5.state((\"NAME\", \"B19013_001E\", \"B01003_001E\", \"B01002_001E\",\n",
    "                          \"B19301_001E\",\n",
    "                          \"B17001_002E\",\n",
    "                          \"B23025_005E\"), Census.ALL)"
   ]
  },
  {
   "cell_type": "code",
   "execution_count": null,
   "metadata": {},
   "outputs": [],
   "source": [
    "# Creating dataframe of census and renaming column\n",
    "\n",
    "census_state_df=pd.DataFrame(census_state)\n",
    "\n",
    "census_state_df.rename(columns={\"NAME\":\"State\",\n",
    "                                \"B01003_001E\": \"Population\",\n",
    "                                \"B01002_001E\": \"Median Age\",\n",
    "                                \"B19013_001E\": \"Household Income\",\n",
    "                                \"B19301_001E\": \"Per Capita Income\",\n",
    "                                \"B17001_002E\": \"Poverty Count\",\n",
    "                                \"B23025_005E\": \"Unemployment Count\"}, inplace=True)\n",
    "\n",
    "census_state_df.head()"
   ]
  },
  {
   "cell_type": "code",
   "execution_count": null,
   "metadata": {},
   "outputs": [],
   "source": [
    "# We have states name in census data but abbreviation in accident dataset.. \n",
    "#Importing an excel for mapping of abbreviation and name into a dataframe\n",
    "accident_state_abbrev=pd.read_excel(\"state_abbrev.xlsx\")"
   ]
  },
  {
   "cell_type": "code",
   "execution_count": null,
   "metadata": {
    "scrolled": false
   },
   "outputs": [],
   "source": [
    "accident_state_abbrev.head()"
   ]
  },
  {
   "cell_type": "code",
   "execution_count": null,
   "metadata": {},
   "outputs": [],
   "source": [
    "#Creating datframe for accident count by state\n",
    "\n",
    "accident_states=pd.DataFrame(accident_target.groupby([\"State\"])[\"Start_Time\"].count().reset_index())\n",
    "accident_states.columns=[\"State\",\"Accident Count\"]"
   ]
  },
  {
   "cell_type": "code",
   "execution_count": null,
   "metadata": {
    "scrolled": false
   },
   "outputs": [],
   "source": [
    "accident_states.head()"
   ]
  },
  {
   "cell_type": "code",
   "execution_count": null,
   "metadata": {
    "scrolled": true
   },
   "outputs": [],
   "source": [
    "# Creating dataframe for accident count per state with names of state added from state abbreviation dataframe\n",
    "\n",
    "accident_states_df=accident_states.merge(accident_state_abbrev,left_on=\"State\",right_on=\"Abbreviation\").drop(\"State_x\",axis=1)\n",
    "#[\"State_y\",\"Abbreviation\",\"Accident Count\"]\n",
    "accident_states_df.rename(columns={\"State_y\":\"State\"},inplace=True)\n",
    "\n",
    "#accident_states_df.head()"
   ]
  },
  {
   "cell_type": "code",
   "execution_count": null,
   "metadata": {},
   "outputs": [],
   "source": [
    "#Creating a dataframe containing census and accident count for each state\n",
    "\n",
    "accident_states_population=accident_states_df.merge(census_state_df,on=\"State\")\n",
    "\n",
    "accident_states_population[\"Population(mil)\"]=accident_states_population[\"Population\"]/1000000\n",
    "\n",
    "accident_states_population.head()"
   ]
  },
  {
   "cell_type": "code",
   "execution_count": null,
   "metadata": {},
   "outputs": [],
   "source": [
    "# Plotting Distribution of Accidents vs Population in States\n",
    "\n",
    "x_axis=accident_states_population[\"Population(mil)\"]\n",
    "y_axis=accident_states_population[\"Accident Count\"]\n",
    "\n",
    "plt.figure(figsize=(10,6))\n",
    "plt.scatter(x_axis,y_axis,facecolor=\"red\",edgecolor=\"grey\")\n",
    "\n",
    "plt.title(\"Distribution of Accidents vs Population in States\",fontsize=16)\n",
    "plt.xlabel(\"Population in millions\",fontsize=16)\n",
    "_=plt.ylabel(\"Number of Accidents\",fontsize=16)\n",
    "\n",
    "plt.savefig(\"Images/Fig6. Accident_Population_State.png\")"
   ]
  },
  {
   "cell_type": "markdown",
   "metadata": {},
   "source": [
    "##### It can be inferred from the graph that state with more population witness more accidents"
   ]
  },
  {
   "cell_type": "markdown",
   "metadata": {},
   "source": [
    "### Distribution of number of accidents against population in counties of California"
   ]
  },
  {
   "cell_type": "code",
   "execution_count": null,
   "metadata": {},
   "outputs": [],
   "source": []
  },
  {
   "cell_type": "code",
   "execution_count": null,
   "metadata": {},
   "outputs": [],
   "source": [
    "# Finding population and other census data using census api for all states and counties in USA\n",
    "\n",
    "census_state_county=c.acs5.state_county((\"NAME\", \"B19013_001E\", \"B01003_001E\", \"B01002_001E\",\n",
    "                          \"B19301_001E\",\n",
    "                          \"B17001_002E\",\n",
    "                          \"B23025_005E\"), Census.ALL, Census.ALL)\n"
   ]
  },
  {
   "cell_type": "code",
   "execution_count": null,
   "metadata": {},
   "outputs": [],
   "source": [
    "#Creating dataframe for census data using census api for all states and counties in USA\n",
    "#County and State name is combined in one column Name\n",
    "#Using split function to split data into two columns in dataframe\n",
    "\n",
    "census_state_county_df=pd.DataFrame(census_state_county)\n",
    "\n",
    "census_state_county_df[[\"County\",\"State\"]]=census_state_county_df[\"NAME\"].str.split(', ',expand=True)\n",
    "\n",
    "census_state_county_df.rename(columns={\"B01003_001E\": \"Population\",\n",
    "                                \"B01002_001E\": \"Median Age\",\n",
    "                                \"B19013_001E\": \"Household Income\",\n",
    "                                \"B19301_001E\": \"Per Capita Income\",\n",
    "                                \"B17001_002E\": \"Poverty Count\",\n",
    "                                \"B23025_005E\": \"Unemployment Count\"}, inplace=True)\n",
    "\n",
    "census_state_county_df.head()"
   ]
  },
  {
   "cell_type": "code",
   "execution_count": null,
   "metadata": {},
   "outputs": [],
   "source": [
    "# CReating dataframe to get census data only for california\n",
    "# Since County name contains County in Census data but not in Accidents data; remove text ' county' from county name in census data\n",
    "\n",
    "census_ca_county_df=census_state_county_df[census_state_county_df[\"State\"]==\"California\"]\n",
    "\n",
    "#census_state_county_df[census_state_county_df.county.str.endswith('County')]\n",
    "census_ca_county_df[\"County\"].str.replace(' County','')\n",
    "\n",
    "census_ca_county_df[\"County\"]=census_ca_county_df[\"County\"].str.replace(' County','')\n",
    "\n",
    "census_ca_county_df.head()\n",
    "\n",
    "#census_ca_county_df[\"County\"].unique()"
   ]
  },
  {
   "cell_type": "code",
   "execution_count": null,
   "metadata": {},
   "outputs": [],
   "source": [
    "#Create dataframe for acident by state and city\n",
    "\n",
    "accident_states_county=pd.DataFrame(accident_target.groupby([\"State\",\"County\"])[\"Start_Time\"].count().reset_index())\n",
    "accident_states_county.columns=[\"State\",\"County\",\"Accident Count\"]"
   ]
  },
  {
   "cell_type": "code",
   "execution_count": null,
   "metadata": {},
   "outputs": [],
   "source": [
    "# mErge with State Abbreviation and name dataframe to add state name in the column\n",
    "\n",
    "accident_states_county_df=accident_states_county.merge(accident_state_abbrev,left_on=\"State\",right_on=\"Abbreviation\").drop(\"State_x\",axis=1)\n",
    "#[\"State_y\",\"Abbreviation\",\"Accident Count\"]\n",
    "accident_states_county_df.rename(columns={\"State_y\":\"State\"},inplace=True)\n",
    "\n",
    "accident_states_county_df.head()"
   ]
  },
  {
   "cell_type": "code",
   "execution_count": null,
   "metadata": {},
   "outputs": [],
   "source": [
    "#Create dataframe with accident data for california county along with census data\n",
    "accident_county_population_ca=accident_states_county_df.merge(census_ca_county_df,on=[\"State\",\"County\"])\n",
    "\n",
    "accident_county_population_ca[\"Population(tenthou)\"]=accident_county_population_ca[\"Population\"]/10000\n",
    "\n",
    "accident_county_population_ca.head()"
   ]
  },
  {
   "cell_type": "code",
   "execution_count": null,
   "metadata": {},
   "outputs": [],
   "source": [
    "#Plotting distribution of accidents vs population in counties in california\n",
    "\n",
    "x_axis=accident_county_population_ca[\"Population(tenthou)\"]\n",
    "y_axis=accident_county_population_ca[\"Accident Count\"]\n",
    "\n",
    "plt.figure(figsize=(10,6))\n",
    "plt.scatter(x_axis,y_axis,facecolor=\"red\",edgecolor=\"grey\")\n",
    "\n",
    "plt.title(\"Distribution of Accidents vs Population in Counties in California\",fontsize=16)\n",
    "plt.xlabel(\"Population in ten thousands\",fontsize=16)\n",
    "_=plt.ylabel(\"Number of Accidents\",fontsize=16)\n",
    "\n",
    "plt.savefig(\"Images/Fig7. Accident_Population_County_CA.png\")\n",
    "\n",
    "plt.tight_layout()\n",
    "#for i, text in enumerate(accident_county_population_ca.loc[accident_county_population_ca[\"Accident Count\"]>25000,\"County\"]):\n",
    "#   plt.annotate(text,(x_axis[i],y_axis[i]))"
   ]
  },
  {
   "cell_type": "code",
   "execution_count": null,
   "metadata": {
    "scrolled": false
   },
   "outputs": [],
   "source": [
    "#Top 10 counties in terms of Accident Count\n",
    "\n",
    "accident_county_population_ca[[\"County\",\"Population\",\"Accident Count\"]].sort_values(\"Accident Count\",ascending=False).head(10)"
   ]
  },
  {
   "cell_type": "markdown",
   "metadata": {},
   "source": [
    "##### It is very evident from the graph that Los Angeles is worst affected county in california in terms of number of accidents and one of the factor reponsible for that is due to very large population in Los Angeles compared to other counties in California and has skewed the number of accidents in California compared to other states."
   ]
  },
  {
   "cell_type": "markdown",
   "metadata": {},
   "source": [
    "# Time Analysis"
   ]
  },
  {
   "cell_type": "code",
   "execution_count": null,
   "metadata": {
    "scrolled": true
   },
   "outputs": [],
   "source": [
    "accident_target.count()"
   ]
  },
  {
   "cell_type": "markdown",
   "metadata": {},
   "source": [
    "### Analyze accidents across seasons"
   ]
  },
  {
   "cell_type": "code",
   "execution_count": null,
   "metadata": {},
   "outputs": [],
   "source": [
    "#Combining season and year into one column\n",
    "\n",
    "accident_target[\"Season_Year\"]=np.select(\n",
    "    [\n",
    "        (accident_target[\"Start_Time\"].dt.month== 1)| (accident_target[\"Start_Time\"].dt.month== 2) \n",
    "    ], \n",
    "    [\n",
    "       (accident_target[\"Start_Year\"]-1).astype(str)+'-'+accident_target[\"Season\"]\n",
    "    ], \n",
    "    default=accident_target[\"Start_Year\"].astype(str)+'-'+accident_target[\"Season\"]\n",
    ")\n"
   ]
  },
  {
   "cell_type": "code",
   "execution_count": null,
   "metadata": {},
   "outputs": [],
   "source": [
    "accident_target[\"Season_Year\"].unique()"
   ]
  },
  {
   "cell_type": "code",
   "execution_count": null,
   "metadata": {},
   "outputs": [],
   "source": [
    "# Removing Winter-2019 as ther is only one month for Winter -2019\n",
    "\n",
    "accident_target.loc[accident_target[\"Season_Year\"]!='2019-Winter'].groupby(\"Season_Year\")[\"Start_Time\"].count()"
   ]
  },
  {
   "cell_type": "code",
   "execution_count": null,
   "metadata": {},
   "outputs": [],
   "source": [
    "# Creating dataframe for season-year and count of Accidents\n",
    "accident_season_year_us=pd.DataFrame(accident_target.loc[accident_target[\"Season_Year\"]!='2019-Winter'].groupby(\"Season_Year\")[\"Start_Time\"].count()).reset_index()"
   ]
  },
  {
   "cell_type": "code",
   "execution_count": null,
   "metadata": {},
   "outputs": [],
   "source": [
    "# Changing the order of rows since Winter should be followed by Spring followed by Summer \n",
    "#and followed by Fall otherwise the data would not show in a sequence of seasons while plotting\n",
    "\n",
    "accident_season_year_us.rename(columns={\"Start_Time\":\"Accident Count\"},inplace=True)\n",
    "accident_season_year_us=accident_season_year_us.reindex([0,2,3,1,4,6,7,5,8,10,11,9]).reset_index(drop=True)\n",
    "\n",
    "accident_season_year_us"
   ]
  },
  {
   "cell_type": "code",
   "execution_count": null,
   "metadata": {
    "scrolled": true
   },
   "outputs": [],
   "source": [
    "plt.figure(figsize=(20,6))\n",
    "plt.bar(accident_season_year_us[\"Season_Year\"],accident_season_year_us[\"Accident Count\"],alpha=1.0,color=\"red\",align=\"center\")\n",
    "_=plt.xticks(rotation=30)\n",
    "plt.tight_layout()\n",
    "\n",
    "plt.xlabel(\"Seasons\",fontsize=16)\n",
    "plt.ylabel(\"Number of Accidents\",fontsize=16)\n",
    "\n",
    "_=plt.title(\"Distribution of Accidents in different seasons across dataset\",fontsize=20)\n",
    "\n",
    "plt.savefig(\"Images\\Fig8. Accidents_vs_Seasons.png\")"
   ]
  },
  {
   "cell_type": "markdown",
   "metadata": {},
   "source": [
    "###### Fall and Winters are the seasons in which most accidents happend compared to other seasons with most accidents happening in Fall in 2017-2019."
   ]
  },
  {
   "cell_type": "markdown",
   "metadata": {},
   "source": [
    "### Analysis by Month"
   ]
  },
  {
   "cell_type": "code",
   "execution_count": null,
   "metadata": {},
   "outputs": [],
   "source": [
    "#Calling the initial data and creating a new dataFrame\n",
    "accident_target[\"Start_Year\"]=accident_target[\"Start_Time\"].dt.year\n",
    "accident_target[\"Start_Month\"]=accident_target[\"Start_Time\"].dt.month\n",
    "accident_target[\"Start_Date_Only\"]=accident_target[\"Start_Time\"].dt.date"
   ]
  },
  {
   "cell_type": "code",
   "execution_count": null,
   "metadata": {},
   "outputs": [],
   "source": [
    "#Calling the initial data and creating a new column for hour\n",
    "accident_target[\"Hour\"]=accident_target[\"Start_Time\"].dt.hour\n"
   ]
  },
  {
   "cell_type": "code",
   "execution_count": null,
   "metadata": {},
   "outputs": [],
   "source": [
    "accident_target.head()"
   ]
  },
  {
   "cell_type": "code",
   "execution_count": null,
   "metadata": {},
   "outputs": [],
   "source": [
    "#Creating df for each year to evaluate the number of accidents for each month in each year\n",
    "accidents_2016_df = accident_target.loc[accident_target['Start_Year']==2016].sort_values(by='Start_Month', ascending=True)\n",
    "accidents_2017_df = accident_target.loc[accident_target['Start_Year']==2017].sort_values(by='Start_Month', ascending=True)\n",
    "accidents_2018_df = accident_target.loc[accident_target['Start_Year']==2018].sort_values(by='Start_Month', ascending=True)\n",
    "accidents_2019_df = accident_target.loc[accident_target['Start_Year']==2019].sort_values(by='Start_Month', ascending=True)\n",
    "accidents_2016_df.head()"
   ]
  },
  {
   "cell_type": "code",
   "execution_count": null,
   "metadata": {},
   "outputs": [],
   "source": [
    "#Creating new df for accidents per month of each year\n",
    "accidents_per_month_2016 = accidents_2016_df.groupby(accidents_2016_df['Start_Month']).count()\n",
    "accidents_per_month_2017 = accidents_2017_df.groupby(accidents_2017_df['Start_Month']).count()\n",
    "accidents_per_month_2018 = accidents_2018_df.groupby(accidents_2018_df['Start_Month']).count()\n",
    "accidents_per_month_2019 = accidents_2019_df.groupby(accidents_2019_df['Start_Month']).count()\n",
    "accidents_per_month_2019.head()"
   ]
  },
  {
   "cell_type": "code",
   "execution_count": null,
   "metadata": {},
   "outputs": [],
   "source": [
    "#Plot will show distribution of accidents for each year\n",
    "#List of months\n",
    "months = [1,2,3,4,5,6,7,8,9,10,11,12]\n",
    "month_names = ['Jan', 'Feb', 'Mar', 'Apr', 'May', 'Jun', 'Jul', 'Aug', 'Sep', 'Oct', 'Nov', 'Dec']\n",
    "#Plotting the number of accidents per month for each year\n",
    "\n",
    "plt.figure(figsize=(10, 8))\n",
    "plt.plot(months, accidents_per_month_2017['Start_Date_Only'], color=\"blue\", label=\"2017\")\n",
    "plt.plot(months, accidents_per_month_2018['Start_Date_Only'], color=\"red\", label=\"2018\")\n",
    "plt.plot(months, accidents_per_month_2019['Start_Date_Only'], color=\"orange\", label=\"2019\")\n",
    "\n",
    "# Place a legend on the chart in what matplotlib believes to be the \"best\" location\n",
    "plt.legend(loc=\"best\")\n",
    "\n",
    "plt.title(\"Accidents per month for each year\")\n",
    "plt.xlabel(\"Months\")\n",
    "plt.ylabel(\"Number of accidents\")\n",
    "plt.xticks(months, month_names,rotation=90)\n",
    "plt.savefig(\"Images/Fig9. AccidentsPerMonthLine.png\")\n",
    "\n",
    "# Print our chart to the screen\n",
    "plt.show();"
   ]
  },
  {
   "cell_type": "markdown",
   "metadata": {},
   "source": [
    "##### Accidents per month for the years 2017, 2018 and 2019 show a slight increase in number of accidents in the later part of the year, starting August, with 2018 showing a decrease in December. "
   ]
  },
  {
   "cell_type": "code",
   "execution_count": null,
   "metadata": {},
   "outputs": [],
   "source": [
    "#Creating df for California and NY to evaluate the number of accidents for each month in each year\n",
    "#California\n",
    "accidents_CA_2016_df = accident_target.loc[(accident_target['State']=='CA') & (accident_target['Start_Year']==2016)].sort_values(by='Start_Month', ascending=True)\n",
    "accidents_CA_2017_df = accident_target.loc[(accident_target['State']=='CA') & (accident_target['Start_Year']==2017)].sort_values(by='Start_Month', ascending=True)\n",
    "accidents_CA_2018_df = accident_target.loc[(accident_target['State']=='CA') & (accident_target['Start_Year']==2018)].sort_values(by='Start_Month', ascending=True)\n",
    "accidents_CA_2019_df = accident_target.loc[(accident_target['State']=='CA') & (accident_target['Start_Year']==2019)].sort_values(by='Start_Month', ascending=True)\n",
    "\n",
    "accidents_CA_2019_df.head()\n",
    "\n",
    "#New York\n",
    "accidents_NY_2016_df = accident_target.loc[(accident_target['State']=='NY') & (accident_target['Start_Year']==2016)].sort_values(by='Start_Month', ascending=True)\n",
    "accidents_NY_2017_df = accident_target.loc[(accident_target['State']=='NY') & (accident_target['Start_Year']==2017)].sort_values(by='Start_Month', ascending=True)\n",
    "accidents_NY_2018_df = accident_target.loc[(accident_target['State']=='NY') & (accident_target['Start_Year']==2018)].sort_values(by='Start_Month', ascending=True)\n",
    "accidents_NY_2019_df = accident_target.loc[(accident_target['State']=='NY') & (accident_target['Start_Year']==2019)].sort_values(by='Start_Month', ascending=True)\n",
    "\n",
    "accidents_NY_2019_df.head()"
   ]
  },
  {
   "cell_type": "code",
   "execution_count": null,
   "metadata": {},
   "outputs": [],
   "source": [
    "#Grouping by month for California and counting accidents\n",
    "accidents_per_month_2016_CA = accidents_CA_2016_df.groupby(accidents_CA_2016_df['Start_Month']).count()\n",
    "accidents_per_month_2017_CA = accidents_CA_2017_df.groupby(accidents_CA_2017_df['Start_Month']).count()\n",
    "accidents_per_month_2018_CA = accidents_CA_2018_df.groupby(accidents_CA_2018_df['Start_Month']).count()\n",
    "accidents_per_month_2019_CA = accidents_CA_2019_df.groupby(accidents_CA_2019_df['Start_Month']).count()\n",
    "accidents_per_month_2019_CA\n",
    "\n",
    "#Grouping by month for NY and counting accidents\n",
    "accidents_per_month_2016_NY = accidents_NY_2016_df.groupby(accidents_NY_2016_df['Start_Month']).count()\n",
    "accidents_per_month_2017_NY = accidents_NY_2017_df.groupby(accidents_NY_2017_df['Start_Month']).count()\n",
    "accidents_per_month_2018_NY = accidents_NY_2018_df.groupby(accidents_NY_2018_df['Start_Month']).count()\n",
    "accidents_per_month_2019_NY = accidents_NY_2019_df.groupby(accidents_NY_2019_df['Start_Month']).count()\n",
    "accidents_per_month_2019_NY.head()"
   ]
  },
  {
   "cell_type": "code",
   "execution_count": null,
   "metadata": {},
   "outputs": [],
   "source": [
    "#Plot will show distribution of accidents for each year in California\n",
    "#List of months\n",
    "months = [1,2,3,4,5,6,7,8,9,10,11,12]\n",
    "\n",
    "#Plotting the number of accidents per month for each year\n",
    "\n",
    "plt.figure(figsize=(10, 8))\n",
    "plt.plot(months, accidents_per_month_2017_CA['Start_Date_Only'], color=\"blue\", label=\"2017\")\n",
    "plt.plot(months, accidents_per_month_2018_CA['Start_Date_Only'], color=\"red\", label=\"2018\")\n",
    "plt.plot(months, accidents_per_month_2019_CA['Start_Date_Only'], color=\"orange\", label=\"2019\")\n",
    "\n",
    "\n",
    "# Place a legend on the chart in what matplotlib believes to be the \"best\" location\n",
    "plt.legend(loc=\"best\")\n",
    "\n",
    "plt.title(\"Accidents per month for each year for California\")\n",
    "plt.xlabel(\"Months\")\n",
    "plt.ylabel(\"Number of accidents\")\n",
    "plt.xticks(months, month_names,rotation=90)\n",
    "plt.savefig(\"Images/Fig10. AccidentsPerMonthLineCAL.png\")\n",
    "\n",
    "# Print our chart to the screen\n",
    "plt.show();"
   ]
  },
  {
   "cell_type": "markdown",
   "metadata": {},
   "source": [
    "##### Accidents per month for California in 2017, 2018 and 2019. California does not necesarily show an increase in number of accidents towards the later part of the year for 2017 and 2018, with only an obvious peak in accidents for 2019. "
   ]
  },
  {
   "cell_type": "code",
   "execution_count": null,
   "metadata": {
    "scrolled": true
   },
   "outputs": [],
   "source": [
    "#Plot will show distribution of accidents for each year in New York\n",
    "#List of months\n",
    "months = [1,2,3,4,5,6,7,8,9,10,11,12]\n",
    "\n",
    "#Plotting the number of accidents per month for each year\n",
    "\n",
    "plt.figure(figsize=(10, 8))\n",
    "plt.plot(months, accidents_per_month_2017_NY['Start_Date_Only'], color=\"blue\", label=\"2017\")\n",
    "plt.plot(months, accidents_per_month_2018_NY['Start_Date_Only'], color=\"red\", label=\"2018\")\n",
    "plt.plot(months, accidents_per_month_2019_NY['Start_Date_Only'], color=\"orange\", label=\"2019\")\n",
    "\n",
    "\n",
    "# Place a legend on the chart in what matplotlib believes to be the \"best\" location\n",
    "plt.legend(loc=\"best\")\n",
    "\n",
    "plt.title(\"Accidents per month for each year for NY\")\n",
    "plt.xlabel(\"Months\")\n",
    "plt.ylabel(\"Number of accidents\")\n",
    "plt.xticks(months, month_names,rotation=90)\n",
    "plt.savefig(\"Images/Fig11. AccidentsPerMonthLineNY.png\")\n",
    "\n",
    "# Print our chart to the screen\n",
    "plt.show()"
   ]
  },
  {
   "cell_type": "markdown",
   "metadata": {},
   "source": [
    "##### In New York State there doesn't seem to be any change in number of accidents throughout the year for 2019 with some months dropping and some other months increasing the number randomly. However for 2017 and 2018 there it can be seen that there is an increase in number of accidents after August. "
   ]
  },
  {
   "cell_type": "code",
   "execution_count": null,
   "metadata": {},
   "outputs": [],
   "source": [
    "#Plot will show distribution of accidents for California and for New York in the year 2019\n",
    "#List of months\n",
    "months = [1,2,3,4,5,6,7,8,9,10,11,12]\n",
    "\n",
    "#Plotting the number of accidents per month for California in 2019\n",
    "plt.figure(figsize=(10, 8))\n",
    "plt.plot(months, accidents_per_month_2019_CA['Start_Date_Only'], color=\"blue\", label=\"CA\")\n",
    "\n",
    "#Plotting the number of accidents per month for New York in 2019\n",
    "plt.plot(months, accidents_per_month_2019_NY['Start_Date_Only'], color=\"red\", label=\"NY\")\n",
    "\n",
    "\n",
    "\n",
    "# Place a legend on the chart in what matplotlib believes to be the \"best\" location\n",
    "plt.legend(loc=\"best\")\n",
    "\n",
    "plt.title(\"Accidents per month for 2019 for CA and NY\")\n",
    "plt.xlabel(\"Months\")\n",
    "plt.ylabel(\"Number of accidents\")\n",
    "plt.xticks(months, month_names,rotation=90)\n",
    "plt.savefig(\"Images/Fig12. AccidentsPerMonthLineNYca2019_.png\")\n",
    "\n",
    "# Print our chart to the screen\n",
    "plt.show()"
   ]
  },
  {
   "cell_type": "markdown",
   "metadata": {},
   "source": [
    "##### When we compare California and New York the previous observations remain. For 2019 there is an increase in number of accidents towards the end of the year for California but not for New York. "
   ]
  },
  {
   "cell_type": "markdown",
   "metadata": {},
   "source": [
    "### Time of Hour Analysis"
   ]
  },
  {
   "cell_type": "code",
   "execution_count": null,
   "metadata": {},
   "outputs": [],
   "source": [
    "#Grouping by hour and counting accidents for the whole dataset\n",
    "accidents_per_hour = accident_target.groupby(accident_target['Hour']).count()\n",
    "accidents_per_hour.head()"
   ]
  },
  {
   "cell_type": "code",
   "execution_count": null,
   "metadata": {},
   "outputs": [],
   "source": [
    "#Plot will show distribution of accidents throughout the hours of the day for the whole dataset\n",
    "#List of hours\n",
    "hours = accidents_per_hour.index\n",
    "\n",
    "#Plotting the number of accidents per hour\n",
    "plt.figure(figsize=(10, 8))\n",
    "plt.plot(hours, accidents_per_hour['Start_Date_Only'], color=\"blue\", label=\"Number of accidents\")\n",
    "\n",
    "# Place a legend on the chart in what matplotlib believes to be the \"best\" location\n",
    "plt.legend(loc=\"best\")\n",
    "\n",
    "plt.title(\"Number of accidents per hour Dec2016-Dec2019\")\n",
    "plt.xlabel(\"Hours\")\n",
    "plt.ylabel(\"Number of accidents\")\n",
    "plt.xticks(hours, hours ,rotation=0)\n",
    "plt.savefig(\"Images/Fig13. AccidentsPerHour.png\")\n",
    "\n",
    "# Print our chart to the screen\n",
    "plt.show()"
   ]
  },
  {
   "cell_type": "markdown",
   "metadata": {},
   "source": [
    "##### This graph shows the hourly distribution of accidents. It is very obvious that there is a larger number of accidents occuring during rush hours in the morning between 7am and 9am and in the afternoon between 4pm and 6pm. "
   ]
  },
  {
   "cell_type": "code",
   "execution_count": null,
   "metadata": {},
   "outputs": [],
   "source": [
    "#Cresting the Dataframe with the whole data for CA, NY\n",
    "accidents_CA = accident_target.loc[accident_target['State']=='CA']\n",
    "accidents_NY = accident_target.loc[accident_target['State']=='NY']"
   ]
  },
  {
   "cell_type": "code",
   "execution_count": null,
   "metadata": {},
   "outputs": [],
   "source": [
    "#Grouping by month for California and counting accidents\n",
    "accidents_per_hour_CA = accidents_CA.groupby(accidents_CA['Hour']).count()\n",
    "\n",
    "#Grouping by month for NY and counting accidents\n",
    "accidents_per_hour_NY = accidents_NY.groupby(accidents_NY['Hour']).count()"
   ]
  },
  {
   "cell_type": "code",
   "execution_count": null,
   "metadata": {
    "scrolled": true
   },
   "outputs": [],
   "source": [
    "#Plot will show distribution of accidents throughout the hours of the day for California and New York\n",
    "#List of hours\n",
    "hours = accidents_per_hour.index\n",
    "\n",
    "#Plotting the number of accidents per hour in California\n",
    "plt.figure(figsize=(10, 8))\n",
    "plt.plot(hours, accidents_per_hour_CA['Start_Date_Only'], color=\"blue\", label=\"CA\")\n",
    "\n",
    "#Plotting the number of accidents per hour in New York\n",
    "plt.plot(hours, accidents_per_hour_NY['Start_Date_Only'], color=\"red\", label=\"NY\")\n",
    "\n",
    "# Place a legend on the chart in what matplotlib believes to be the \"best\" location\n",
    "plt.legend(loc=\"best\")\n",
    "\n",
    "plt.title(\"Number of accidents per hour in California and New York Dec2016-Dec2019\")\n",
    "plt.xlabel(\"Hours\")\n",
    "plt.ylabel(\"Number of accidents\")\n",
    "plt.xticks(hours, hours ,rotation=0)\n",
    "plt.savefig(\"Images/Fig14. AccidentsPerHourCALny.png\")\n",
    "\n",
    "# Print our chart to the screen\n",
    "plt.show()"
   ]
  },
  {
   "cell_type": "markdown",
   "metadata": {},
   "source": [
    "##### The relation of number of accidents to rush hour is present here for New York and California with a most obvious peak in California in both morning and afternoon rush hour but only for morning rush hour in New York. "
   ]
  },
  {
   "cell_type": "code",
   "execution_count": null,
   "metadata": {},
   "outputs": [],
   "source": [
    "#Grouping by month for California and counting accidents\n",
    "accidents_per_hour_2016_CA = accidents_CA_2016_df.groupby(accidents_CA_2016_df['Hour']).count()\n",
    "accidents_per_hour_2017_CA = accidents_CA_2017_df.groupby(accidents_CA_2017_df['Hour']).count()\n",
    "accidents_per_hour_2018_CA = accidents_CA_2018_df.groupby(accidents_CA_2018_df['Hour']).count()\n",
    "accidents_per_hour_2019_CA = accidents_CA_2019_df.groupby(accidents_CA_2019_df['Hour']).count()\n",
    "accidents_per_hour_2019_CA\n",
    "\n",
    "#Grouping by month for NY and counting accidents\n",
    "accidents_per_hour_2016_NY = accidents_NY_2016_df.groupby(accidents_NY_2016_df['Hour']).count()\n",
    "accidents_per_hour_2017_NY = accidents_NY_2017_df.groupby(accidents_NY_2017_df['Hour']).count()\n",
    "accidents_per_hour_2018_NY = accidents_NY_2018_df.groupby(accidents_NY_2018_df['Hour']).count()\n",
    "accidents_per_hour_2019_NY = accidents_NY_2019_df.groupby(accidents_NY_2019_df['Hour']).count()\n",
    "accidents_per_hour_2019_NY.head()"
   ]
  },
  {
   "cell_type": "code",
   "execution_count": null,
   "metadata": {},
   "outputs": [],
   "source": [
    "#Plot will show distribution of accidents throughout the hours of the day for California and New York in 2019\n",
    "#List of hours\n",
    "hours = accidents_per_hour.index\n",
    "\n",
    "#Plotting the number of accidents per hour in California\n",
    "plt.figure(figsize=(10, 8))\n",
    "plt.plot(hours, accidents_per_hour_2019_CA['Start_Date_Only'], color=\"blue\", label=\"CA\")\n",
    "\n",
    "#Plotting the number of accidents per hour in New York\n",
    "plt.plot(hours, accidents_per_hour_2019_NY['Start_Date_Only'], color=\"red\", label=\"NY\")\n",
    "\n",
    "# Place a legend on the chart in what matplotlib believes to be the \"best\" location\n",
    "plt.legend(loc=\"best\")\n",
    "\n",
    "plt.title(\"Number of accidents per hour in CA and NY 2019\")\n",
    "plt.xlabel(\"Hours\")\n",
    "plt.ylabel(\"Number of accidents\")\n",
    "plt.xticks(hours, hours ,rotation=0)\n",
    "plt.savefig(\"Images/Fig15. AccidentsPerHourCALny2019.png\")\n",
    "\n",
    "# Print our chart to the screen\n",
    "plt.show()"
   ]
  },
  {
   "cell_type": "markdown",
   "metadata": {},
   "source": [
    "###### In 2019 the relation to rush hour remains for both California and New York."
   ]
  },
  {
   "cell_type": "markdown",
   "metadata": {},
   "source": [
    "# Weather Conditions"
   ]
  },
  {
   "cell_type": "code",
   "execution_count": null,
   "metadata": {},
   "outputs": [],
   "source": [
    "accident_target['Weather_Condition'].isna().sum()"
   ]
  },
  {
   "cell_type": "code",
   "execution_count": null,
   "metadata": {},
   "outputs": [],
   "source": [
    "##RUN this code only if we want to replace NaN values for weather conditions with 'Clear'\n",
    "#accident_target['Weather_Condition'].replace(np.nan, 'Clear')"
   ]
  },
  {
   "cell_type": "code",
   "execution_count": null,
   "metadata": {},
   "outputs": [],
   "source": [
    "#Grouping by weather condition and counting each condition\n",
    "accidents_per_weather_condition = accident_target.groupby(accident_target['Weather_Condition']).count()\n",
    "accidents_per_weather_condition_df = accidents_per_weather_condition.reset_index()\n",
    "accidents_per_weather_condition_df.sort_values(by= 'Severity', ascending=False)"
   ]
  },
  {
   "cell_type": "code",
   "execution_count": null,
   "metadata": {
    "scrolled": true
   },
   "outputs": [],
   "source": [
    "#Removing Values with little occurance\n",
    "accidents_per_weather_condition_clean = accidents_per_weather_condition_df.loc[accidents_per_weather_condition_df[\"Severity\"]>=1000]\n",
    "accidents_per_weather_condition_clean.sort_values(by=\"Severity\", ascending=False).head()"
   ]
  },
  {
   "cell_type": "code",
   "execution_count": null,
   "metadata": {},
   "outputs": [],
   "source": [
    "#Number of accidents per detailed weather condition.\n",
    "plt.figure(figsize=(10, 8))\n",
    "plt.title(\"Number of accidents per detailed weather condition\")\n",
    "\n",
    "#explode = (0.1)\n",
    "plt.pie(accidents_per_weather_condition_clean[\"Severity\"],labels= accidents_per_weather_condition_clean['Weather_Condition'])\n",
    "\n",
    "plt.savefig(\"Images/Fig16. Number of accidents per detailed weather condition.png\")\n",
    "plt.show()"
   ]
  },
  {
   "cell_type": "code",
   "execution_count": null,
   "metadata": {
    "scrolled": true
   },
   "outputs": [],
   "source": [
    "accidents_per_weather_condition_df['Weather_Condition'].value_counts()"
   ]
  },
  {
   "cell_type": "code",
   "execution_count": null,
   "metadata": {},
   "outputs": [],
   "source": [
    "#Regrouping detail of weather conditions into 5 most relevant categories. \n",
    "#List of categories for weather conditions\n",
    "sleet = ['Freezing Rain', 'Freezing Rain / Windy', 'Heavy Ice Pellets', 'Heavy Sleet', 'Ice Pellets', 'Light Freezing Rain', 'Light Freezing Rain / Windy', 'Light Ice Pellets', 'Light Sleet', 'Light Snow and Sleet / Windy', 'Sleet', 'Small Hail',  'Thunder and Hail / Windy', 'Hail', 'Light Hail' ]\n",
    "\n",
    "snow = ['Blowing Snow', 'Blowing Snow / Windy', 'Heavy Blowing Snow', 'Heavy Snow', 'Heavy Snow / Windy', 'Heavy Snow with Thunder', 'Heavy Thunderstorms and Snow','Light Blowing Snow', 'Light Snow', 'Light Snow / Windy', 'Light Snow Grains','Light Snow Shower', 'Light Snow Showers', 'Light Snow and Sleet','Snow Showers', 'Light Snow with Thunder', 'Light Thunderstorms and Snow', 'Low Drifting Snow', 'Snow', 'Snow / Windy','Snow Grains','Snow and Sleet','Snow and Sleet / Windy', 'Snow and Thunder', 'Thunderstorms and Snow']\n",
    "\n",
    "rain = ['Heavy Drizzle','Drizzle', 'Light Rain / Windy','Drizzle / Windy', 'Heavy Freezing Rain', 'Heavy Freezing Drizzle', 'Heavy Rain', 'Heavy Rain / Windy', 'Heavy Rain Showers', 'Heavy T-Storm', 'Heavy T-Storm / Windy', 'Heavy Thunderstorms and Rain', 'Heavy Thunderstorms with Small Hail', 'Light Rain Shower', 'Light Rain Shower / Windy', 'Light Rain Showers', 'Light Rain with Thunder', 'Light Thunderstorm', 'Light Thunderstorms and Rain', 'Rain', 'Rain / Windy', 'Rain Shower', 'Rain Showers', 'Squalls', 'Squalls / Windy', 'T-Storm', 'T-Storm / Windy', 'Thunderstorm', 'Thunderstorms and Rain', 'Wintry Mix', 'Wintry Mix / Windy', 'N/A Precipitation', 'Light Drizzle', 'Light Drizzle / Windy', 'Light Freezing Drizzle', 'Light Rain']\n",
    "\n",
    "fog = ['Drizzle and Fog', 'Dust Whirls', 'Fog', 'Fog / Windy', 'Haze', 'Haze / Windy', 'Light Fog', 'Heavy Smoke', 'Light Freezing Fog', 'Light Haze', 'Mist', 'Partial Fog', 'Patches of Fog', 'Shallow Fog', 'Smoke', 'Smoke / Windy', 'Volcanic Ash', 'Widespread Dust']\n",
    "\n",
    "wind = ['Blowing Dust','Partial Fog / Windy', 'Blowing Dust / Windy', 'Cloudy / Windy', 'Sand / Dust Whirlwinds','Sand / Dust Whirlwinds / Windy', 'Funnel Cloud', 'Thunder / Windy', 'Thunder / Wintry Mix / Windy','Tornado', 'Widespread Dust / Windy', 'Dust Whirls', 'Sand']\n",
    "\n",
    "clear= ['Clear', 'Cloudy', 'Fair', 'Fair / Windy', 'Mostly Cloudy', 'Mostly Cloudy / Windy', 'Overcast', 'Partly Cloudy', 'Partly Cloudy / Windy', 'Scattered Clouds', 'Showers in the Vicinity', 'Thunder', 'Thunder in the Vicinity']\n"
   ]
  },
  {
   "cell_type": "code",
   "execution_count": null,
   "metadata": {},
   "outputs": [],
   "source": [
    "# Replacing the weather conditions to group them into 6 cagetories. \n",
    "accident_target_new = accident_target.replace(sleet, 'sleet')\n",
    "accident_target_new = accident_target_new.replace(snow, 'snow')\n",
    "accident_target_new = accident_target_new.replace(rain, 'rain')\n",
    "accident_target_new = accident_target_new.replace(fog, 'fog')\n",
    "accident_target_new = accident_target_new.replace(wind, 'wind')\n",
    "accident_target_new = accident_target_new.replace(clear, 'clear')"
   ]
  },
  {
   "cell_type": "code",
   "execution_count": null,
   "metadata": {},
   "outputs": [],
   "source": [
    "#Checking the new categories\n",
    "accident_target_new['Weather_Condition'].value_counts()"
   ]
  },
  {
   "cell_type": "code",
   "execution_count": null,
   "metadata": {},
   "outputs": [],
   "source": [
    "#Confirming that all the categories have been replaced effectively. \n",
    "accident_per_weather_category = accident_target_new.groupby(accident_target_new['Weather_Condition']).count()\n",
    "accident_per_weather_category.sort_values( by = \"Severity\", ascending = False)"
   ]
  },
  {
   "cell_type": "code",
   "execution_count": null,
   "metadata": {
    "scrolled": true
   },
   "outputs": [],
   "source": [
    "#Presenting the number of accidents per Weather Category.\n",
    "plt.figure(figsize=(10, 8))\n",
    "plt.title(\"Number of Accidents per Weather Category Dec.16-Dec.2019\")\n",
    "explode = (0.1, 0.5,0.5,0.5,0.5,0.5)\n",
    "labels = accident_per_weather_category.index\n",
    "#['clear','fog','rain', 'sleet','snow', 'wind']\n",
    "plt.pie(accident_per_weather_category[\"Severity\"], explode=explode, labels=labels, autopct=\"%1.1f%%\")\n",
    "\n",
    "# Save and display the chart\n",
    "\n",
    "plt.savefig(\"Images/Fig17. Number of accidents per detailed weather condition.png\")\n",
    "plt.show()"
   ]
  },
  {
   "cell_type": "markdown",
   "metadata": {},
   "source": [
    "##### Approximately 13.4% of the accidents between december 2016 and december 2019 ocurred during inclement weather conditions. Of those rain fog and snow seem to have the most number of accidents."
   ]
  },
  {
   "cell_type": "code",
   "execution_count": null,
   "metadata": {},
   "outputs": [],
   "source": [
    "accident_per_weather_category_df = accident_per_weather_category.rename(columns={\"Weather_Condition\": \"Weather_Count\"})"
   ]
  },
  {
   "cell_type": "code",
   "execution_count": null,
   "metadata": {},
   "outputs": [],
   "source": [
    "accident_per_weather_category_df.reset_index(inplace=True)"
   ]
  },
  {
   "cell_type": "code",
   "execution_count": null,
   "metadata": {},
   "outputs": [],
   "source": [
    "weather_accidents = accident_per_weather_category_df.loc[accident_per_weather_category_df['Weather_Condition'] != 'clear']\n",
    "weather_accidents#Presenting the number of accidents within the Weather Categories.\n",
    "plt.figure(figsize=(10, 8))\n",
    "plt.title(\"Number of Accidents within Weather Categories Dec.16-Dec.2019\")\n",
    "explode = (0.1,0.5,0.1,0.1,0.1)\n",
    "labels = weather_accidents['Weather_Condition']\n",
    "plt.pie(weather_accidents[\"Severity\"], explode=explode, labels=labels, autopct=\"%1.1f%%\")\n",
    "\n",
    "# Save and display the chart\n",
    "plt.savefig(\"Images/Fig18. Number of accidents per weather condition category.png\")\n",
    "plt.show()"
   ]
  },
  {
   "cell_type": "markdown",
   "metadata": {},
   "source": [
    "##### Most weather related accidents are caused by wet roads accounting to 64.1% of all weather related accidents."
   ]
  },
  {
   "cell_type": "code",
   "execution_count": null,
   "metadata": {},
   "outputs": [],
   "source": []
  },
  {
   "cell_type": "markdown",
   "metadata": {},
   "source": [
    "# Analyze impact of Weather Factors on Number of Accident across data"
   ]
  },
  {
   "cell_type": "code",
   "execution_count": null,
   "metadata": {},
   "outputs": [],
   "source": [
    "#Create function to calculate linear regression and correlation co-efficient for factors against accident\n",
    "\n",
    "def factor_accident_correlation(factor,line_x,line_y):\n",
    "    accident_count_factor=accident_target.groupby(factor).count().reset_index()\n",
    "    #accident_count_humidity.head()\n",
    "    x_axis=accident_count_factor[factor]\n",
    "    y_axis=accident_count_factor[\"Start_Time\"]\n",
    "    \n",
    "    #fig=plt.figure(figsize=(12,8))\n",
    "    \n",
    "    _=plt.scatter(x_axis,y_axis)\n",
    "    \n",
    "    plt.title(f\"Number of Accidents vs {factor}\")\n",
    "    plt.xlabel(f\"{factor}\")\n",
    "    plt.ylabel(\"Number of Accidents\")\n",
    "    \n",
    "    #plt.yticks(np.arange(min(accident_count_factor[\"Start_Time\"]),max(accident_count_factor[\"Start_Time\"])+10000,10000))\n",
    "    \n",
    "    #plt.xticks(np.arange(min(accident_count_factor[factor]),max(accident_count_factor[factor])+5,10))\n",
    "    \n",
    "    slope,intercept,p,r,stderr=linregress(x_axis,y_axis)\n",
    "    \n",
    "    line_eq=f\"y= {round(slope,2)}*x + {round(intercept,2)}\"\n",
    "    \n",
    "    plt.plot(x_axis,((slope*x_axis)+intercept),\"r--\")\n",
    "    \n",
    "    _=plt.annotate(line_eq,(line_x,line_y),color=\"red\",fontsize=15)\n",
    "    \n",
    "    corr,pvalue=pearsonr(accident_count_factor[factor],accident_count_factor[\"Start_Time\"])\n",
    "    \n",
    "    plt.tight_layout()\n",
    "    \n",
    "    print(f\"The correlation-co-efficient is: {round(corr,4)}\")\n",
    "    "
   ]
  },
  {
   "cell_type": "markdown",
   "metadata": {},
   "source": [
    "## Analyze impact of Humidity on Number of Accident across data"
   ]
  },
  {
   "cell_type": "code",
   "execution_count": null,
   "metadata": {
    "scrolled": false
   },
   "outputs": [],
   "source": [
    "factor_accident_correlation('Humidity(%)',10,50)"
   ]
  },
  {
   "cell_type": "markdown",
   "metadata": {},
   "source": [
    "## Analyze impact of Temperature on Number of Accident across data"
   ]
  },
  {
   "cell_type": "code",
   "execution_count": null,
   "metadata": {},
   "outputs": [],
   "source": [
    "factor_accident_correlation('Temperature(F)',10,50)"
   ]
  },
  {
   "cell_type": "markdown",
   "metadata": {},
   "source": [
    "## Analyze impact of Visibility on Number of Accident across data"
   ]
  },
  {
   "cell_type": "code",
   "execution_count": null,
   "metadata": {},
   "outputs": [],
   "source": [
    "factor_accident_correlation('Visibility(mi)',10,100000)"
   ]
  },
  {
   "cell_type": "code",
   "execution_count": null,
   "metadata": {},
   "outputs": [],
   "source": [
    "# Since the data is skewed due to a big value of Accidents for Visibility: 10 mi \n",
    "#Hence removing the value to see the correlaton of Visibility with Accidents without outlier value of 10 mi\n",
    "\n",
    "factor=\"Visibility(mi)\"\n",
    "accident_count_factor=accident_target.loc[accident_target[factor]!=10.0].groupby(factor).count().reset_index()\n",
    "x_axis=accident_count_factor[factor]\n",
    "y_axis=accident_count_factor[\"Start_Time\"]\n",
    "\n",
    "#fig=plt.figure(figsize=(10,6))\n",
    "\n",
    "_=plt.scatter(x_axis,y_axis,s=20)\n",
    "\n",
    "plt.title(f\"Number of Accidents vs {factor}\")\n",
    "plt.xlabel(f\"{factor}\")\n",
    "plt.ylabel(\"Number of Accidents\")\n",
    "\n",
    "#plt.yticks(np.arange(min(accident_count_factor[\"Start_Time\"]),max(accident_count_factor[\"Start_Time\"])+10000,10000))\n",
    "\n",
    "#plt.xticks(np.arange(min(accident_count_factor[factor]),max(accident_count_factor[factor])+5,10))\n",
    "\n",
    "slope,intercept,p,r,stderr=linregress(x_axis,y_axis)\n",
    "\n",
    "line_eq=f\"y= {round(slope,2)}*x + {round(intercept,2)}\"\n",
    "\n",
    "plt.plot(x_axis,((slope*x_axis)+intercept),\"r--\")\n",
    "\n",
    "_=plt.annotate(line_eq,(10,10000),color=\"red\",fontsize=15)\n",
    "\n",
    "corr,pvalue=pearsonr(accident_count_factor[factor],accident_count_factor[\"Start_Time\"])\n",
    "    \n",
    "plt.tight_layout()\n",
    "    \n",
    "print(f\"The correlation-co-efficient is: {round(corr,4)}\")"
   ]
  },
  {
   "cell_type": "code",
   "execution_count": null,
   "metadata": {},
   "outputs": [],
   "source": []
  },
  {
   "cell_type": "markdown",
   "metadata": {},
   "source": [
    "## Analyze impact of Wind Speed on Number of Accident across data"
   ]
  },
  {
   "cell_type": "code",
   "execution_count": null,
   "metadata": {},
   "outputs": [],
   "source": [
    "factor_accident_correlation('Wind_Speed(mph)',10,100000)"
   ]
  },
  {
   "cell_type": "code",
   "execution_count": null,
   "metadata": {},
   "outputs": [],
   "source": [
    "# Since there are very few values with wind speed above 100 mph and is not possible value of wind speed in general \n",
    "#Hence removing all the rows with WindSpeed greater than 100 mph to see the correlaton of Wind Speed with Accidents \n",
    "\n",
    "factor=\"Wind_Speed(mph)\"\n",
    "accident_count_factor=accident_target.loc[accident_target[factor]<=100].groupby(factor).count().reset_index()\n",
    "x_axis=accident_count_factor[factor]\n",
    "y_axis=accident_count_factor[\"Start_Time\"]\n",
    "\n",
    "#fig=plt.figure(figsize=(10,6))\n",
    "\n",
    "_=plt.scatter(x_axis,y_axis,s=20)\n",
    "\n",
    "plt.title(f\"Number of Accidents vs {factor}\")\n",
    "plt.xlabel(f\"{factor}\")\n",
    "plt.ylabel(\"Number of Accidents\")\n",
    "\n",
    "#plt.yticks(np.arange(min(accident_count_factor[\"Start_Time\"]),max(accident_count_factor[\"Start_Time\"])+10000,10000))\n",
    "\n",
    "#plt.xticks(np.arange(min(accident_count_factor[factor]),max(accident_count_factor[factor])+5,10))\n",
    "\n",
    "slope,intercept,p,r,stderr=linregress(x_axis,y_axis)\n",
    "\n",
    "line_eq=f\"y= {round(slope,2)}*x + {round(intercept,2)}\"\n",
    "\n",
    "plt.plot(x_axis,((slope*x_axis)+intercept),\"r--\")\n",
    "\n",
    "_=plt.annotate(line_eq,(10,10000),color=\"red\",fontsize=15)\n",
    "\n",
    "corr,pvalue=pearsonr(accident_count_factor[factor],accident_count_factor[\"Start_Time\"])\n",
    "    \n",
    "plt.tight_layout()\n",
    "    \n",
    "print(f\"The correlation-co-efficient is: {round(corr,4)}\")"
   ]
  },
  {
   "cell_type": "code",
   "execution_count": null,
   "metadata": {},
   "outputs": [],
   "source": []
  },
  {
   "cell_type": "code",
   "execution_count": null,
   "metadata": {},
   "outputs": [],
   "source": []
  },
  {
   "cell_type": "markdown",
   "metadata": {},
   "source": [
    "## Analyze impact of different weather factors on Number of Accident across data"
   ]
  },
  {
   "cell_type": "code",
   "execution_count": null,
   "metadata": {},
   "outputs": [],
   "source": [
    "multi_factor=[\"Temperature(F)\",\"Humidity(%)\",\"Visibility(mi)\",\"Wind_Speed(mph)\"]"
   ]
  },
  {
   "cell_type": "code",
   "execution_count": null,
   "metadata": {},
   "outputs": [],
   "source": [
    "fig,ax =  plt.subplots(2,2,figsize=(16,8))\n",
    "#fig=plt.figure(figsize=(20,8))\n",
    "\n",
    "#multi_factor=[\"Humidity(%)\",\"Visibility(mi)\",\"Temperature(F)\",\"Wind_Speed(mph)\"]\n",
    "#,\"Precipitation(in)\"\n",
    "x_cord=0\n",
    "y_cord=0\n",
    "\n",
    "for factor in multi_factor:\n",
    "    \n",
    "    #.loc[accident_target[factor]!=10.0]\n",
    "    if factor==\"Wind_Speed(mph)\":\n",
    "        accident_count_factor=accident_target.loc[accident_target[factor]<=100].groupby(factor).count().reset_index()\n",
    "        x_axis=accident_count_factor[factor]\n",
    "        y_axis=accident_count_factor[\"Start_Time\"]\n",
    "    elif factor==\"Visibility(mi)\":\n",
    "        accident_count_factor=accident_target.loc[accident_target[factor]!=10.0].groupby(factor).count().reset_index()\n",
    "        x_axis=accident_count_factor[factor]\n",
    "        y_axis=accident_count_factor[\"Start_Time\"]\n",
    "    else:\n",
    "        accident_count_factor=accident_target.groupby(factor).count().reset_index()\n",
    "        x_axis=accident_count_factor[factor]\n",
    "        y_axis=accident_count_factor[\"Start_Time\"]\n",
    "    \n",
    "   \n",
    "\n",
    "    ax[x_cord][y_cord].scatter(x_axis,y_axis)\n",
    "    \n",
    "    ax[x_cord][y_cord].set_title(f\"Correlation of Accidents vs {factor}\",fontsize=16)\n",
    "    ax[x_cord][y_cord].set_xlabel(f\"{factor}\",fontsize=12)\n",
    "    ax[x_cord][y_cord].set_ylabel(\"Number of Accidents\",fontsize=12)\n",
    "\n",
    "    #plt.yticks(np.arange(min(accident_count_factor[\"Start_Time\"]),max(accident_count_factor[\"Start_Time\"])+10000,10000))\n",
    "\n",
    "    #plt.xticks(np.arange(min(accident_count_factor[factor]),max(accident_count_factor[factor])+5,10))\n",
    "\n",
    "    slope,intercept,p,r,stderr=linregress(x_axis,y_axis)\n",
    "\n",
    "    line_eq=f\"y= {round(slope,2)}*x + {round(intercept,2)}\"\n",
    "    \n",
    "    corr,pvalue=pearsonr(accident_count_factor[factor],accident_count_factor[\"Start_Time\"])\n",
    "\n",
    "    ax[x_cord][y_cord].plot(x_axis,((slope*x_axis)+intercept),\"r--\")\n",
    "\n",
    "    ax[x_cord][y_cord].annotate(line_eq,(10,10000),color=\"red\",fontsize=15)\n",
    "    \n",
    "    ax[x_cord][y_cord].text(0.1, 0.9,f\"The correlation co-efficient is: {round(corr,4)}\", transform=ax[x_cord][y_cord].transAxes,bbox=dict(facecolor='red', alpha=0.5))\n",
    "    \n",
    "    #imagepath=f\"Images/Accidents_vs_factors\"\n",
    "    \n",
    "    \n",
    "    \n",
    "    if(x_cord==0 and y_cord==0):\n",
    "        y_cord=1\n",
    "    elif (x_cord==0 and y_cord==1):\n",
    "        x_cord=1\n",
    "        y_cord=0\n",
    "    elif (x_cord==1 and y_cord==0):\n",
    "        y_cord=1\n",
    "       \n",
    "\n",
    "    plt.tight_layout()\n",
    "    \n",
    "    plt.savefig(\"Images/Fig19. Accidents_vs_factors.png\")\n",
    "\n",
    "    #print(f\"The r-squared value for Number of Accidents vs {factor} is: {r**2}\")\n",
    "    \n"
   ]
  },
  {
   "cell_type": "markdown",
   "metadata": {},
   "source": [
    "###### The correlation co-efficient factor between Accidents and Temperature is 0.1402 which shows a weak correlation between temperature and accidents. The distribution of number of accidents in US follows the distribution of temperature across state across year. \n",
    "\n",
    "###### The correlation co-efficient factor between Accidents and Humidity is 0.7223 which shows a very high correlation between humidity and accidents.\n",
    "###### The correlation co-efficient factor between Accidents and Visibility is -0.2266 which shows a negative correlation between Visibility and accidents. As we can see from the graph that more accidents tend to happen when the visibility is lower. \n",
    "\n",
    "###### The correlation co-efficient factor between Accidents and Wind Speed is -0.5445 which shows a moderately negative correlation between Wind speed and accidents. More accidents tend to happen when Wind speed is low."
   ]
  },
  {
   "cell_type": "code",
   "execution_count": null,
   "metadata": {},
   "outputs": [],
   "source": []
  },
  {
   "cell_type": "markdown",
   "metadata": {},
   "source": [
    "## Analyze impact of various weather factors on Number of Accident in Calfornia"
   ]
  },
  {
   "cell_type": "code",
   "execution_count": null,
   "metadata": {},
   "outputs": [],
   "source": [
    "fig,ax =  plt.subplots(2,2,figsize=(16,8))\n",
    "#fig=plt.figure(figsize=(20,8))\n",
    "\n",
    "#multi_factor=[\"Humidity(%)\",\"Visibility(mi)\",\"Temperature(F)\",\"Wind_Speed(mph)\"]\n",
    "#,\"Precipitation(in)\"\n",
    "x_cord=0\n",
    "y_cord=0\n",
    "\n",
    "for factor in multi_factor:\n",
    "    \n",
    "    if factor==\"Wind_Speed(mph)\":\n",
    "        accident_count_factor=accident_target.loc[(accident_target[factor]<=100) & (accident_target[\"State\"]==\"CA\")].groupby(factor).count().reset_index()\n",
    "        x_axis=accident_count_factor[factor]\n",
    "        y_axis=accident_count_factor[\"Start_Time\"]\n",
    "    elif factor==\"Visibility(mi)\":\n",
    "        accident_count_factor=accident_target.loc[(accident_target[factor]!=10.0) & (accident_target[\"State\"]==\"CA\")].groupby(factor).count().reset_index()\n",
    "        x_axis=accident_count_factor[factor]\n",
    "        y_axis=accident_count_factor[\"Start_Time\"]\n",
    "    else:\n",
    "        accident_count_factor=accident_target.groupby(factor).count().reset_index()\n",
    "        x_axis=accident_count_factor[factor]\n",
    "        y_axis=accident_count_factor[\"Start_Time\"]\n",
    "    \n",
    "    ax[x_cord][y_cord].scatter(x_axis,y_axis)\n",
    "    \n",
    "    ax[x_cord][y_cord].set_title(f\"Correlation of Accidents vs {factor} in California\",fontsize=16)\n",
    "    ax[x_cord][y_cord].set_xlabel(f\"{factor}\",fontsize=12)\n",
    "    ax[x_cord][y_cord].set_ylabel(\"Number of Accidents\",fontsize=12)\n",
    "\n",
    "    #plt.yticks(np.arange(min(accident_count_factor[\"Start_Time\"]),max(accident_count_factor[\"Start_Time\"])+10000,10000))\n",
    "\n",
    "    #plt.xticks(np.arange(min(accident_count_factor[factor]),max(accident_count_factor[factor])+5,10))\n",
    "\n",
    "    slope,intercept,p,r,stderr=linregress(x_axis,y_axis)\n",
    "\n",
    "    line_eq=f\"y= {round(slope,2)}*x + {round(intercept,2)}\"\n",
    "    \n",
    "    corr,pvalue=pearsonr(accident_count_factor[factor],accident_count_factor[\"Start_Time\"])\n",
    "\n",
    "    ax[x_cord][y_cord].plot(x_axis,((slope*x_axis)+intercept),\"r--\")\n",
    "\n",
    "    ax[x_cord][y_cord].annotate(line_eq,(10,10000),color=\"red\",fontsize=15)\n",
    "    \n",
    "    ax[x_cord][y_cord].text(0.1, 0.9,f\"The correlation co-efficient is: {round(corr,4)}\", transform=ax[x_cord][y_cord].transAxes,bbox=dict(facecolor='red', alpha=0.5))\n",
    "    \n",
    "    if(x_cord==0 and y_cord==0):\n",
    "        y_cord=1\n",
    "    elif (x_cord==0 and y_cord==1):\n",
    "        x_cord=1\n",
    "        y_cord=0\n",
    "    elif (x_cord==1 and y_cord==0):\n",
    "        y_cord=1\n",
    "    \n",
    "    plt.savefig(\"Images/Fig20. Accidents_vs_factors_ca.png\")\n",
    "\n",
    "    plt.tight_layout()"
   ]
  },
  {
   "cell_type": "markdown",
   "metadata": {},
   "source": [
    "##### The relationship is in-line with US in general."
   ]
  },
  {
   "cell_type": "markdown",
   "metadata": {},
   "source": [
    "## Analyze impact of various weather factors on Number of Accident in New York"
   ]
  },
  {
   "cell_type": "code",
   "execution_count": null,
   "metadata": {},
   "outputs": [],
   "source": [
    "fig,ax =  plt.subplots(2,2,figsize=(16,8))\n",
    "#fig=plt.figure(figsize=(20,8))\n",
    "\n",
    "#multi_factor=[\"Humidity(%)\",\"Visibility(mi)\",\"Temperature(F)\",\"Wind_Speed(mph)\"]\n",
    "#,\"Precipitation(in)\"\n",
    "x_cord=0\n",
    "y_cord=0\n",
    "\n",
    "for factor in multi_factor:\n",
    "    if factor==\"Wind_Speed(mph)\":\n",
    "        accident_count_factor=accident_target.loc[(accident_target[factor]<=100) & (accident_target[\"State\"]==\"NY\")].groupby(factor).count().reset_index()\n",
    "        x_axis=accident_count_factor[factor]\n",
    "        y_axis=accident_count_factor[\"Start_Time\"]\n",
    "    elif factor==\"Visibility(mi)\":\n",
    "        accident_count_factor=accident_target.loc[(accident_target[factor]!=10.0) & (accident_target[\"State\"]==\"NY\")].groupby(factor).count().reset_index()\n",
    "        x_axis=accident_count_factor[factor]\n",
    "        y_axis=accident_count_factor[\"Start_Time\"]\n",
    "    else:\n",
    "        accident_count_factor=accident_target.groupby(factor).count().reset_index()\n",
    "        x_axis=accident_count_factor[factor]\n",
    "        y_axis=accident_count_factor[\"Start_Time\"]\n",
    "    \n",
    "    ax[x_cord][y_cord].scatter(x_axis,y_axis)\n",
    "    \n",
    "    ax[x_cord][y_cord].set_title(f\"Correlation of Accidents vs {factor} in New York\",fontsize=16)\n",
    "    ax[x_cord][y_cord].set_xlabel(f\"{factor}\",fontsize=12)\n",
    "    ax[x_cord][y_cord].set_ylabel(\"Number of Accidents\",fontsize=12)\n",
    "\n",
    "    #plt.yticks(np.arange(min(accident_count_factor[\"Start_Time\"]),max(accident_count_factor[\"Start_Time\"])+10000,10000))\n",
    "\n",
    "    #plt.xticks(np.arange(min(accident_count_factor[factor]),max(accident_count_factor[factor])+5,10))\n",
    "\n",
    "    slope,intercept,p,r,stderr=linregress(x_axis,y_axis)\n",
    "\n",
    "    line_eq=f\"y= {round(slope,2)}*x + {round(intercept,2)}\"\n",
    "\n",
    "    ax[x_cord][y_cord].plot(x_axis,((slope*x_axis)+intercept),\"r--\")\n",
    "    \n",
    "    corr,pvalue=pearsonr(accident_count_factor[factor],accident_count_factor[\"Start_Time\"])\n",
    "\n",
    "    ax[x_cord][y_cord].annotate(line_eq,(10,2000),color=\"red\",fontsize=15)\n",
    "    \n",
    "    ax[x_cord][y_cord].text(0.1, 0.9,f\"The correlation co-efficient is: {round(corr,4)}\", transform=ax[x_cord][y_cord].transAxes,bbox=dict(facecolor='red', alpha=0.5))\n",
    "    \n",
    "    if(x_cord==0 and y_cord==0):\n",
    "        y_cord=1\n",
    "    elif (x_cord==0 and y_cord==1):\n",
    "        x_cord=1\n",
    "        y_cord=0\n",
    "    elif (x_cord==1 and y_cord==0):\n",
    "        y_cord=1\n",
    "       \n",
    "    plt.savefig(\"Images/Fig21. Accidents_vs_factors_ny.png\")\n",
    "    \n",
    "    plt.tight_layout()\n"
   ]
  },
  {
   "cell_type": "markdown",
   "metadata": {},
   "source": [
    "##### The relationship is in-line with US in general Except for visibility which shows a low relation wth the number of accidents.\n",
    "##### The Visibility in New York is upto 20 mil compared to being 140 mil in US in general. The highest number of accidents fall in same range of first 10 miles in almost all of US."
   ]
  },
  {
   "cell_type": "markdown",
   "metadata": {},
   "source": [
    "### Correlation of temperature and visibility on Accident Count"
   ]
  },
  {
   "cell_type": "code",
   "execution_count": null,
   "metadata": {},
   "outputs": [],
   "source": [
    "accident_count_temp_visibility=pd.DataFrame(accident_target[accident_target[\"Visibility(mi)\"]!=10]\\\n",
    "                                            .groupby([\"Temperature(F)\",\"Visibility(mi)\"])[\"Start_Time\"].count()).reset_index()\n",
    "accident_count_temp_visibility.rename(columns={\"Start_Time\":\"Accident Count\"},inplace=True)\n",
    "accident_count_temp_visibility[\"Combined Value\"]=accident_count_temp_visibility[\"Temperature(F)\"]\\\n",
    "*accident_count_temp_visibility[\"Visibility(mi)\"]\n",
    "\n",
    "accident_count_temp_visibility.head(200)\n"
   ]
  },
  {
   "cell_type": "code",
   "execution_count": null,
   "metadata": {},
   "outputs": [],
   "source": [
    "corr,pvalue=pearsonr(accident_count_temp_visibility[\"Combined Value\"],accident_count_temp_visibility[\"Accident Count\"])\n",
    "\n",
    "print(f\"The correlation co-efficient is: {corr}\")"
   ]
  },
  {
   "cell_type": "markdown",
   "metadata": {},
   "source": [
    "##### The correlation co-efficient is very low when combining values of temperature and visibility and does not seem to correlate together with number of accidents"
   ]
  },
  {
   "cell_type": "code",
   "execution_count": null,
   "metadata": {},
   "outputs": [],
   "source": []
  },
  {
   "cell_type": "markdown",
   "metadata": {},
   "source": [
    "### Correlation of humidity and visibility on Accident Count"
   ]
  },
  {
   "cell_type": "code",
   "execution_count": null,
   "metadata": {},
   "outputs": [],
   "source": [
    "accident_count_humid_visibility=pd.DataFrame(accident_target[accident_target[\"Visibility(mi)\"]!=10]\\\n",
    "                                            .groupby([\"Humidity(%)\",\"Visibility(mi)\"])[\"Start_Time\"].count()).reset_index()\n",
    "accident_count_humid_visibility.rename(columns={\"Start_Time\":\"Accident Count\"},inplace=True)\n",
    "accident_count_humid_visibility[\"Combined Value\"]=accident_count_humid_visibility[\"Humidity(%)\"]\\\n",
    "*accident_count_humid_visibility[\"Visibility(mi)\"]\n",
    "\n",
    "accident_count_humid_visibility.head(200)"
   ]
  },
  {
   "cell_type": "code",
   "execution_count": null,
   "metadata": {},
   "outputs": [],
   "source": [
    "corr,pvalue=pearsonr(accident_count_humid_visibility[\"Combined Value\"],accident_count_humid_visibility[\"Accident Count\"])\n",
    "\n",
    "print(f\"The correlation co-efficient is: {corr}\")\n",
    "    "
   ]
  },
  {
   "cell_type": "markdown",
   "metadata": {},
   "source": [
    "##### The correlation co-efficient is very low when combining values of humidity and visibility and does not seem to correlate together with number of accidents"
   ]
  },
  {
   "cell_type": "code",
   "execution_count": null,
   "metadata": {},
   "outputs": [],
   "source": []
  }
 ],
 "metadata": {
  "kernelspec": {
   "display_name": "Python 3",
   "language": "python",
   "name": "python3"
  },
  "language_info": {
   "codemirror_mode": {
    "name": "ipython",
    "version": 3
   },
   "file_extension": ".py",
   "mimetype": "text/x-python",
   "name": "python",
   "nbconvert_exporter": "python",
   "pygments_lexer": "ipython3",
   "version": "3.7.6"
  }
 },
 "nbformat": 4,
 "nbformat_minor": 4
}
