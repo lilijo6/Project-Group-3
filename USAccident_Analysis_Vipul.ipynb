{
 "cells": [
  {
   "cell_type": "code",
   "execution_count": 1,
   "metadata": {},
   "outputs": [],
   "source": [
    "import pandas as pd\n",
    "import numpy as np\n",
    "import json\n",
    "\n",
    "import seaborn as sn\n",
    "\n",
    "import requests\n",
    "\n",
    "from census import Census\n",
    "\n",
    "from matplotlib import pyplot as plt\n",
    "\n",
    "import datetime as dt\n",
    "\n",
    "from config import (gkey,api_key)\n",
    "\n",
    "from scipy.stats import linregress,pearsonr\n",
    "\n",
    "from us import states\n",
    "\n",
    "import gmaps\n",
    "\n",
    "# Access maps with unique API key\n",
    "gmaps.configure(api_key=gkey)\n",
    "\n",
    "#Access census data for 2017\n",
    "c = Census(api_key, year=2018)\n"
   ]
  },
  {
   "cell_type": "markdown",
   "metadata": {},
   "source": [
    "### Loading data into dataframe"
   ]
  },
  {
   "cell_type": "code",
   "execution_count": 2,
   "metadata": {},
   "outputs": [],
   "source": [
    "#Reading data from source file\n",
    "\n",
    "accidents_source=pd.read_csv(\"Accident data/US_Accidents_Dec19.csv\")\n"
   ]
  },
  {
   "cell_type": "markdown",
   "metadata": {},
   "source": [
    "### Data cleaning"
   ]
  },
  {
   "cell_type": "code",
   "execution_count": 3,
   "metadata": {
    "scrolled": false
   },
   "outputs": [
    {
     "data": {
      "text/plain": [
       "145742415"
      ]
     },
     "execution_count": 3,
     "metadata": {},
     "output_type": "execute_result"
    }
   ],
   "source": [
    "#Checking size of data\n",
    "\n",
    "accidents_source.size"
   ]
  },
  {
   "cell_type": "code",
   "execution_count": 4,
   "metadata": {
    "scrolled": true
   },
   "outputs": [
    {
     "data": {
      "text/plain": [
       "(2974335, 49)"
      ]
     },
     "execution_count": 4,
     "metadata": {},
     "output_type": "execute_result"
    }
   ],
   "source": [
    "accidents_source.shape"
   ]
  },
  {
   "cell_type": "code",
   "execution_count": 5,
   "metadata": {},
   "outputs": [
    {
     "data": {
      "text/plain": [
       "Index(['ID', 'Source', 'TMC', 'Severity', 'Start_Time', 'End_Time',\n",
       "       'Start_Lat', 'Start_Lng', 'End_Lat', 'End_Lng', 'Distance(mi)',\n",
       "       'Description', 'Number', 'Street', 'Side', 'City', 'County', 'State',\n",
       "       'Zipcode', 'Country', 'Timezone', 'Airport_Code', 'Weather_Timestamp',\n",
       "       'Temperature(F)', 'Wind_Chill(F)', 'Humidity(%)', 'Pressure(in)',\n",
       "       'Visibility(mi)', 'Wind_Direction', 'Wind_Speed(mph)',\n",
       "       'Precipitation(in)', 'Weather_Condition', 'Amenity', 'Bump', 'Crossing',\n",
       "       'Give_Way', 'Junction', 'No_Exit', 'Railway', 'Roundabout', 'Station',\n",
       "       'Stop', 'Traffic_Calming', 'Traffic_Signal', 'Turning_Loop',\n",
       "       'Sunrise_Sunset', 'Civil_Twilight', 'Nautical_Twilight',\n",
       "       'Astronomical_Twilight'],\n",
       "      dtype='object')"
      ]
     },
     "execution_count": 5,
     "metadata": {},
     "output_type": "execute_result"
    }
   ],
   "source": [
    "#Priniting list of columns in the dataset\n",
    "accidents_source.columns"
   ]
  },
  {
   "cell_type": "code",
   "execution_count": 6,
   "metadata": {
    "scrolled": true
   },
   "outputs": [
    {
     "data": {
      "text/html": [
       "<div>\n",
       "<style scoped>\n",
       "    .dataframe tbody tr th:only-of-type {\n",
       "        vertical-align: middle;\n",
       "    }\n",
       "\n",
       "    .dataframe tbody tr th {\n",
       "        vertical-align: top;\n",
       "    }\n",
       "\n",
       "    .dataframe thead th {\n",
       "        text-align: right;\n",
       "    }\n",
       "</style>\n",
       "<table border=\"1\" class=\"dataframe\">\n",
       "  <thead>\n",
       "    <tr style=\"text-align: right;\">\n",
       "      <th></th>\n",
       "      <th>ID</th>\n",
       "      <th>Source</th>\n",
       "      <th>TMC</th>\n",
       "      <th>Severity</th>\n",
       "      <th>Start_Time</th>\n",
       "      <th>End_Time</th>\n",
       "      <th>Start_Lat</th>\n",
       "      <th>Start_Lng</th>\n",
       "      <th>End_Lat</th>\n",
       "      <th>End_Lng</th>\n",
       "      <th>...</th>\n",
       "      <th>Roundabout</th>\n",
       "      <th>Station</th>\n",
       "      <th>Stop</th>\n",
       "      <th>Traffic_Calming</th>\n",
       "      <th>Traffic_Signal</th>\n",
       "      <th>Turning_Loop</th>\n",
       "      <th>Sunrise_Sunset</th>\n",
       "      <th>Civil_Twilight</th>\n",
       "      <th>Nautical_Twilight</th>\n",
       "      <th>Astronomical_Twilight</th>\n",
       "    </tr>\n",
       "  </thead>\n",
       "  <tbody>\n",
       "    <tr>\n",
       "      <th>0</th>\n",
       "      <td>A-1</td>\n",
       "      <td>MapQuest</td>\n",
       "      <td>201.0</td>\n",
       "      <td>3</td>\n",
       "      <td>2016-02-08 05:46:00</td>\n",
       "      <td>2016-02-08 11:00:00</td>\n",
       "      <td>39.865147</td>\n",
       "      <td>-84.058723</td>\n",
       "      <td>NaN</td>\n",
       "      <td>NaN</td>\n",
       "      <td>...</td>\n",
       "      <td>False</td>\n",
       "      <td>False</td>\n",
       "      <td>False</td>\n",
       "      <td>False</td>\n",
       "      <td>False</td>\n",
       "      <td>False</td>\n",
       "      <td>Night</td>\n",
       "      <td>Night</td>\n",
       "      <td>Night</td>\n",
       "      <td>Night</td>\n",
       "    </tr>\n",
       "    <tr>\n",
       "      <th>1</th>\n",
       "      <td>A-2</td>\n",
       "      <td>MapQuest</td>\n",
       "      <td>201.0</td>\n",
       "      <td>2</td>\n",
       "      <td>2016-02-08 06:07:59</td>\n",
       "      <td>2016-02-08 06:37:59</td>\n",
       "      <td>39.928059</td>\n",
       "      <td>-82.831184</td>\n",
       "      <td>NaN</td>\n",
       "      <td>NaN</td>\n",
       "      <td>...</td>\n",
       "      <td>False</td>\n",
       "      <td>False</td>\n",
       "      <td>False</td>\n",
       "      <td>False</td>\n",
       "      <td>False</td>\n",
       "      <td>False</td>\n",
       "      <td>Night</td>\n",
       "      <td>Night</td>\n",
       "      <td>Night</td>\n",
       "      <td>Day</td>\n",
       "    </tr>\n",
       "    <tr>\n",
       "      <th>2</th>\n",
       "      <td>A-3</td>\n",
       "      <td>MapQuest</td>\n",
       "      <td>201.0</td>\n",
       "      <td>2</td>\n",
       "      <td>2016-02-08 06:49:27</td>\n",
       "      <td>2016-02-08 07:19:27</td>\n",
       "      <td>39.063148</td>\n",
       "      <td>-84.032608</td>\n",
       "      <td>NaN</td>\n",
       "      <td>NaN</td>\n",
       "      <td>...</td>\n",
       "      <td>False</td>\n",
       "      <td>False</td>\n",
       "      <td>False</td>\n",
       "      <td>False</td>\n",
       "      <td>True</td>\n",
       "      <td>False</td>\n",
       "      <td>Night</td>\n",
       "      <td>Night</td>\n",
       "      <td>Day</td>\n",
       "      <td>Day</td>\n",
       "    </tr>\n",
       "    <tr>\n",
       "      <th>3</th>\n",
       "      <td>A-4</td>\n",
       "      <td>MapQuest</td>\n",
       "      <td>201.0</td>\n",
       "      <td>3</td>\n",
       "      <td>2016-02-08 07:23:34</td>\n",
       "      <td>2016-02-08 07:53:34</td>\n",
       "      <td>39.747753</td>\n",
       "      <td>-84.205582</td>\n",
       "      <td>NaN</td>\n",
       "      <td>NaN</td>\n",
       "      <td>...</td>\n",
       "      <td>False</td>\n",
       "      <td>False</td>\n",
       "      <td>False</td>\n",
       "      <td>False</td>\n",
       "      <td>False</td>\n",
       "      <td>False</td>\n",
       "      <td>Night</td>\n",
       "      <td>Day</td>\n",
       "      <td>Day</td>\n",
       "      <td>Day</td>\n",
       "    </tr>\n",
       "    <tr>\n",
       "      <th>4</th>\n",
       "      <td>A-5</td>\n",
       "      <td>MapQuest</td>\n",
       "      <td>201.0</td>\n",
       "      <td>2</td>\n",
       "      <td>2016-02-08 07:39:07</td>\n",
       "      <td>2016-02-08 08:09:07</td>\n",
       "      <td>39.627781</td>\n",
       "      <td>-84.188354</td>\n",
       "      <td>NaN</td>\n",
       "      <td>NaN</td>\n",
       "      <td>...</td>\n",
       "      <td>False</td>\n",
       "      <td>False</td>\n",
       "      <td>False</td>\n",
       "      <td>False</td>\n",
       "      <td>True</td>\n",
       "      <td>False</td>\n",
       "      <td>Day</td>\n",
       "      <td>Day</td>\n",
       "      <td>Day</td>\n",
       "      <td>Day</td>\n",
       "    </tr>\n",
       "  </tbody>\n",
       "</table>\n",
       "<p>5 rows × 49 columns</p>\n",
       "</div>"
      ],
      "text/plain": [
       "    ID    Source    TMC  Severity           Start_Time             End_Time  \\\n",
       "0  A-1  MapQuest  201.0         3  2016-02-08 05:46:00  2016-02-08 11:00:00   \n",
       "1  A-2  MapQuest  201.0         2  2016-02-08 06:07:59  2016-02-08 06:37:59   \n",
       "2  A-3  MapQuest  201.0         2  2016-02-08 06:49:27  2016-02-08 07:19:27   \n",
       "3  A-4  MapQuest  201.0         3  2016-02-08 07:23:34  2016-02-08 07:53:34   \n",
       "4  A-5  MapQuest  201.0         2  2016-02-08 07:39:07  2016-02-08 08:09:07   \n",
       "\n",
       "   Start_Lat  Start_Lng  End_Lat  End_Lng  ...  Roundabout Station   Stop  \\\n",
       "0  39.865147 -84.058723      NaN      NaN  ...       False   False  False   \n",
       "1  39.928059 -82.831184      NaN      NaN  ...       False   False  False   \n",
       "2  39.063148 -84.032608      NaN      NaN  ...       False   False  False   \n",
       "3  39.747753 -84.205582      NaN      NaN  ...       False   False  False   \n",
       "4  39.627781 -84.188354      NaN      NaN  ...       False   False  False   \n",
       "\n",
       "  Traffic_Calming Traffic_Signal Turning_Loop Sunrise_Sunset Civil_Twilight  \\\n",
       "0           False          False        False          Night          Night   \n",
       "1           False          False        False          Night          Night   \n",
       "2           False           True        False          Night          Night   \n",
       "3           False          False        False          Night            Day   \n",
       "4           False           True        False            Day            Day   \n",
       "\n",
       "  Nautical_Twilight Astronomical_Twilight  \n",
       "0             Night                 Night  \n",
       "1             Night                   Day  \n",
       "2               Day                   Day  \n",
       "3               Day                   Day  \n",
       "4               Day                   Day  \n",
       "\n",
       "[5 rows x 49 columns]"
      ]
     },
     "execution_count": 6,
     "metadata": {},
     "output_type": "execute_result"
    }
   ],
   "source": [
    "#Running to see top 5 records in the dataset\n",
    "\n",
    "accidents_source.head()"
   ]
  },
  {
   "cell_type": "code",
   "execution_count": 7,
   "metadata": {},
   "outputs": [
    {
     "data": {
      "text/html": [
       "<div>\n",
       "<style scoped>\n",
       "    .dataframe tbody tr th:only-of-type {\n",
       "        vertical-align: middle;\n",
       "    }\n",
       "\n",
       "    .dataframe tbody tr th {\n",
       "        vertical-align: top;\n",
       "    }\n",
       "\n",
       "    .dataframe thead th {\n",
       "        text-align: right;\n",
       "    }\n",
       "</style>\n",
       "<table border=\"1\" class=\"dataframe\">\n",
       "  <thead>\n",
       "    <tr style=\"text-align: right;\">\n",
       "      <th></th>\n",
       "      <th>ID</th>\n",
       "      <th>Source</th>\n",
       "      <th>TMC</th>\n",
       "      <th>Severity</th>\n",
       "      <th>Start_Time</th>\n",
       "      <th>End_Time</th>\n",
       "      <th>Start_Lat</th>\n",
       "      <th>Start_Lng</th>\n",
       "      <th>End_Lat</th>\n",
       "      <th>End_Lng</th>\n",
       "      <th>...</th>\n",
       "      <th>Roundabout</th>\n",
       "      <th>Station</th>\n",
       "      <th>Stop</th>\n",
       "      <th>Traffic_Calming</th>\n",
       "      <th>Traffic_Signal</th>\n",
       "      <th>Turning_Loop</th>\n",
       "      <th>Sunrise_Sunset</th>\n",
       "      <th>Civil_Twilight</th>\n",
       "      <th>Nautical_Twilight</th>\n",
       "      <th>Astronomical_Twilight</th>\n",
       "    </tr>\n",
       "  </thead>\n",
       "  <tbody>\n",
       "    <tr>\n",
       "      <th>count</th>\n",
       "      <td>2974335</td>\n",
       "      <td>2974335</td>\n",
       "      <td>2246264</td>\n",
       "      <td>2974335</td>\n",
       "      <td>2974335</td>\n",
       "      <td>2974335</td>\n",
       "      <td>2974335</td>\n",
       "      <td>2974335</td>\n",
       "      <td>728071</td>\n",
       "      <td>728071</td>\n",
       "      <td>...</td>\n",
       "      <td>2974335</td>\n",
       "      <td>2974335</td>\n",
       "      <td>2974335</td>\n",
       "      <td>2974335</td>\n",
       "      <td>2974335</td>\n",
       "      <td>2974335</td>\n",
       "      <td>2974242</td>\n",
       "      <td>2974242</td>\n",
       "      <td>2974242</td>\n",
       "      <td>2974242</td>\n",
       "    </tr>\n",
       "  </tbody>\n",
       "</table>\n",
       "<p>1 rows × 49 columns</p>\n",
       "</div>"
      ],
      "text/plain": [
       "            ID   Source      TMC  Severity  Start_Time  End_Time  Start_Lat  \\\n",
       "count  2974335  2974335  2246264   2974335     2974335   2974335    2974335   \n",
       "\n",
       "       Start_Lng  End_Lat  End_Lng  ...  Roundabout  Station     Stop  \\\n",
       "count    2974335   728071   728071  ...     2974335  2974335  2974335   \n",
       "\n",
       "       Traffic_Calming  Traffic_Signal  Turning_Loop  Sunrise_Sunset  \\\n",
       "count          2974335         2974335       2974335         2974242   \n",
       "\n",
       "       Civil_Twilight  Nautical_Twilight  Astronomical_Twilight  \n",
       "count         2974242            2974242                2974242  \n",
       "\n",
       "[1 rows x 49 columns]"
      ]
     },
     "execution_count": 7,
     "metadata": {},
     "output_type": "execute_result"
    }
   ],
   "source": [
    "# Finding total count of values in each column\n",
    "\n",
    "accidents_source.agg([\"count\"])"
   ]
  },
  {
   "cell_type": "code",
   "execution_count": 8,
   "metadata": {
    "scrolled": true
   },
   "outputs": [
    {
     "data": {
      "text/plain": [
       "ID                             0\n",
       "Source                         0\n",
       "TMC                       728071\n",
       "Severity                       0\n",
       "Start_Time                     0\n",
       "End_Time                       0\n",
       "Start_Lat                      0\n",
       "Start_Lng                      0\n",
       "End_Lat                  2246264\n",
       "End_Lng                  2246264\n",
       "Distance(mi)                   0\n",
       "Description                    1\n",
       "Number                   1917605\n",
       "Street                         0\n",
       "Side                           0\n",
       "City                          83\n",
       "County                         0\n",
       "State                          0\n",
       "Zipcode                      880\n",
       "Country                        0\n",
       "Timezone                    3163\n",
       "Airport_Code                5691\n",
       "Weather_Timestamp          36705\n",
       "Temperature(F)             56063\n",
       "Wind_Chill(F)            1852623\n",
       "Humidity(%)                59173\n",
       "Pressure(in)               48142\n",
       "Visibility(mi)             65691\n",
       "Wind_Direction             45101\n",
       "Wind_Speed(mph)           440840\n",
       "Precipitation(in)        1998358\n",
       "Weather_Condition          65932\n",
       "Amenity                        0\n",
       "Bump                           0\n",
       "Crossing                       0\n",
       "Give_Way                       0\n",
       "Junction                       0\n",
       "No_Exit                        0\n",
       "Railway                        0\n",
       "Roundabout                     0\n",
       "Station                        0\n",
       "Stop                           0\n",
       "Traffic_Calming                0\n",
       "Traffic_Signal                 0\n",
       "Turning_Loop                   0\n",
       "Sunrise_Sunset                93\n",
       "Civil_Twilight                93\n",
       "Nautical_Twilight             93\n",
       "Astronomical_Twilight         93\n",
       "dtype: int64"
      ]
     },
     "execution_count": 8,
     "metadata": {},
     "output_type": "execute_result"
    }
   ],
   "source": [
    "# Finding number of null values within each column\n",
    "\n",
    "accidents_source.isna().sum()"
   ]
  },
  {
   "cell_type": "code",
   "execution_count": 9,
   "metadata": {
    "scrolled": true
   },
   "outputs": [
    {
     "data": {
      "text/plain": [
       "MapQuest         2204098\n",
       "Bing              728071\n",
       "MapQuest-Bing      42166\n",
       "Name: Source, dtype: int64"
      ]
     },
     "execution_count": 9,
     "metadata": {},
     "output_type": "execute_result"
    }
   ],
   "source": [
    "accidents_source[\"Source\"].value_counts()\n"
   ]
  },
  {
   "cell_type": "code",
   "execution_count": null,
   "metadata": {},
   "outputs": [],
   "source": []
  },
  {
   "cell_type": "markdown",
   "metadata": {},
   "source": [
    "*The below columns have most of the values as null:</b>\n",
    "\n",
    "1. End_Lat: 2246264 out of 2974335\n",
    "2. End_Lng: 2246264 out of 2974335\n",
    "3. Number: 1917605 out of 2974335\n",
    "4. Wind_Chill(F): 1852623 out of 2974335\n",
    "5. Precipitation(in): 1998358 out of 2974335\n",
    "\n",
    "*The columns <b>End_Lat, End_Lng, Number</b> do not have much significance for our analysis and most of the data is null, the columns will be removed\n",
    "\n",
    "*Since <b>Wind_Chill(F) and Precipitation(in)</b> are weather factors and might be used in analysis of weather factor relationship with accidents.\n",
    "\n",
    "*Column <b>\"ID\"</b> is an identity column for each row and is of no significance in the analysis hence will be removed.\n",
    "\n",
    "*Column <b>\"Source\"</b> has three values: MapQuest (2204098), Bing (728071), MapQuest-Bing(42166) with MapQuest being the source for most of the data. Since our focus is not on the source of the data the column will be removed.\n",
    "\n",
    "*Column <b>\"TMC\"</b> has been removed as it is needed for our analysis.\n",
    "*Column <b>\"Description\"</b> is a brief description of accidents and since other columns provide factors around accidents are provided and sufficient of our analysis, the column is being removed\n",
    "\n",
    "*Colums related to location of Accidents:\n",
    "\n",
    "1. Side : Not relevant for our study\n",
    "2. City: Needed for analysis\n",
    "3. County: Neede fo analysis\n",
    "4. State: Needed for analysis\n",
    "5. Zipcode: Analysis would be based on city, state, county and hence not needed\n",
    "6. Country: The data is for only for country: US and hence removed\n",
    "7. Timezone: Since the time of accident is provided in local timezone and being analyzed based on local timezone and hence being removed\n",
    "8. Airport_Code: Not required in analysis\n",
    "\n",
    "<b>Amenity, Bump, Crossing, Give_Way, Junction, No_Exit, Railway, Roundabout, Station, Stop, Traffic_Calming, Traffic_Signal, Turning_Loop factors</b> are not being analyzed as part of our study and hence removed from data set\n",
    "\n",
    "<b>Civil_Twilight, Nautical_Twilight and Astronomical_Twilight </b> are being removed as analysis on time point would be done using Start_Time of accidents\n",
    "\n",
    "The data provided in the data set is from February 2016 to December 2019 but data before December 2016 will be removed as focus is to analysis data from Winter 2016 to Fall 2019."
   ]
  },
  {
   "cell_type": "code",
   "execution_count": 10,
   "metadata": {},
   "outputs": [],
   "source": [
    "#accidents_source[[\"End Date\",\"End Time\"]]=accidents_source[\"End_Time\"].str.split(expand=True)"
   ]
  },
  {
   "cell_type": "code",
   "execution_count": 11,
   "metadata": {
    "scrolled": true
   },
   "outputs": [],
   "source": [
    "# Setting list of columns that will used from data source n futher analysis\n",
    "\n",
    "target_columns=['Severity','Start_Time','End_Time','Start_Lat', 'Start_Lng','City', 'County','State',\\\n",
    "                'Zipcode', 'Temperature(F)', 'Wind_Chill(F)', 'Humidity(%)', 'Pressure(in)',\\\n",
    "       'Visibility(mi)', 'Wind_Direction', 'Wind_Speed(mph)','Precipitation(in)', 'Weather_Condition','Sunrise_Sunset']\n"
   ]
  },
  {
   "cell_type": "code",
   "execution_count": 12,
   "metadata": {},
   "outputs": [],
   "source": [
    "#Keeping data from December 2016 to reduce size of data and focus on 2017, 2018 and 2019\n",
    "\n",
    "accident_target=accidents_source.loc[accidents_source['Start_Time']>='2016-12-01'][target_columns].reset_index(drop=True)\n"
   ]
  },
  {
   "cell_type": "code",
   "execution_count": 13,
   "metadata": {},
   "outputs": [
    {
     "data": {
      "text/html": [
       "<div>\n",
       "<style scoped>\n",
       "    .dataframe tbody tr th:only-of-type {\n",
       "        vertical-align: middle;\n",
       "    }\n",
       "\n",
       "    .dataframe tbody tr th {\n",
       "        vertical-align: top;\n",
       "    }\n",
       "\n",
       "    .dataframe thead th {\n",
       "        text-align: right;\n",
       "    }\n",
       "</style>\n",
       "<table border=\"1\" class=\"dataframe\">\n",
       "  <thead>\n",
       "    <tr style=\"text-align: right;\">\n",
       "      <th></th>\n",
       "      <th>Severity</th>\n",
       "      <th>Start_Time</th>\n",
       "      <th>End_Time</th>\n",
       "      <th>Start_Lat</th>\n",
       "      <th>Start_Lng</th>\n",
       "      <th>City</th>\n",
       "      <th>County</th>\n",
       "      <th>State</th>\n",
       "      <th>Zipcode</th>\n",
       "      <th>Temperature(F)</th>\n",
       "      <th>Wind_Chill(F)</th>\n",
       "      <th>Humidity(%)</th>\n",
       "      <th>Pressure(in)</th>\n",
       "      <th>Visibility(mi)</th>\n",
       "      <th>Wind_Direction</th>\n",
       "      <th>Wind_Speed(mph)</th>\n",
       "      <th>Precipitation(in)</th>\n",
       "      <th>Weather_Condition</th>\n",
       "      <th>Sunrise_Sunset</th>\n",
       "    </tr>\n",
       "  </thead>\n",
       "  <tbody>\n",
       "    <tr>\n",
       "      <th>0</th>\n",
       "      <td>2</td>\n",
       "      <td>2016-12-01 00:19:29</td>\n",
       "      <td>2016-12-01 01:04:07</td>\n",
       "      <td>38.481644</td>\n",
       "      <td>-121.334816</td>\n",
       "      <td>Sacramento</td>\n",
       "      <td>Sacramento</td>\n",
       "      <td>CA</td>\n",
       "      <td>95829-9422</td>\n",
       "      <td>37.4</td>\n",
       "      <td>NaN</td>\n",
       "      <td>100.0</td>\n",
       "      <td>30.09</td>\n",
       "      <td>0.8</td>\n",
       "      <td>Calm</td>\n",
       "      <td>NaN</td>\n",
       "      <td>NaN</td>\n",
       "      <td>NaN</td>\n",
       "      <td>Night</td>\n",
       "    </tr>\n",
       "    <tr>\n",
       "      <th>1</th>\n",
       "      <td>2</td>\n",
       "      <td>2016-12-01 01:11:30</td>\n",
       "      <td>2016-12-01 01:41:13</td>\n",
       "      <td>37.421124</td>\n",
       "      <td>-122.092476</td>\n",
       "      <td>Mountain View</td>\n",
       "      <td>Santa Clara</td>\n",
       "      <td>CA</td>\n",
       "      <td>94043</td>\n",
       "      <td>46.9</td>\n",
       "      <td>NaN</td>\n",
       "      <td>90.0</td>\n",
       "      <td>30.13</td>\n",
       "      <td>10.0</td>\n",
       "      <td>WSW</td>\n",
       "      <td>3.5</td>\n",
       "      <td>NaN</td>\n",
       "      <td>Clear</td>\n",
       "      <td>Night</td>\n",
       "    </tr>\n",
       "    <tr>\n",
       "      <th>2</th>\n",
       "      <td>3</td>\n",
       "      <td>2016-12-01 01:36:51</td>\n",
       "      <td>2016-12-01 02:21:42</td>\n",
       "      <td>37.789349</td>\n",
       "      <td>-122.254303</td>\n",
       "      <td>Oakland</td>\n",
       "      <td>Alameda</td>\n",
       "      <td>CA</td>\n",
       "      <td>94606</td>\n",
       "      <td>46.9</td>\n",
       "      <td>NaN</td>\n",
       "      <td>90.0</td>\n",
       "      <td>30.11</td>\n",
       "      <td>10.0</td>\n",
       "      <td>ESE</td>\n",
       "      <td>5.8</td>\n",
       "      <td>NaN</td>\n",
       "      <td>Mostly Cloudy</td>\n",
       "      <td>Night</td>\n",
       "    </tr>\n",
       "    <tr>\n",
       "      <th>3</th>\n",
       "      <td>2</td>\n",
       "      <td>2016-12-01 01:34:28</td>\n",
       "      <td>2016-12-01 02:21:01</td>\n",
       "      <td>37.257954</td>\n",
       "      <td>-122.093964</td>\n",
       "      <td>Saratoga</td>\n",
       "      <td>Santa Clara</td>\n",
       "      <td>CA</td>\n",
       "      <td>95070-9704</td>\n",
       "      <td>48.0</td>\n",
       "      <td>NaN</td>\n",
       "      <td>83.0</td>\n",
       "      <td>30.11</td>\n",
       "      <td>10.0</td>\n",
       "      <td>Calm</td>\n",
       "      <td>NaN</td>\n",
       "      <td>NaN</td>\n",
       "      <td>Clear</td>\n",
       "      <td>Night</td>\n",
       "    </tr>\n",
       "    <tr>\n",
       "      <th>4</th>\n",
       "      <td>2</td>\n",
       "      <td>2016-12-01 01:45:02</td>\n",
       "      <td>2016-12-01 02:14:14</td>\n",
       "      <td>38.004459</td>\n",
       "      <td>-122.038872</td>\n",
       "      <td>Concord</td>\n",
       "      <td>Contra Costa</td>\n",
       "      <td>CA</td>\n",
       "      <td>94520</td>\n",
       "      <td>44.1</td>\n",
       "      <td>NaN</td>\n",
       "      <td>82.0</td>\n",
       "      <td>30.07</td>\n",
       "      <td>9.0</td>\n",
       "      <td>Calm</td>\n",
       "      <td>NaN</td>\n",
       "      <td>NaN</td>\n",
       "      <td>Clear</td>\n",
       "      <td>Night</td>\n",
       "    </tr>\n",
       "  </tbody>\n",
       "</table>\n",
       "</div>"
      ],
      "text/plain": [
       "   Severity           Start_Time             End_Time  Start_Lat   Start_Lng  \\\n",
       "0         2  2016-12-01 00:19:29  2016-12-01 01:04:07  38.481644 -121.334816   \n",
       "1         2  2016-12-01 01:11:30  2016-12-01 01:41:13  37.421124 -122.092476   \n",
       "2         3  2016-12-01 01:36:51  2016-12-01 02:21:42  37.789349 -122.254303   \n",
       "3         2  2016-12-01 01:34:28  2016-12-01 02:21:01  37.257954 -122.093964   \n",
       "4         2  2016-12-01 01:45:02  2016-12-01 02:14:14  38.004459 -122.038872   \n",
       "\n",
       "            City        County State     Zipcode  Temperature(F)  \\\n",
       "0     Sacramento    Sacramento    CA  95829-9422            37.4   \n",
       "1  Mountain View   Santa Clara    CA       94043            46.9   \n",
       "2        Oakland       Alameda    CA       94606            46.9   \n",
       "3       Saratoga   Santa Clara    CA  95070-9704            48.0   \n",
       "4        Concord  Contra Costa    CA       94520            44.1   \n",
       "\n",
       "   Wind_Chill(F)  Humidity(%)  Pressure(in)  Visibility(mi) Wind_Direction  \\\n",
       "0            NaN        100.0         30.09             0.8           Calm   \n",
       "1            NaN         90.0         30.13            10.0            WSW   \n",
       "2            NaN         90.0         30.11            10.0            ESE   \n",
       "3            NaN         83.0         30.11            10.0           Calm   \n",
       "4            NaN         82.0         30.07             9.0           Calm   \n",
       "\n",
       "   Wind_Speed(mph)  Precipitation(in) Weather_Condition Sunrise_Sunset  \n",
       "0              NaN                NaN               NaN          Night  \n",
       "1              3.5                NaN             Clear          Night  \n",
       "2              5.8                NaN     Mostly Cloudy          Night  \n",
       "3              NaN                NaN             Clear          Night  \n",
       "4              NaN                NaN             Clear          Night  "
      ]
     },
     "execution_count": 13,
     "metadata": {},
     "output_type": "execute_result"
    }
   ],
   "source": [
    "accident_target.head()"
   ]
  },
  {
   "cell_type": "code",
   "execution_count": 14,
   "metadata": {},
   "outputs": [
    {
     "data": {
      "text/plain": [
       "Severity               int64\n",
       "Start_Time            object\n",
       "End_Time              object\n",
       "Start_Lat            float64\n",
       "Start_Lng            float64\n",
       "City                  object\n",
       "County                object\n",
       "State                 object\n",
       "Zipcode               object\n",
       "Temperature(F)       float64\n",
       "Wind_Chill(F)        float64\n",
       "Humidity(%)          float64\n",
       "Pressure(in)         float64\n",
       "Visibility(mi)       float64\n",
       "Wind_Direction        object\n",
       "Wind_Speed(mph)      float64\n",
       "Precipitation(in)    float64\n",
       "Weather_Condition     object\n",
       "Sunrise_Sunset        object\n",
       "dtype: object"
      ]
     },
     "execution_count": 14,
     "metadata": {},
     "output_type": "execute_result"
    }
   ],
   "source": [
    "#Checking datatype for columns in the resultant data-set\n",
    "accident_target.dtypes"
   ]
  },
  {
   "cell_type": "code",
   "execution_count": 15,
   "metadata": {},
   "outputs": [],
   "source": [
    "# Changing datatype of Start_Time column to datetime as this column will be used to find \n",
    "#month/year/season/hour for our time analysis\n",
    "accident_target[\"Start_Time\"]=pd.to_datetime(accident_target[\"Start_Time\"],format='%Y-%m-%d %H:%M:%S.%f')"
   ]
  },
  {
   "cell_type": "code",
   "execution_count": 16,
   "metadata": {},
   "outputs": [],
   "source": [
    "# Adding a new column \"Start_Year\" for analysis on year\n",
    "accident_target[\"Start_Year\"]=accident_target[\"Start_Time\"].dt.year\n",
    "\n",
    "#accident_target.head()"
   ]
  },
  {
   "cell_type": "code",
   "execution_count": 17,
   "metadata": {},
   "outputs": [],
   "source": [
    "#Adding a new column \"Season\" for analysis based on Season in different years\n",
    "#Seasons are being set based on below logic:\n",
    "#months in (Dec,Jan,Feb) then Winter\n",
    "#months in (Mar,Apr,May) the Spring\n",
    "#months in (Jun, Jul, Aug) then Summer\n",
    "#months in (Sep, Oct, Nov) then Fall\n",
    "\n",
    "accident_target[\"Season\"]=np.select(\n",
    "    [\n",
    "        (accident_target[\"Start_Time\"].dt.month== 12) | (accident_target[\"Start_Time\"].dt.month== 1)| (accident_target[\"Start_Time\"].dt.month== 2), \n",
    "        (accident_target[\"Start_Time\"].dt.month== 3) | (accident_target[\"Start_Time\"].dt.month== 4)| (accident_target[\"Start_Time\"].dt.month== 5),\n",
    "        (accident_target[\"Start_Time\"].dt.month== 6) | (accident_target[\"Start_Time\"].dt.month== 7)| (accident_target[\"Start_Time\"].dt.month== 8),\n",
    "        (accident_target[\"Start_Time\"].dt.month== 9) | (accident_target[\"Start_Time\"].dt.month== 10)| (accident_target[\"Start_Time\"].dt.month== 11)\n",
    "        \n",
    "    ], \n",
    "    [\n",
    "        'Winter', \n",
    "        'Spring',\n",
    "        'Summer',\n",
    "        'Fall'\n",
    "    ], \n",
    "    default='Unknown'\n",
    ")\n"
   ]
  },
  {
   "cell_type": "code",
   "execution_count": 18,
   "metadata": {},
   "outputs": [
    {
     "data": {
      "text/html": [
       "<div>\n",
       "<style scoped>\n",
       "    .dataframe tbody tr th:only-of-type {\n",
       "        vertical-align: middle;\n",
       "    }\n",
       "\n",
       "    .dataframe tbody tr th {\n",
       "        vertical-align: top;\n",
       "    }\n",
       "\n",
       "    .dataframe thead th {\n",
       "        text-align: right;\n",
       "    }\n",
       "</style>\n",
       "<table border=\"1\" class=\"dataframe\">\n",
       "  <thead>\n",
       "    <tr style=\"text-align: right;\">\n",
       "      <th></th>\n",
       "      <th>Severity</th>\n",
       "      <th>Start_Time</th>\n",
       "      <th>End_Time</th>\n",
       "      <th>Start_Lat</th>\n",
       "      <th>Start_Lng</th>\n",
       "      <th>City</th>\n",
       "      <th>County</th>\n",
       "      <th>State</th>\n",
       "      <th>Zipcode</th>\n",
       "      <th>Temperature(F)</th>\n",
       "      <th>...</th>\n",
       "      <th>Humidity(%)</th>\n",
       "      <th>Pressure(in)</th>\n",
       "      <th>Visibility(mi)</th>\n",
       "      <th>Wind_Direction</th>\n",
       "      <th>Wind_Speed(mph)</th>\n",
       "      <th>Precipitation(in)</th>\n",
       "      <th>Weather_Condition</th>\n",
       "      <th>Sunrise_Sunset</th>\n",
       "      <th>Start_Year</th>\n",
       "      <th>Season</th>\n",
       "    </tr>\n",
       "  </thead>\n",
       "  <tbody>\n",
       "    <tr>\n",
       "      <th>0</th>\n",
       "      <td>2</td>\n",
       "      <td>2016-12-01 00:19:29</td>\n",
       "      <td>2016-12-01 01:04:07</td>\n",
       "      <td>38.481644</td>\n",
       "      <td>-121.334816</td>\n",
       "      <td>Sacramento</td>\n",
       "      <td>Sacramento</td>\n",
       "      <td>CA</td>\n",
       "      <td>95829-9422</td>\n",
       "      <td>37.4</td>\n",
       "      <td>...</td>\n",
       "      <td>100.0</td>\n",
       "      <td>30.09</td>\n",
       "      <td>0.8</td>\n",
       "      <td>Calm</td>\n",
       "      <td>NaN</td>\n",
       "      <td>NaN</td>\n",
       "      <td>NaN</td>\n",
       "      <td>Night</td>\n",
       "      <td>2016</td>\n",
       "      <td>Winter</td>\n",
       "    </tr>\n",
       "    <tr>\n",
       "      <th>1</th>\n",
       "      <td>2</td>\n",
       "      <td>2016-12-01 01:11:30</td>\n",
       "      <td>2016-12-01 01:41:13</td>\n",
       "      <td>37.421124</td>\n",
       "      <td>-122.092476</td>\n",
       "      <td>Mountain View</td>\n",
       "      <td>Santa Clara</td>\n",
       "      <td>CA</td>\n",
       "      <td>94043</td>\n",
       "      <td>46.9</td>\n",
       "      <td>...</td>\n",
       "      <td>90.0</td>\n",
       "      <td>30.13</td>\n",
       "      <td>10.0</td>\n",
       "      <td>WSW</td>\n",
       "      <td>3.5</td>\n",
       "      <td>NaN</td>\n",
       "      <td>Clear</td>\n",
       "      <td>Night</td>\n",
       "      <td>2016</td>\n",
       "      <td>Winter</td>\n",
       "    </tr>\n",
       "    <tr>\n",
       "      <th>2</th>\n",
       "      <td>3</td>\n",
       "      <td>2016-12-01 01:36:51</td>\n",
       "      <td>2016-12-01 02:21:42</td>\n",
       "      <td>37.789349</td>\n",
       "      <td>-122.254303</td>\n",
       "      <td>Oakland</td>\n",
       "      <td>Alameda</td>\n",
       "      <td>CA</td>\n",
       "      <td>94606</td>\n",
       "      <td>46.9</td>\n",
       "      <td>...</td>\n",
       "      <td>90.0</td>\n",
       "      <td>30.11</td>\n",
       "      <td>10.0</td>\n",
       "      <td>ESE</td>\n",
       "      <td>5.8</td>\n",
       "      <td>NaN</td>\n",
       "      <td>Mostly Cloudy</td>\n",
       "      <td>Night</td>\n",
       "      <td>2016</td>\n",
       "      <td>Winter</td>\n",
       "    </tr>\n",
       "    <tr>\n",
       "      <th>3</th>\n",
       "      <td>2</td>\n",
       "      <td>2016-12-01 01:34:28</td>\n",
       "      <td>2016-12-01 02:21:01</td>\n",
       "      <td>37.257954</td>\n",
       "      <td>-122.093964</td>\n",
       "      <td>Saratoga</td>\n",
       "      <td>Santa Clara</td>\n",
       "      <td>CA</td>\n",
       "      <td>95070-9704</td>\n",
       "      <td>48.0</td>\n",
       "      <td>...</td>\n",
       "      <td>83.0</td>\n",
       "      <td>30.11</td>\n",
       "      <td>10.0</td>\n",
       "      <td>Calm</td>\n",
       "      <td>NaN</td>\n",
       "      <td>NaN</td>\n",
       "      <td>Clear</td>\n",
       "      <td>Night</td>\n",
       "      <td>2016</td>\n",
       "      <td>Winter</td>\n",
       "    </tr>\n",
       "    <tr>\n",
       "      <th>4</th>\n",
       "      <td>2</td>\n",
       "      <td>2016-12-01 01:45:02</td>\n",
       "      <td>2016-12-01 02:14:14</td>\n",
       "      <td>38.004459</td>\n",
       "      <td>-122.038872</td>\n",
       "      <td>Concord</td>\n",
       "      <td>Contra Costa</td>\n",
       "      <td>CA</td>\n",
       "      <td>94520</td>\n",
       "      <td>44.1</td>\n",
       "      <td>...</td>\n",
       "      <td>82.0</td>\n",
       "      <td>30.07</td>\n",
       "      <td>9.0</td>\n",
       "      <td>Calm</td>\n",
       "      <td>NaN</td>\n",
       "      <td>NaN</td>\n",
       "      <td>Clear</td>\n",
       "      <td>Night</td>\n",
       "      <td>2016</td>\n",
       "      <td>Winter</td>\n",
       "    </tr>\n",
       "  </tbody>\n",
       "</table>\n",
       "<p>5 rows × 21 columns</p>\n",
       "</div>"
      ],
      "text/plain": [
       "   Severity          Start_Time             End_Time  Start_Lat   Start_Lng  \\\n",
       "0         2 2016-12-01 00:19:29  2016-12-01 01:04:07  38.481644 -121.334816   \n",
       "1         2 2016-12-01 01:11:30  2016-12-01 01:41:13  37.421124 -122.092476   \n",
       "2         3 2016-12-01 01:36:51  2016-12-01 02:21:42  37.789349 -122.254303   \n",
       "3         2 2016-12-01 01:34:28  2016-12-01 02:21:01  37.257954 -122.093964   \n",
       "4         2 2016-12-01 01:45:02  2016-12-01 02:14:14  38.004459 -122.038872   \n",
       "\n",
       "            City        County State     Zipcode  Temperature(F)  ...  \\\n",
       "0     Sacramento    Sacramento    CA  95829-9422            37.4  ...   \n",
       "1  Mountain View   Santa Clara    CA       94043            46.9  ...   \n",
       "2        Oakland       Alameda    CA       94606            46.9  ...   \n",
       "3       Saratoga   Santa Clara    CA  95070-9704            48.0  ...   \n",
       "4        Concord  Contra Costa    CA       94520            44.1  ...   \n",
       "\n",
       "   Humidity(%)  Pressure(in)  Visibility(mi)  Wind_Direction Wind_Speed(mph)  \\\n",
       "0        100.0         30.09             0.8            Calm             NaN   \n",
       "1         90.0         30.13            10.0             WSW             3.5   \n",
       "2         90.0         30.11            10.0             ESE             5.8   \n",
       "3         83.0         30.11            10.0            Calm             NaN   \n",
       "4         82.0         30.07             9.0            Calm             NaN   \n",
       "\n",
       "   Precipitation(in)  Weather_Condition Sunrise_Sunset Start_Year  Season  \n",
       "0                NaN                NaN          Night       2016  Winter  \n",
       "1                NaN              Clear          Night       2016  Winter  \n",
       "2                NaN      Mostly Cloudy          Night       2016  Winter  \n",
       "3                NaN              Clear          Night       2016  Winter  \n",
       "4                NaN              Clear          Night       2016  Winter  \n",
       "\n",
       "[5 rows x 21 columns]"
      ]
     },
     "execution_count": 18,
     "metadata": {},
     "output_type": "execute_result"
    }
   ],
   "source": [
    "accident_target.head()"
   ]
  },
  {
   "cell_type": "code",
   "execution_count": 19,
   "metadata": {},
   "outputs": [],
   "source": [
    "#Writing clean data-set into a csv to create smaller and cleaner file that can be used by individual contributors\n",
    "\n",
    "accident_target.to_csv(\"TargetData/us_accident_clean.csv\",index=False)"
   ]
  },
  {
   "cell_type": "markdown",
   "metadata": {},
   "source": [
    "## Analysis of Location and Population on Number of Accidents"
   ]
  },
  {
   "cell_type": "markdown",
   "metadata": {},
   "source": [
    "### Analysis of states based on Number of Accidents"
   ]
  },
  {
   "cell_type": "code",
   "execution_count": 20,
   "metadata": {
    "scrolled": true
   },
   "outputs": [
    {
     "data": {
      "text/html": [
       "<div>\n",
       "<style scoped>\n",
       "    .dataframe tbody tr th:only-of-type {\n",
       "        vertical-align: middle;\n",
       "    }\n",
       "\n",
       "    .dataframe tbody tr th {\n",
       "        vertical-align: top;\n",
       "    }\n",
       "\n",
       "    .dataframe thead th {\n",
       "        text-align: right;\n",
       "    }\n",
       "</style>\n",
       "<table border=\"1\" class=\"dataframe\">\n",
       "  <thead>\n",
       "    <tr style=\"text-align: right;\">\n",
       "      <th></th>\n",
       "      <th>State</th>\n",
       "      <th>Year</th>\n",
       "      <th>Accident Count</th>\n",
       "    </tr>\n",
       "  </thead>\n",
       "  <tbody>\n",
       "    <tr>\n",
       "      <th>0</th>\n",
       "      <td>CA</td>\n",
       "      <td>2019</td>\n",
       "      <td>213307</td>\n",
       "    </tr>\n",
       "    <tr>\n",
       "      <th>1</th>\n",
       "      <td>CA</td>\n",
       "      <td>2018</td>\n",
       "      <td>156777</td>\n",
       "    </tr>\n",
       "    <tr>\n",
       "      <th>2</th>\n",
       "      <td>CA</td>\n",
       "      <td>2017</td>\n",
       "      <td>152664</td>\n",
       "    </tr>\n",
       "    <tr>\n",
       "      <th>3</th>\n",
       "      <td>TX</td>\n",
       "      <td>2017</td>\n",
       "      <td>85542</td>\n",
       "    </tr>\n",
       "    <tr>\n",
       "      <th>4</th>\n",
       "      <td>TX</td>\n",
       "      <td>2018</td>\n",
       "      <td>84049</td>\n",
       "    </tr>\n",
       "  </tbody>\n",
       "</table>\n",
       "</div>"
      ],
      "text/plain": [
       "  State  Year  Accident Count\n",
       "0    CA  2019          213307\n",
       "1    CA  2018          156777\n",
       "2    CA  2017          152664\n",
       "3    TX  2017           85542\n",
       "4    TX  2018           84049"
      ]
     },
     "execution_count": 20,
     "metadata": {},
     "output_type": "execute_result"
    }
   ],
   "source": [
    "#Creating Dataframe that contains counts of Accidents per state in each year\n",
    "\n",
    "accident_state_year=pd.DataFrame(accident_target[accident_target[\"Start_Time\"]>='2017-01-01']\\\n",
    "                                 .groupby([\"State\",\"Start_Year\"])[\"Start_Time\"].count())\\\n",
    ".sort_values(\"Start_Time\",ascending=False).reset_index()\n",
    "\n",
    "accident_state_year.columns=[\"State\",\"Year\",\"Accident Count\"]\n",
    "\n",
    "accident_state_year[[\"State\",\"Year\",\"Accident Count\"]].head()\n"
   ]
  },
  {
   "cell_type": "code",
   "execution_count": 21,
   "metadata": {
    "scrolled": false
   },
   "outputs": [
    {
     "data": {
      "image/png": "[encoded data removed]",
      "text/plain": [
       "<Figure size 1440x432 with 1 Axes>"
      ]
     },
     "metadata": {
      "needs_background": "light"
     },
     "output_type": "display_data"
    }
   ],
   "source": [
    "#Plotting of Distribution of Accidents in different states\n",
    "\n",
    "plt.figure(figsize=(20,6))\n",
    "_=plt.bar(accident_state_year[\"State\"],accident_state_year[\"Accident Count\"])\n",
    "plt.tight_layout()\n",
    "\n",
    "plt.xlabel(\"State\",fontsize=16)\n",
    "\n",
    "plt.ylabel(\"Number of Accidents\",fontsize=16)\n",
    "\n",
    "_=plt.title(\"Distribution of Accidents in different states in 2017-19\",fontsize=20)\n",
    "\n",
    "plt.savefig(\"Images/State_Accident.png\", bbox_inches='tight')"
   ]
  },
  {
   "cell_type": "code",
   "execution_count": 22,
   "metadata": {},
   "outputs": [],
   "source": [
    "# calculation combined Month and Year for Start of Accident\n",
    "accident_target[\"month_year\"]=accident_target[\"Start_Time\"].dt.year.astype(str)\\\n",
    "+'-'+accident_target[\"Start_Time\"].dt.month.astype(str)"
   ]
  },
  {
   "cell_type": "code",
   "execution_count": 23,
   "metadata": {},
   "outputs": [],
   "source": [
    "#accident_target.groupby(\"month_year\")[\"Start_Time\"].count().nlargest(3).index"
   ]
  },
  {
   "cell_type": "code",
   "execution_count": 24,
   "metadata": {},
   "outputs": [],
   "source": [
    "#Ceating list of top 3 months of accidents to plot data on maps of number of accidentd\n",
    "\n",
    "max_accident_3mon=[]\n",
    "max_accident_3mon.extend(accident_target.groupby(\"month_year\")[\"Start_Time\"].count().nlargest(3).index)\n",
    "\n",
    "#max_accident_3mon"
   ]
  },
  {
   "cell_type": "code",
   "execution_count": 25,
   "metadata": {},
   "outputs": [],
   "source": [
    "#CReating a traget dataframe for plotting number of accidents for top 3 months on gmaps\n",
    "accident_target_max3mon=accident_target.loc[accident_target[\"month_year\"].isin (max_accident_3mon)]"
   ]
  },
  {
   "cell_type": "code",
   "execution_count": 26,
   "metadata": {},
   "outputs": [],
   "source": [
    "locations=accident_target_max3mon[[\"Start_Lat\",\"Start_Lng\"]]\n"
   ]
  },
  {
   "cell_type": "code",
   "execution_count": 27,
   "metadata": {},
   "outputs": [
    {
     "data": {
      "application/vnd.jupyter.widget-view+json": {
       "model_id": "7e1d0e9a90344735b12660db786ea21e",
       "version_major": 2,
       "version_minor": 0
      },
      "text/plain": [
       "Figure(layout=FigureLayout(height='420px'))"
      ]
     },
     "metadata": {},
     "output_type": "display_data"
    }
   ],
   "source": [
    "# PLotting on google maps using gmaps\n",
    "\n",
    "fig=gmaps.figure()\n",
    "\n",
    "heatmap_layer=gmaps.heatmap_layer(locations,dissipating=False, max_intensity=5,\n",
    "                                 point_radius=0.1)\n",
    "\n",
    "\n",
    "# Add layer\n",
    "fig.add_layer(heatmap_layer)\n",
    "\n",
    "# Display figure\n",
    "fig\n",
    "\n"
   ]
  },
  {
   "cell_type": "markdown",
   "metadata": {},
   "source": [
    "##### California is the state with number of Accidents followed by Texas and Florida.. New York is ranked sixth"
   ]
  },
  {
   "cell_type": "code",
   "execution_count": null,
   "metadata": {},
   "outputs": [],
   "source": []
  },
  {
   "cell_type": "markdown",
   "metadata": {},
   "source": [
    "### 10 Cities with largest number of accidents in 2017-2019"
   ]
  },
  {
   "cell_type": "code",
   "execution_count": 28,
   "metadata": {},
   "outputs": [],
   "source": [
    "# Create a datafram of top 10 cities with maximum number of accidents in 2017-2019\n",
    "\n",
    "cities_accidents=accident_target.groupby([\"City\"])[\"Start_Time\"].count().nlargest(10).reset_index()\n",
    "#locations_ca_ny.head()\n",
    "\n",
    "cities_accidents.columns=[\"City\",\"Accident Count\"]"
   ]
  },
  {
   "cell_type": "code",
   "execution_count": 29,
   "metadata": {
    "scrolled": false
   },
   "outputs": [
    {
     "data": {
      "image/png": "[encoded data removed]",
      "text/plain": [
       "<Figure size 1440x432 with 1 Axes>"
      ]
     },
     "metadata": {
      "needs_background": "light"
     },
     "output_type": "display_data"
    }
   ],
   "source": [
    "#Ploting 10 Cities vs Accidents\n",
    "plt.figure(figsize=(20,6))\n",
    "_=plt.bar(cities_accidents[\"City\"],cities_accidents[\"Accident Count\"])\n",
    "plt.tight_layout()\n",
    "\n",
    "plt.xlabel(\"City\",fontsize=16)\n",
    "\n",
    "plt.ylabel(\"Number of Accidents\",fontsize=16)\n",
    "\n",
    "_=plt.title(\"Top 10 cities in terms of Accidents in 2017-19\",fontsize=20)\n",
    "\n",
    "plt.savefig(\"Images/TopCities_Accident.png\", bbox_inches='tight')"
   ]
  },
  {
   "cell_type": "markdown",
   "metadata": {},
   "source": [
    "##### Though California is the state with most accidents (almost triple than next state with most accidents) but ony one city in California (Los Angeles) is among 10 cities with most accidents\n",
    "\n",
    "Let's see the distribution of accidents in different cities of California and Texas"
   ]
  },
  {
   "cell_type": "code",
   "execution_count": 30,
   "metadata": {},
   "outputs": [],
   "source": [
    "accidents_cities_CA_TX=accident_target[accident_target[\"State\"].isin([\"CA\",\"TX\"])]\\\n",
    "                                    .groupby([\"State\",\"City\"])[\"Start_Time\"].count().reset_index()\n",
    "accidents_cities_CA_TX.rename(columns={\"Start_Time\":\"Accident Count\"},inplace=True)\n"
   ]
  },
  {
   "cell_type": "code",
   "execution_count": 31,
   "metadata": {},
   "outputs": [
    {
     "data": {
      "text/html": [
       "<div>\n",
       "<style scoped>\n",
       "    .dataframe tbody tr th:only-of-type {\n",
       "        vertical-align: middle;\n",
       "    }\n",
       "\n",
       "    .dataframe tbody tr th {\n",
       "        vertical-align: top;\n",
       "    }\n",
       "\n",
       "    .dataframe thead th {\n",
       "        text-align: right;\n",
       "    }\n",
       "</style>\n",
       "<table border=\"1\" class=\"dataframe\">\n",
       "  <thead>\n",
       "    <tr style=\"text-align: right;\">\n",
       "      <th></th>\n",
       "      <th>State</th>\n",
       "      <th>City</th>\n",
       "      <th>Accident Count</th>\n",
       "    </tr>\n",
       "  </thead>\n",
       "  <tbody>\n",
       "    <tr>\n",
       "      <th>1439</th>\n",
       "      <td>TX</td>\n",
       "      <td>Houston</td>\n",
       "      <td>80710</td>\n",
       "    </tr>\n",
       "    <tr>\n",
       "      <th>569</th>\n",
       "      <td>CA</td>\n",
       "      <td>Los Angeles</td>\n",
       "      <td>52363</td>\n",
       "    </tr>\n",
       "    <tr>\n",
       "      <th>1177</th>\n",
       "      <td>TX</td>\n",
       "      <td>Austin</td>\n",
       "      <td>49287</td>\n",
       "    </tr>\n",
       "    <tr>\n",
       "      <th>1302</th>\n",
       "      <td>TX</td>\n",
       "      <td>Dallas</td>\n",
       "      <td>47933</td>\n",
       "    </tr>\n",
       "    <tr>\n",
       "      <th>874</th>\n",
       "      <td>CA</td>\n",
       "      <td>Sacramento</td>\n",
       "      <td>20290</td>\n",
       "    </tr>\n",
       "    <tr>\n",
       "      <th>...</th>\n",
       "      <td>...</td>\n",
       "      <td>...</td>\n",
       "      <td>...</td>\n",
       "    </tr>\n",
       "    <tr>\n",
       "      <th>1345</th>\n",
       "      <td>TX</td>\n",
       "      <td>Eola</td>\n",
       "      <td>1</td>\n",
       "    </tr>\n",
       "    <tr>\n",
       "      <th>1560</th>\n",
       "      <td>TX</td>\n",
       "      <td>McLean</td>\n",
       "      <td>1</td>\n",
       "    </tr>\n",
       "    <tr>\n",
       "      <th>1346</th>\n",
       "      <td>TX</td>\n",
       "      <td>Etoile</td>\n",
       "      <td>1</td>\n",
       "    </tr>\n",
       "    <tr>\n",
       "      <th>1694</th>\n",
       "      <td>TX</td>\n",
       "      <td>Saint Hedwig</td>\n",
       "      <td>1</td>\n",
       "    </tr>\n",
       "    <tr>\n",
       "      <th>1545</th>\n",
       "      <td>TX</td>\n",
       "      <td>Marathon</td>\n",
       "      <td>1</td>\n",
       "    </tr>\n",
       "  </tbody>\n",
       "</table>\n",
       "<p>1845 rows × 3 columns</p>\n",
       "</div>"
      ],
      "text/plain": [
       "     State          City  Accident Count\n",
       "1439    TX       Houston           80710\n",
       "569     CA   Los Angeles           52363\n",
       "1177    TX        Austin           49287\n",
       "1302    TX        Dallas           47933\n",
       "874     CA    Sacramento           20290\n",
       "...    ...           ...             ...\n",
       "1345    TX          Eola               1\n",
       "1560    TX        McLean               1\n",
       "1346    TX        Etoile               1\n",
       "1694    TX  Saint Hedwig               1\n",
       "1545    TX      Marathon               1\n",
       "\n",
       "[1845 rows x 3 columns]"
      ]
     },
     "execution_count": 31,
     "metadata": {},
     "output_type": "execute_result"
    }
   ],
   "source": [
    "accidents_cities_CA_TX.sort_values([\"Accident Count\"],ascending=False)"
   ]
  },
  {
   "cell_type": "code",
   "execution_count": 32,
   "metadata": {},
   "outputs": [],
   "source": [
    "#plt.bar(accidents_cities_CA_TX[\"City\"],accidents_cities_CA_TX[\"Accident Count\"])"
   ]
  },
  {
   "cell_type": "code",
   "execution_count": null,
   "metadata": {},
   "outputs": [],
   "source": []
  },
  {
   "cell_type": "markdown",
   "metadata": {},
   "source": [
    "### Relationship of accidents with population density in different states"
   ]
  },
  {
   "cell_type": "code",
   "execution_count": 33,
   "metadata": {},
   "outputs": [],
   "source": [
    "# Finding population and other census data using census api for all states in USA\n",
    "\n",
    "census_state = c.acs5.state((\"NAME\", \"B19013_001E\", \"B01003_001E\", \"B01002_001E\",\n",
    "                          \"B19301_001E\",\n",
    "                          \"B17001_002E\",\n",
    "                          \"B23025_005E\"), Census.ALL)"
   ]
  },
  {
   "cell_type": "code",
   "execution_count": 34,
   "metadata": {},
   "outputs": [
    {
     "data": {
      "text/html": [
       "<div>\n",
       "<style scoped>\n",
       "    .dataframe tbody tr th:only-of-type {\n",
       "        vertical-align: middle;\n",
       "    }\n",
       "\n",
       "    .dataframe tbody tr th {\n",
       "        vertical-align: top;\n",
       "    }\n",
       "\n",
       "    .dataframe thead th {\n",
       "        text-align: right;\n",
       "    }\n",
       "</style>\n",
       "<table border=\"1\" class=\"dataframe\">\n",
       "  <thead>\n",
       "    <tr style=\"text-align: right;\">\n",
       "      <th></th>\n",
       "      <th>State</th>\n",
       "      <th>Household Income</th>\n",
       "      <th>Population</th>\n",
       "      <th>Median Age</th>\n",
       "      <th>Per Capita Income</th>\n",
       "      <th>Poverty Count</th>\n",
       "      <th>Unemployment Count</th>\n",
       "      <th>state</th>\n",
       "    </tr>\n",
       "  </thead>\n",
       "  <tbody>\n",
       "    <tr>\n",
       "      <th>0</th>\n",
       "      <td>Minnesota</td>\n",
       "      <td>68411.0</td>\n",
       "      <td>5527358.0</td>\n",
       "      <td>37.9</td>\n",
       "      <td>36245.0</td>\n",
       "      <td>547442.0</td>\n",
       "      <td>119218.0</td>\n",
       "      <td>27</td>\n",
       "    </tr>\n",
       "    <tr>\n",
       "      <th>1</th>\n",
       "      <td>Mississippi</td>\n",
       "      <td>43567.0</td>\n",
       "      <td>2988762.0</td>\n",
       "      <td>37.2</td>\n",
       "      <td>23434.0</td>\n",
       "      <td>599795.0</td>\n",
       "      <td>110036.0</td>\n",
       "      <td>28</td>\n",
       "    </tr>\n",
       "    <tr>\n",
       "      <th>2</th>\n",
       "      <td>Missouri</td>\n",
       "      <td>53560.0</td>\n",
       "      <td>6090062.0</td>\n",
       "      <td>38.5</td>\n",
       "      <td>29537.0</td>\n",
       "      <td>837930.0</td>\n",
       "      <td>155958.0</td>\n",
       "      <td>29</td>\n",
       "    </tr>\n",
       "    <tr>\n",
       "      <th>3</th>\n",
       "      <td>Montana</td>\n",
       "      <td>52559.0</td>\n",
       "      <td>1041732.0</td>\n",
       "      <td>39.8</td>\n",
       "      <td>29765.0</td>\n",
       "      <td>139063.0</td>\n",
       "      <td>22433.0</td>\n",
       "      <td>30</td>\n",
       "    </tr>\n",
       "    <tr>\n",
       "      <th>4</th>\n",
       "      <td>Nebraska</td>\n",
       "      <td>59116.0</td>\n",
       "      <td>1904760.0</td>\n",
       "      <td>36.4</td>\n",
       "      <td>31101.0</td>\n",
       "      <td>213790.0</td>\n",
       "      <td>36545.0</td>\n",
       "      <td>31</td>\n",
       "    </tr>\n",
       "  </tbody>\n",
       "</table>\n",
       "</div>"
      ],
      "text/plain": [
       "         State  Household Income  Population  Median Age  Per Capita Income  \\\n",
       "0    Minnesota           68411.0   5527358.0        37.9            36245.0   \n",
       "1  Mississippi           43567.0   2988762.0        37.2            23434.0   \n",
       "2     Missouri           53560.0   6090062.0        38.5            29537.0   \n",
       "3      Montana           52559.0   1041732.0        39.8            29765.0   \n",
       "4     Nebraska           59116.0   1904760.0        36.4            31101.0   \n",
       "\n",
       "   Poverty Count  Unemployment Count state  \n",
       "0       547442.0            119218.0    27  \n",
       "1       599795.0            110036.0    28  \n",
       "2       837930.0            155958.0    29  \n",
       "3       139063.0             22433.0    30  \n",
       "4       213790.0             36545.0    31  "
      ]
     },
     "execution_count": 34,
     "metadata": {},
     "output_type": "execute_result"
    }
   ],
   "source": [
    "# Creating dataframe of census and renaming column\n",
    "\n",
    "census_state_df=pd.DataFrame(census_state)\n",
    "\n",
    "census_state_df.rename(columns={\"NAME\":\"State\",\n",
    "                                \"B01003_001E\": \"Population\",\n",
    "                                \"B01002_001E\": \"Median Age\",\n",
    "                                \"B19013_001E\": \"Household Income\",\n",
    "                                \"B19301_001E\": \"Per Capita Income\",\n",
    "                                \"B17001_002E\": \"Poverty Count\",\n",
    "                                \"B23025_005E\": \"Unemployment Count\"}, inplace=True)\n",
    "\n",
    "census_state_df.head()"
   ]
  },
  {
   "cell_type": "code",
   "execution_count": 35,
   "metadata": {},
   "outputs": [],
   "source": [
    "# We have states name in census data but abbreviation in accident dataset.. \n",
    "#Importing an excel for mapping of abbreviation and name into a dataframe\n",
    "accident_state_abbrev=pd.read_excel(\"state_abbrev.xlsx\")"
   ]
  },
  {
   "cell_type": "code",
   "execution_count": 36,
   "metadata": {
    "scrolled": false
   },
   "outputs": [
    {
     "data": {
      "text/html": [
       "<div>\n",
       "<style scoped>\n",
       "    .dataframe tbody tr th:only-of-type {\n",
       "        vertical-align: middle;\n",
       "    }\n",
       "\n",
       "    .dataframe tbody tr th {\n",
       "        vertical-align: top;\n",
       "    }\n",
       "\n",
       "    .dataframe thead th {\n",
       "        text-align: right;\n",
       "    }\n",
       "</style>\n",
       "<table border=\"1\" class=\"dataframe\">\n",
       "  <thead>\n",
       "    <tr style=\"text-align: right;\">\n",
       "      <th></th>\n",
       "      <th>State</th>\n",
       "      <th>Abbreviation</th>\n",
       "    </tr>\n",
       "  </thead>\n",
       "  <tbody>\n",
       "    <tr>\n",
       "      <th>0</th>\n",
       "      <td>Alabama</td>\n",
       "      <td>AL</td>\n",
       "    </tr>\n",
       "    <tr>\n",
       "      <th>1</th>\n",
       "      <td>Alaska</td>\n",
       "      <td>AK</td>\n",
       "    </tr>\n",
       "    <tr>\n",
       "      <th>2</th>\n",
       "      <td>Arizona</td>\n",
       "      <td>AZ</td>\n",
       "    </tr>\n",
       "    <tr>\n",
       "      <th>3</th>\n",
       "      <td>Arkansas</td>\n",
       "      <td>AR</td>\n",
       "    </tr>\n",
       "    <tr>\n",
       "      <th>4</th>\n",
       "      <td>California</td>\n",
       "      <td>CA</td>\n",
       "    </tr>\n",
       "  </tbody>\n",
       "</table>\n",
       "</div>"
      ],
      "text/plain": [
       "        State Abbreviation\n",
       "0     Alabama           AL\n",
       "1      Alaska           AK\n",
       "2     Arizona           AZ\n",
       "3    Arkansas           AR\n",
       "4  California           CA"
      ]
     },
     "execution_count": 36,
     "metadata": {},
     "output_type": "execute_result"
    }
   ],
   "source": [
    "accident_state_abbrev.head()"
   ]
  },
  {
   "cell_type": "code",
   "execution_count": 37,
   "metadata": {},
   "outputs": [],
   "source": [
    "#Creating datframe for accident count by state\n",
    "\n",
    "accident_states=pd.DataFrame(accident_target.groupby([\"State\"])[\"Start_Time\"].count().reset_index())\n",
    "accident_states.columns=[\"State\",\"Accident Count\"]"
   ]
  },
  {
   "cell_type": "code",
   "execution_count": 38,
   "metadata": {
    "scrolled": false
   },
   "outputs": [
    {
     "data": {
      "text/html": [
       "<div>\n",
       "<style scoped>\n",
       "    .dataframe tbody tr th:only-of-type {\n",
       "        vertical-align: middle;\n",
       "    }\n",
       "\n",
       "    .dataframe tbody tr th {\n",
       "        vertical-align: top;\n",
       "    }\n",
       "\n",
       "    .dataframe thead th {\n",
       "        text-align: right;\n",
       "    }\n",
       "</style>\n",
       "<table border=\"1\" class=\"dataframe\">\n",
       "  <thead>\n",
       "    <tr style=\"text-align: right;\">\n",
       "      <th></th>\n",
       "      <th>State</th>\n",
       "      <th>Accident Count</th>\n",
       "    </tr>\n",
       "  </thead>\n",
       "  <tbody>\n",
       "    <tr>\n",
       "      <th>0</th>\n",
       "      <td>AL</td>\n",
       "      <td>36258</td>\n",
       "    </tr>\n",
       "    <tr>\n",
       "      <th>1</th>\n",
       "      <td>AR</td>\n",
       "      <td>1726</td>\n",
       "    </tr>\n",
       "    <tr>\n",
       "      <th>2</th>\n",
       "      <td>AZ</td>\n",
       "      <td>59989</td>\n",
       "    </tr>\n",
       "    <tr>\n",
       "      <th>3</th>\n",
       "      <td>CA</td>\n",
       "      <td>537673</td>\n",
       "    </tr>\n",
       "    <tr>\n",
       "      <th>4</th>\n",
       "      <td>CO</td>\n",
       "      <td>38999</td>\n",
       "    </tr>\n",
       "  </tbody>\n",
       "</table>\n",
       "</div>"
      ],
      "text/plain": [
       "  State  Accident Count\n",
       "0    AL           36258\n",
       "1    AR            1726\n",
       "2    AZ           59989\n",
       "3    CA          537673\n",
       "4    CO           38999"
      ]
     },
     "execution_count": 38,
     "metadata": {},
     "output_type": "execute_result"
    }
   ],
   "source": [
    "accident_states.head()"
   ]
  },
  {
   "cell_type": "code",
   "execution_count": 39,
   "metadata": {
    "scrolled": true
   },
   "outputs": [],
   "source": [
    "# Creating dataframe for accident count per state with names of state added from state abbreviation dataframe\n",
    "\n",
    "accident_states_df=accident_states.merge(accident_state_abbrev,left_on=\"State\",right_on=\"Abbreviation\").drop(\"State_x\",axis=1)\n",
    "#[\"State_y\",\"Abbreviation\",\"Accident Count\"]\n",
    "accident_states_df.rename(columns={\"State_y\":\"State\"},inplace=True)\n",
    "\n",
    "#accident_states_df.head()"
   ]
  },
  {
   "cell_type": "code",
   "execution_count": 40,
   "metadata": {},
   "outputs": [
    {
     "data": {
      "text/html": [
       "<div>\n",
       "<style scoped>\n",
       "    .dataframe tbody tr th:only-of-type {\n",
       "        vertical-align: middle;\n",
       "    }\n",
       "\n",
       "    .dataframe tbody tr th {\n",
       "        vertical-align: top;\n",
       "    }\n",
       "\n",
       "    .dataframe thead th {\n",
       "        text-align: right;\n",
       "    }\n",
       "</style>\n",
       "<table border=\"1\" class=\"dataframe\">\n",
       "  <thead>\n",
       "    <tr style=\"text-align: right;\">\n",
       "      <th></th>\n",
       "      <th>Accident Count</th>\n",
       "      <th>State</th>\n",
       "      <th>Abbreviation</th>\n",
       "      <th>Household Income</th>\n",
       "      <th>Population</th>\n",
       "      <th>Median Age</th>\n",
       "      <th>Per Capita Income</th>\n",
       "      <th>Poverty Count</th>\n",
       "      <th>Unemployment Count</th>\n",
       "      <th>state</th>\n",
       "      <th>Population(mil)</th>\n",
       "    </tr>\n",
       "  </thead>\n",
       "  <tbody>\n",
       "    <tr>\n",
       "      <th>0</th>\n",
       "      <td>36258</td>\n",
       "      <td>Alabama</td>\n",
       "      <td>AL</td>\n",
       "      <td>48486.0</td>\n",
       "      <td>4864680.0</td>\n",
       "      <td>38.9</td>\n",
       "      <td>26846.0</td>\n",
       "      <td>829400.0</td>\n",
       "      <td>147898.0</td>\n",
       "      <td>01</td>\n",
       "      <td>4.864680</td>\n",
       "    </tr>\n",
       "    <tr>\n",
       "      <th>1</th>\n",
       "      <td>1726</td>\n",
       "      <td>Arkansas</td>\n",
       "      <td>AR</td>\n",
       "      <td>45726.0</td>\n",
       "      <td>2990671.0</td>\n",
       "      <td>37.9</td>\n",
       "      <td>25635.0</td>\n",
       "      <td>510337.0</td>\n",
       "      <td>75774.0</td>\n",
       "      <td>05</td>\n",
       "      <td>2.990671</td>\n",
       "    </tr>\n",
       "    <tr>\n",
       "      <th>2</th>\n",
       "      <td>59989</td>\n",
       "      <td>Arizona</td>\n",
       "      <td>AZ</td>\n",
       "      <td>56213.0</td>\n",
       "      <td>6946685.0</td>\n",
       "      <td>37.4</td>\n",
       "      <td>29265.0</td>\n",
       "      <td>1092192.0</td>\n",
       "      <td>210214.0</td>\n",
       "      <td>04</td>\n",
       "      <td>6.946685</td>\n",
       "    </tr>\n",
       "    <tr>\n",
       "      <th>3</th>\n",
       "      <td>537673</td>\n",
       "      <td>California</td>\n",
       "      <td>CA</td>\n",
       "      <td>71228.0</td>\n",
       "      <td>39148760.0</td>\n",
       "      <td>36.3</td>\n",
       "      <td>35021.0</td>\n",
       "      <td>5487141.0</td>\n",
       "      <td>1321502.0</td>\n",
       "      <td>06</td>\n",
       "      <td>39.148760</td>\n",
       "    </tr>\n",
       "    <tr>\n",
       "      <th>4</th>\n",
       "      <td>38999</td>\n",
       "      <td>Colorado</td>\n",
       "      <td>CO</td>\n",
       "      <td>68811.0</td>\n",
       "      <td>5531141.0</td>\n",
       "      <td>36.6</td>\n",
       "      <td>36415.0</td>\n",
       "      <td>590504.0</td>\n",
       "      <td>139326.0</td>\n",
       "      <td>08</td>\n",
       "      <td>5.531141</td>\n",
       "    </tr>\n",
       "  </tbody>\n",
       "</table>\n",
       "</div>"
      ],
      "text/plain": [
       "   Accident Count       State Abbreviation  Household Income  Population  \\\n",
       "0           36258     Alabama           AL           48486.0   4864680.0   \n",
       "1            1726    Arkansas           AR           45726.0   2990671.0   \n",
       "2           59989     Arizona           AZ           56213.0   6946685.0   \n",
       "3          537673  California           CA           71228.0  39148760.0   \n",
       "4           38999    Colorado           CO           68811.0   5531141.0   \n",
       "\n",
       "   Median Age  Per Capita Income  Poverty Count  Unemployment Count state  \\\n",
       "0        38.9            26846.0       829400.0            147898.0    01   \n",
       "1        37.9            25635.0       510337.0             75774.0    05   \n",
       "2        37.4            29265.0      1092192.0            210214.0    04   \n",
       "3        36.3            35021.0      5487141.0           1321502.0    06   \n",
       "4        36.6            36415.0       590504.0            139326.0    08   \n",
       "\n",
       "   Population(mil)  \n",
       "0         4.864680  \n",
       "1         2.990671  \n",
       "2         6.946685  \n",
       "3        39.148760  \n",
       "4         5.531141  "
      ]
     },
     "execution_count": 40,
     "metadata": {},
     "output_type": "execute_result"
    }
   ],
   "source": [
    "#Creating a dataframe containing census and accident count for each state\n",
    "\n",
    "accident_states_population=accident_states_df.merge(census_state_df,on=\"State\")\n",
    "\n",
    "accident_states_population[\"Population(mil)\"]=accident_states_population[\"Population\"]/1000000\n",
    "\n",
    "accident_states_population.head()"
   ]
  },
  {
   "cell_type": "code",
   "execution_count": 41,
   "metadata": {},
   "outputs": [
    {
     "data": {
      "image/png": "[encoded data removed]",
      "text/plain": [
       "<Figure size 720x432 with 1 Axes>"
      ]
     },
     "metadata": {
      "needs_background": "light"
     },
     "output_type": "display_data"
    }
   ],
   "source": [
    "# Plotting Distribution of Accidents vs Population in States\n",
    "\n",
    "x_axis=accident_states_population[\"Population(mil)\"]\n",
    "y_axis=accident_states_population[\"Accident Count\"]\n",
    "\n",
    "plt.figure(figsize=(10,6))\n",
    "plt.scatter(x_axis,y_axis,facecolor=\"red\",edgecolor=\"grey\")\n",
    "\n",
    "plt.title(\"Distribution of Accidents vs Population in States\",fontsize=16)\n",
    "plt.xlabel(\"Population in millions\",fontsize=16)\n",
    "_=plt.ylabel(\"Number of Accidents\",fontsize=16)\n",
    "\n",
    "plt.savefig(\"Images/Accident_Population_State\")"
   ]
  },
  {
   "cell_type": "markdown",
   "metadata": {},
   "source": [
    "##### It can be inferred from the graph that state with more population witness more accidents"
   ]
  },
  {
   "cell_type": "markdown",
   "metadata": {},
   "source": [
    "### Distribution of number of accidents against population in conties of California"
   ]
  },
  {
   "cell_type": "code",
   "execution_count": null,
   "metadata": {},
   "outputs": [],
   "source": []
  },
  {
   "cell_type": "code",
   "execution_count": 42,
   "metadata": {},
   "outputs": [],
   "source": [
    "# Finding population and other census data using census api for all states and counties in USA\n",
    "\n",
    "census_state_county=c.acs5.state_county((\"NAME\", \"B19013_001E\", \"B01003_001E\", \"B01002_001E\",\n",
    "                          \"B19301_001E\",\n",
    "                          \"B17001_002E\",\n",
    "                          \"B23025_005E\"), Census.ALL, Census.ALL)\n"
   ]
  },
  {
   "cell_type": "code",
   "execution_count": 43,
   "metadata": {},
   "outputs": [
    {
     "data": {
      "text/html": [
       "<div>\n",
       "<style scoped>\n",
       "    .dataframe tbody tr th:only-of-type {\n",
       "        vertical-align: middle;\n",
       "    }\n",
       "\n",
       "    .dataframe tbody tr th {\n",
       "        vertical-align: top;\n",
       "    }\n",
       "\n",
       "    .dataframe thead th {\n",
       "        text-align: right;\n",
       "    }\n",
       "</style>\n",
       "<table border=\"1\" class=\"dataframe\">\n",
       "  <thead>\n",
       "    <tr style=\"text-align: right;\">\n",
       "      <th></th>\n",
       "      <th>NAME</th>\n",
       "      <th>Household Income</th>\n",
       "      <th>Population</th>\n",
       "      <th>Median Age</th>\n",
       "      <th>Per Capita Income</th>\n",
       "      <th>Poverty Count</th>\n",
       "      <th>Unemployment Count</th>\n",
       "      <th>state</th>\n",
       "      <th>county</th>\n",
       "      <th>County</th>\n",
       "      <th>State</th>\n",
       "    </tr>\n",
       "  </thead>\n",
       "  <tbody>\n",
       "    <tr>\n",
       "      <th>0</th>\n",
       "      <td>Washington County, Mississippi</td>\n",
       "      <td>30834.0</td>\n",
       "      <td>47086.0</td>\n",
       "      <td>36.9</td>\n",
       "      <td>19884.0</td>\n",
       "      <td>15496.0</td>\n",
       "      <td>3041.0</td>\n",
       "      <td>28</td>\n",
       "      <td>151</td>\n",
       "      <td>Washington County</td>\n",
       "      <td>Mississippi</td>\n",
       "    </tr>\n",
       "    <tr>\n",
       "      <th>1</th>\n",
       "      <td>Perry County, Mississippi</td>\n",
       "      <td>39007.0</td>\n",
       "      <td>12028.0</td>\n",
       "      <td>40.9</td>\n",
       "      <td>21611.0</td>\n",
       "      <td>2231.0</td>\n",
       "      <td>337.0</td>\n",
       "      <td>28</td>\n",
       "      <td>111</td>\n",
       "      <td>Perry County</td>\n",
       "      <td>Mississippi</td>\n",
       "    </tr>\n",
       "    <tr>\n",
       "      <th>2</th>\n",
       "      <td>Choctaw County, Mississippi</td>\n",
       "      <td>37203.0</td>\n",
       "      <td>8321.0</td>\n",
       "      <td>44.0</td>\n",
       "      <td>20589.0</td>\n",
       "      <td>1888.0</td>\n",
       "      <td>301.0</td>\n",
       "      <td>28</td>\n",
       "      <td>019</td>\n",
       "      <td>Choctaw County</td>\n",
       "      <td>Mississippi</td>\n",
       "    </tr>\n",
       "    <tr>\n",
       "      <th>3</th>\n",
       "      <td>Itawamba County, Mississippi</td>\n",
       "      <td>40510.0</td>\n",
       "      <td>23480.0</td>\n",
       "      <td>40.0</td>\n",
       "      <td>20629.0</td>\n",
       "      <td>3428.0</td>\n",
       "      <td>414.0</td>\n",
       "      <td>28</td>\n",
       "      <td>057</td>\n",
       "      <td>Itawamba County</td>\n",
       "      <td>Mississippi</td>\n",
       "    </tr>\n",
       "    <tr>\n",
       "      <th>4</th>\n",
       "      <td>Carroll County, Mississippi</td>\n",
       "      <td>43060.0</td>\n",
       "      <td>10129.0</td>\n",
       "      <td>47.0</td>\n",
       "      <td>22567.0</td>\n",
       "      <td>1477.0</td>\n",
       "      <td>377.0</td>\n",
       "      <td>28</td>\n",
       "      <td>015</td>\n",
       "      <td>Carroll County</td>\n",
       "      <td>Mississippi</td>\n",
       "    </tr>\n",
       "  </tbody>\n",
       "</table>\n",
       "</div>"
      ],
      "text/plain": [
       "                             NAME  Household Income  Population  Median Age  \\\n",
       "0  Washington County, Mississippi           30834.0     47086.0        36.9   \n",
       "1       Perry County, Mississippi           39007.0     12028.0        40.9   \n",
       "2     Choctaw County, Mississippi           37203.0      8321.0        44.0   \n",
       "3    Itawamba County, Mississippi           40510.0     23480.0        40.0   \n",
       "4     Carroll County, Mississippi           43060.0     10129.0        47.0   \n",
       "\n",
       "   Per Capita Income  Poverty Count  Unemployment Count state county  \\\n",
       "0            19884.0        15496.0              3041.0    28    151   \n",
       "1            21611.0         2231.0               337.0    28    111   \n",
       "2            20589.0         1888.0               301.0    28    019   \n",
       "3            20629.0         3428.0               414.0    28    057   \n",
       "4            22567.0         1477.0               377.0    28    015   \n",
       "\n",
       "              County        State  \n",
       "0  Washington County  Mississippi  \n",
       "1       Perry County  Mississippi  \n",
       "2     Choctaw County  Mississippi  \n",
       "3    Itawamba County  Mississippi  \n",
       "4     Carroll County  Mississippi  "
      ]
     },
     "execution_count": 43,
     "metadata": {},
     "output_type": "execute_result"
    }
   ],
   "source": [
    "#Creating dataframe for census data using census api for all states and counties in USA\n",
    "#County and State name is combined in one column Name\n",
    "#Using split function to split data into two columns in dataframe\n",
    "\n",
    "census_state_county_df=pd.DataFrame(census_state_county)\n",
    "\n",
    "census_state_county_df[[\"County\",\"State\"]]=census_state_county_df[\"NAME\"].str.split(', ',expand=True)\n",
    "\n",
    "census_state_county_df.rename(columns={\"B01003_001E\": \"Population\",\n",
    "                                \"B01002_001E\": \"Median Age\",\n",
    "                                \"B19013_001E\": \"Household Income\",\n",
    "                                \"B19301_001E\": \"Per Capita Income\",\n",
    "                                \"B17001_002E\": \"Poverty Count\",\n",
    "                                \"B23025_005E\": \"Unemployment Count\"}, inplace=True)\n",
    "\n",
    "census_state_county_df.head()"
   ]
  },
  {
   "cell_type": "code",
   "execution_count": 44,
   "metadata": {},
   "outputs": [
    {
     "name": "stderr",
     "output_type": "stream",
     "text": [
      "C:\\ProgramData\\Anaconda3\\lib\\site-packages\\ipykernel_launcher.py:9: SettingWithCopyWarning: \n",
      "A value is trying to be set on a copy of a slice from a DataFrame.\n",
      "Try using .loc[row_indexer,col_indexer] = value instead\n",
      "\n",
      "See the caveats in the documentation: https://pandas.pydata.org/pandas-docs/stable/user_guide/indexing.html#returning-a-view-versus-a-copy\n",
      "  if __name__ == '__main__':\n"
     ]
    },
    {
     "data": {
      "text/html": [
       "<div>\n",
       "<style scoped>\n",
       "    .dataframe tbody tr th:only-of-type {\n",
       "        vertical-align: middle;\n",
       "    }\n",
       "\n",
       "    .dataframe tbody tr th {\n",
       "        vertical-align: top;\n",
       "    }\n",
       "\n",
       "    .dataframe thead th {\n",
       "        text-align: right;\n",
       "    }\n",
       "</style>\n",
       "<table border=\"1\" class=\"dataframe\">\n",
       "  <thead>\n",
       "    <tr style=\"text-align: right;\">\n",
       "      <th></th>\n",
       "      <th>NAME</th>\n",
       "      <th>Household Income</th>\n",
       "      <th>Population</th>\n",
       "      <th>Median Age</th>\n",
       "      <th>Per Capita Income</th>\n",
       "      <th>Poverty Count</th>\n",
       "      <th>Unemployment Count</th>\n",
       "      <th>state</th>\n",
       "      <th>county</th>\n",
       "      <th>County</th>\n",
       "      <th>State</th>\n",
       "    </tr>\n",
       "  </thead>\n",
       "  <tbody>\n",
       "    <tr>\n",
       "      <th>1854</th>\n",
       "      <td>Lake County, California</td>\n",
       "      <td>42475.0</td>\n",
       "      <td>64148.0</td>\n",
       "      <td>45.6</td>\n",
       "      <td>25404.0</td>\n",
       "      <td>13224.0</td>\n",
       "      <td>2556.0</td>\n",
       "      <td>06</td>\n",
       "      <td>033</td>\n",
       "      <td>Lake</td>\n",
       "      <td>California</td>\n",
       "    </tr>\n",
       "    <tr>\n",
       "      <th>1855</th>\n",
       "      <td>Mariposa County, California</td>\n",
       "      <td>51199.0</td>\n",
       "      <td>17540.0</td>\n",
       "      <td>51.4</td>\n",
       "      <td>29776.0</td>\n",
       "      <td>2435.0</td>\n",
       "      <td>676.0</td>\n",
       "      <td>06</td>\n",
       "      <td>043</td>\n",
       "      <td>Mariposa</td>\n",
       "      <td>California</td>\n",
       "    </tr>\n",
       "    <tr>\n",
       "      <th>1856</th>\n",
       "      <td>Yuba County, California</td>\n",
       "      <td>52624.0</td>\n",
       "      <td>75493.0</td>\n",
       "      <td>32.5</td>\n",
       "      <td>23867.0</td>\n",
       "      <td>13298.0</td>\n",
       "      <td>2648.0</td>\n",
       "      <td>06</td>\n",
       "      <td>115</td>\n",
       "      <td>Yuba</td>\n",
       "      <td>California</td>\n",
       "    </tr>\n",
       "    <tr>\n",
       "      <th>1857</th>\n",
       "      <td>Contra Costa County, California</td>\n",
       "      <td>93712.0</td>\n",
       "      <td>1133247.0</td>\n",
       "      <td>39.4</td>\n",
       "      <td>45524.0</td>\n",
       "      <td>102543.0</td>\n",
       "      <td>35563.0</td>\n",
       "      <td>06</td>\n",
       "      <td>013</td>\n",
       "      <td>Contra Costa</td>\n",
       "      <td>California</td>\n",
       "    </tr>\n",
       "    <tr>\n",
       "      <th>1858</th>\n",
       "      <td>Lassen County, California</td>\n",
       "      <td>56362.0</td>\n",
       "      <td>31185.0</td>\n",
       "      <td>36.0</td>\n",
       "      <td>21897.0</td>\n",
       "      <td>2933.0</td>\n",
       "      <td>570.0</td>\n",
       "      <td>06</td>\n",
       "      <td>035</td>\n",
       "      <td>Lassen</td>\n",
       "      <td>California</td>\n",
       "    </tr>\n",
       "  </tbody>\n",
       "</table>\n",
       "</div>"
      ],
      "text/plain": [
       "                                 NAME  Household Income  Population  \\\n",
       "1854          Lake County, California           42475.0     64148.0   \n",
       "1855      Mariposa County, California           51199.0     17540.0   \n",
       "1856          Yuba County, California           52624.0     75493.0   \n",
       "1857  Contra Costa County, California           93712.0   1133247.0   \n",
       "1858        Lassen County, California           56362.0     31185.0   \n",
       "\n",
       "      Median Age  Per Capita Income  Poverty Count  Unemployment Count state  \\\n",
       "1854        45.6            25404.0        13224.0              2556.0    06   \n",
       "1855        51.4            29776.0         2435.0               676.0    06   \n",
       "1856        32.5            23867.0        13298.0              2648.0    06   \n",
       "1857        39.4            45524.0       102543.0             35563.0    06   \n",
       "1858        36.0            21897.0         2933.0               570.0    06   \n",
       "\n",
       "     county        County       State  \n",
       "1854    033          Lake  California  \n",
       "1855    043      Mariposa  California  \n",
       "1856    115          Yuba  California  \n",
       "1857    013  Contra Costa  California  \n",
       "1858    035        Lassen  California  "
      ]
     },
     "execution_count": 44,
     "metadata": {},
     "output_type": "execute_result"
    }
   ],
   "source": [
    "# CReating dataframe to get census data only for california\n",
    "# Since County name contains County in Census data but not in Accidents data; remove text ' county' from county name in census data\n",
    "\n",
    "census_ca_county_df=census_state_county_df[census_state_county_df[\"State\"]==\"California\"]\n",
    "\n",
    "#census_state_county_df[census_state_county_df.county.str.endswith('County')]\n",
    "census_ca_county_df[\"County\"].str.replace(' County','')\n",
    "\n",
    "census_ca_county_df[\"County\"]=census_ca_county_df[\"County\"].str.replace(' County','')\n",
    "\n",
    "census_ca_county_df.head()\n",
    "\n",
    "#census_ca_county_df[\"County\"].unique()"
   ]
  },
  {
   "cell_type": "code",
   "execution_count": 45,
   "metadata": {},
   "outputs": [],
   "source": [
    "#Create dataframe for acident by state and city\n",
    "\n",
    "accident_states_county=pd.DataFrame(accident_target.groupby([\"State\",\"County\"])[\"Start_Time\"].count().reset_index())\n",
    "accident_states_county.columns=[\"State\",\"County\",\"Accident Count\"]"
   ]
  },
  {
   "cell_type": "code",
   "execution_count": 46,
   "metadata": {},
   "outputs": [
    {
     "data": {
      "text/html": [
       "<div>\n",
       "<style scoped>\n",
       "    .dataframe tbody tr th:only-of-type {\n",
       "        vertical-align: middle;\n",
       "    }\n",
       "\n",
       "    .dataframe tbody tr th {\n",
       "        vertical-align: top;\n",
       "    }\n",
       "\n",
       "    .dataframe thead th {\n",
       "        text-align: right;\n",
       "    }\n",
       "</style>\n",
       "<table border=\"1\" class=\"dataframe\">\n",
       "  <thead>\n",
       "    <tr style=\"text-align: right;\">\n",
       "      <th></th>\n",
       "      <th>County</th>\n",
       "      <th>Accident Count</th>\n",
       "      <th>State</th>\n",
       "      <th>Abbreviation</th>\n",
       "    </tr>\n",
       "  </thead>\n",
       "  <tbody>\n",
       "    <tr>\n",
       "      <th>0</th>\n",
       "      <td>Autauga</td>\n",
       "      <td>307</td>\n",
       "      <td>Alabama</td>\n",
       "      <td>AL</td>\n",
       "    </tr>\n",
       "    <tr>\n",
       "      <th>1</th>\n",
       "      <td>Baldwin</td>\n",
       "      <td>998</td>\n",
       "      <td>Alabama</td>\n",
       "      <td>AL</td>\n",
       "    </tr>\n",
       "    <tr>\n",
       "      <th>2</th>\n",
       "      <td>Barbour</td>\n",
       "      <td>39</td>\n",
       "      <td>Alabama</td>\n",
       "      <td>AL</td>\n",
       "    </tr>\n",
       "    <tr>\n",
       "      <th>3</th>\n",
       "      <td>Bibb</td>\n",
       "      <td>49</td>\n",
       "      <td>Alabama</td>\n",
       "      <td>AL</td>\n",
       "    </tr>\n",
       "    <tr>\n",
       "      <th>4</th>\n",
       "      <td>Blount</td>\n",
       "      <td>1156</td>\n",
       "      <td>Alabama</td>\n",
       "      <td>AL</td>\n",
       "    </tr>\n",
       "  </tbody>\n",
       "</table>\n",
       "</div>"
      ],
      "text/plain": [
       "    County  Accident Count    State Abbreviation\n",
       "0  Autauga             307  Alabama           AL\n",
       "1  Baldwin             998  Alabama           AL\n",
       "2  Barbour              39  Alabama           AL\n",
       "3     Bibb              49  Alabama           AL\n",
       "4   Blount            1156  Alabama           AL"
      ]
     },
     "execution_count": 46,
     "metadata": {},
     "output_type": "execute_result"
    }
   ],
   "source": [
    "# mErge with State Abbreviation and name dataframe to add state name in the column\n",
    "\n",
    "accident_states_county_df=accident_states_county.merge(accident_state_abbrev,left_on=\"State\",right_on=\"Abbreviation\").drop(\"State_x\",axis=1)\n",
    "#[\"State_y\",\"Abbreviation\",\"Accident Count\"]\n",
    "accident_states_county_df.rename(columns={\"State_y\":\"State\"},inplace=True)\n",
    "\n",
    "accident_states_county_df.head()"
   ]
  },
  {
   "cell_type": "code",
   "execution_count": 47,
   "metadata": {},
   "outputs": [
    {
     "data": {
      "text/html": [
       "<div>\n",
       "<style scoped>\n",
       "    .dataframe tbody tr th:only-of-type {\n",
       "        vertical-align: middle;\n",
       "    }\n",
       "\n",
       "    .dataframe tbody tr th {\n",
       "        vertical-align: top;\n",
       "    }\n",
       "\n",
       "    .dataframe thead th {\n",
       "        text-align: right;\n",
       "    }\n",
       "</style>\n",
       "<table border=\"1\" class=\"dataframe\">\n",
       "  <thead>\n",
       "    <tr style=\"text-align: right;\">\n",
       "      <th></th>\n",
       "      <th>County</th>\n",
       "      <th>Accident Count</th>\n",
       "      <th>State</th>\n",
       "      <th>Abbreviation</th>\n",
       "      <th>NAME</th>\n",
       "      <th>Household Income</th>\n",
       "      <th>Population</th>\n",
       "      <th>Median Age</th>\n",
       "      <th>Per Capita Income</th>\n",
       "      <th>Poverty Count</th>\n",
       "      <th>Unemployment Count</th>\n",
       "      <th>state</th>\n",
       "      <th>county</th>\n",
       "      <th>Population(tenthou)</th>\n",
       "    </tr>\n",
       "  </thead>\n",
       "  <tbody>\n",
       "    <tr>\n",
       "      <th>0</th>\n",
       "      <td>Alameda</td>\n",
       "      <td>36705</td>\n",
       "      <td>California</td>\n",
       "      <td>CA</td>\n",
       "      <td>Alameda County, California</td>\n",
       "      <td>92574.0</td>\n",
       "      <td>1643700.0</td>\n",
       "      <td>37.4</td>\n",
       "      <td>44283.0</td>\n",
       "      <td>170884.0</td>\n",
       "      <td>45110.0</td>\n",
       "      <td>06</td>\n",
       "      <td>001</td>\n",
       "      <td>164.3700</td>\n",
       "    </tr>\n",
       "    <tr>\n",
       "      <th>1</th>\n",
       "      <td>Alpine</td>\n",
       "      <td>54</td>\n",
       "      <td>California</td>\n",
       "      <td>CA</td>\n",
       "      <td>Alpine County, California</td>\n",
       "      <td>64688.0</td>\n",
       "      <td>1146.0</td>\n",
       "      <td>44.3</td>\n",
       "      <td>29041.0</td>\n",
       "      <td>227.0</td>\n",
       "      <td>79.0</td>\n",
       "      <td>06</td>\n",
       "      <td>003</td>\n",
       "      <td>0.1146</td>\n",
       "    </tr>\n",
       "    <tr>\n",
       "      <th>2</th>\n",
       "      <td>Amador</td>\n",
       "      <td>606</td>\n",
       "      <td>California</td>\n",
       "      <td>CA</td>\n",
       "      <td>Amador County, California</td>\n",
       "      <td>61198.0</td>\n",
       "      <td>37829.0</td>\n",
       "      <td>50.5</td>\n",
       "      <td>30100.0</td>\n",
       "      <td>3323.0</td>\n",
       "      <td>1255.0</td>\n",
       "      <td>06</td>\n",
       "      <td>005</td>\n",
       "      <td>3.7829</td>\n",
       "    </tr>\n",
       "    <tr>\n",
       "      <th>3</th>\n",
       "      <td>Butte</td>\n",
       "      <td>1363</td>\n",
       "      <td>California</td>\n",
       "      <td>CA</td>\n",
       "      <td>Butte County, California</td>\n",
       "      <td>48443.0</td>\n",
       "      <td>227075.0</td>\n",
       "      <td>37.1</td>\n",
       "      <td>27537.0</td>\n",
       "      <td>44410.0</td>\n",
       "      <td>9085.0</td>\n",
       "      <td>06</td>\n",
       "      <td>007</td>\n",
       "      <td>22.7075</td>\n",
       "    </tr>\n",
       "    <tr>\n",
       "      <th>4</th>\n",
       "      <td>Calaveras</td>\n",
       "      <td>733</td>\n",
       "      <td>California</td>\n",
       "      <td>CA</td>\n",
       "      <td>Calaveras County, California</td>\n",
       "      <td>58151.0</td>\n",
       "      <td>45235.0</td>\n",
       "      <td>52.1</td>\n",
       "      <td>32494.0</td>\n",
       "      <td>5242.0</td>\n",
       "      <td>1116.0</td>\n",
       "      <td>06</td>\n",
       "      <td>009</td>\n",
       "      <td>4.5235</td>\n",
       "    </tr>\n",
       "  </tbody>\n",
       "</table>\n",
       "</div>"
      ],
      "text/plain": [
       "      County  Accident Count       State Abbreviation  \\\n",
       "0    Alameda           36705  California           CA   \n",
       "1     Alpine              54  California           CA   \n",
       "2     Amador             606  California           CA   \n",
       "3      Butte            1363  California           CA   \n",
       "4  Calaveras             733  California           CA   \n",
       "\n",
       "                           NAME  Household Income  Population  Median Age  \\\n",
       "0    Alameda County, California           92574.0   1643700.0        37.4   \n",
       "1     Alpine County, California           64688.0      1146.0        44.3   \n",
       "2     Amador County, California           61198.0     37829.0        50.5   \n",
       "3      Butte County, California           48443.0    227075.0        37.1   \n",
       "4  Calaveras County, California           58151.0     45235.0        52.1   \n",
       "\n",
       "   Per Capita Income  Poverty Count  Unemployment Count state county  \\\n",
       "0            44283.0       170884.0             45110.0    06    001   \n",
       "1            29041.0          227.0                79.0    06    003   \n",
       "2            30100.0         3323.0              1255.0    06    005   \n",
       "3            27537.0        44410.0              9085.0    06    007   \n",
       "4            32494.0         5242.0              1116.0    06    009   \n",
       "\n",
       "   Population(tenthou)  \n",
       "0             164.3700  \n",
       "1               0.1146  \n",
       "2               3.7829  \n",
       "3              22.7075  \n",
       "4               4.5235  "
      ]
     },
     "execution_count": 47,
     "metadata": {},
     "output_type": "execute_result"
    }
   ],
   "source": [
    "#Create dataframe with accident data for california county along with census data\n",
    "accident_county_population_ca=accident_states_county_df.merge(census_ca_county_df,on=[\"State\",\"County\"])\n",
    "\n",
    "accident_county_population_ca[\"Population(tenthou)\"]=accident_county_population_ca[\"Population\"]/10000\n",
    "\n",
    "accident_county_population_ca.head()"
   ]
  },
  {
   "cell_type": "code",
   "execution_count": 48,
   "metadata": {},
   "outputs": [
    {
     "data": {
      "image/png": "[encoded data removed]",
      "text/plain": [
       "<Figure size 720x432 with 1 Axes>"
      ]
     },
     "metadata": {
      "needs_background": "light"
     },
     "output_type": "display_data"
    }
   ],
   "source": [
    "#Plotting distribution of accidents vs population in counties in california\n",
    "\n",
    "x_axis=accident_county_population_ca[\"Population(tenthou)\"]\n",
    "y_axis=accident_county_population_ca[\"Accident Count\"]\n",
    "\n",
    "plt.figure(figsize=(10,6))\n",
    "plt.scatter(x_axis,y_axis,facecolor=\"red\",edgecolor=\"grey\")\n",
    "\n",
    "plt.title(\"Distribution of Accidents vs Population in Counties in California\",fontsize=16)\n",
    "plt.xlabel(\"Population in ten thousands\",fontsize=16)\n",
    "_=plt.ylabel(\"Number of Accidents\",fontsize=16)\n",
    "\n",
    "plt.savefig(\"Images/Accident_Population_County_CA\")\n",
    "\n",
    "plt.tight_layout()\n",
    "#for i, text in enumerate(accident_county_population_ca.loc[accident_county_population_ca[\"Accident Count\"]>25000,\"County\"]):\n",
    "#   plt.annotate(text,(x_axis[i],y_axis[i]))"
   ]
  },
  {
   "cell_type": "code",
   "execution_count": 49,
   "metadata": {
    "scrolled": false
   },
   "outputs": [
    {
     "data": {
      "text/html": [
       "<div>\n",
       "<style scoped>\n",
       "    .dataframe tbody tr th:only-of-type {\n",
       "        vertical-align: middle;\n",
       "    }\n",
       "\n",
       "    .dataframe tbody tr th {\n",
       "        vertical-align: top;\n",
       "    }\n",
       "\n",
       "    .dataframe thead th {\n",
       "        text-align: right;\n",
       "    }\n",
       "</style>\n",
       "<table border=\"1\" class=\"dataframe\">\n",
       "  <thead>\n",
       "    <tr style=\"text-align: right;\">\n",
       "      <th></th>\n",
       "      <th>County</th>\n",
       "      <th>Population</th>\n",
       "      <th>Accident Count</th>\n",
       "    </tr>\n",
       "  </thead>\n",
       "  <tbody>\n",
       "    <tr>\n",
       "      <th>18</th>\n",
       "      <td>Los Angeles</td>\n",
       "      <td>10098052.0</td>\n",
       "      <td>180604</td>\n",
       "    </tr>\n",
       "    <tr>\n",
       "      <th>0</th>\n",
       "      <td>Alameda</td>\n",
       "      <td>1643700.0</td>\n",
       "      <td>36705</td>\n",
       "    </tr>\n",
       "    <tr>\n",
       "      <th>29</th>\n",
       "      <td>Orange</td>\n",
       "      <td>3164182.0</td>\n",
       "      <td>34719</td>\n",
       "    </tr>\n",
       "    <tr>\n",
       "      <th>36</th>\n",
       "      <td>San Diego</td>\n",
       "      <td>3302833.0</td>\n",
       "      <td>31635</td>\n",
       "    </tr>\n",
       "    <tr>\n",
       "      <th>35</th>\n",
       "      <td>San Bernardino</td>\n",
       "      <td>2135413.0</td>\n",
       "      <td>29582</td>\n",
       "    </tr>\n",
       "    <tr>\n",
       "      <th>33</th>\n",
       "      <td>Sacramento</td>\n",
       "      <td>1510023.0</td>\n",
       "      <td>28209</td>\n",
       "    </tr>\n",
       "    <tr>\n",
       "      <th>42</th>\n",
       "      <td>Santa Clara</td>\n",
       "      <td>1922200.0</td>\n",
       "      <td>27521</td>\n",
       "    </tr>\n",
       "    <tr>\n",
       "      <th>32</th>\n",
       "      <td>Riverside</td>\n",
       "      <td>2383286.0</td>\n",
       "      <td>26264</td>\n",
       "    </tr>\n",
       "    <tr>\n",
       "      <th>6</th>\n",
       "      <td>Contra Costa</td>\n",
       "      <td>1133247.0</td>\n",
       "      <td>18877</td>\n",
       "    </tr>\n",
       "    <tr>\n",
       "      <th>40</th>\n",
       "      <td>San Mateo</td>\n",
       "      <td>765935.0</td>\n",
       "      <td>12312</td>\n",
       "    </tr>\n",
       "  </tbody>\n",
       "</table>\n",
       "</div>"
      ],
      "text/plain": [
       "            County  Population  Accident Count\n",
       "18     Los Angeles  10098052.0          180604\n",
       "0          Alameda   1643700.0           36705\n",
       "29          Orange   3164182.0           34719\n",
       "36       San Diego   3302833.0           31635\n",
       "35  San Bernardino   2135413.0           29582\n",
       "33      Sacramento   1510023.0           28209\n",
       "42     Santa Clara   1922200.0           27521\n",
       "32       Riverside   2383286.0           26264\n",
       "6     Contra Costa   1133247.0           18877\n",
       "40       San Mateo    765935.0           12312"
      ]
     },
     "execution_count": 49,
     "metadata": {},
     "output_type": "execute_result"
    }
   ],
   "source": [
    "#Top 10 counties in terms of Accident Count\n",
    "\n",
    "accident_county_population_ca[[\"County\",\"Population\",\"Accident Count\"]].sort_values(\"Accident Count\",ascending=False).head(10)"
   ]
  },
  {
   "cell_type": "markdown",
   "metadata": {},
   "source": [
    "##### It is very evident from the graph that Los Angeles is worst affected county in california in terms of number of accidents and one of the factor reponsible for that is due to very large population in Los Angeles compared to other counties in California and has skewed the number of accidents in California compared to other states."
   ]
  },
  {
   "cell_type": "code",
   "execution_count": null,
   "metadata": {},
   "outputs": [],
   "source": []
  },
  {
   "cell_type": "markdown",
   "metadata": {},
   "source": [
    "# Analyze accidents across seasons"
   ]
  },
  {
   "cell_type": "code",
   "execution_count": 50,
   "metadata": {},
   "outputs": [],
   "source": [
    "#Combining season and year into one column\n",
    "\n",
    "accident_target[\"Season_Year\"]=np.select(\n",
    "    [\n",
    "        (accident_target[\"Start_Time\"].dt.month== 1)| (accident_target[\"Start_Time\"].dt.month== 2) \n",
    "    ], \n",
    "    [\n",
    "       (accident_target[\"Start_Year\"]-1).astype(str)+'-'+accident_target[\"Season\"]\n",
    "    ], \n",
    "    default=accident_target[\"Start_Year\"].astype(str)+'-'+accident_target[\"Season\"]\n",
    ")\n"
   ]
  },
  {
   "cell_type": "code",
   "execution_count": 51,
   "metadata": {},
   "outputs": [
    {
     "data": {
      "text/plain": [
       "array(['2016-Winter', '2017-Spring', '2017-Summer', '2019-Winter',\n",
       "       '2019-Fall', '2019-Summer', '2019-Spring', '2018-Winter',\n",
       "       '2018-Fall', '2018-Summer', '2018-Spring', '2017-Winter',\n",
       "       '2017-Fall'], dtype=object)"
      ]
     },
     "execution_count": 51,
     "metadata": {},
     "output_type": "execute_result"
    }
   ],
   "source": [
    "accident_target[\"Season_Year\"].unique()"
   ]
  },
  {
   "cell_type": "code",
   "execution_count": 52,
   "metadata": {},
   "outputs": [
    {
     "data": {
      "text/plain": [
       "Season_Year\n",
       "2016-Winter    166888\n",
       "2017-Fall      221794\n",
       "2017-Spring    146476\n",
       "2017-Summer    170318\n",
       "2017-Winter    218047\n",
       "2018-Fall      242553\n",
       "2018-Spring    223482\n",
       "2018-Summer    209903\n",
       "2018-Winter    224036\n",
       "2019-Fall      276361\n",
       "2019-Spring    216264\n",
       "2019-Summer    208964\n",
       "Name: Start_Time, dtype: int64"
      ]
     },
     "execution_count": 52,
     "metadata": {},
     "output_type": "execute_result"
    }
   ],
   "source": [
    "# Removing Winter-2019 as ther is only one month for Winter -2019\n",
    "\n",
    "accident_target.loc[accident_target[\"Season_Year\"]!='2019-Winter'].groupby(\"Season_Year\")[\"Start_Time\"].count()"
   ]
  },
  {
   "cell_type": "code",
   "execution_count": 53,
   "metadata": {},
   "outputs": [],
   "source": [
    "# Creating dataframe for season-year and count of Accidents\n",
    "accident_season_year_us=pd.DataFrame(accident_target.loc[accident_target[\"Season_Year\"]!='2019-Winter'].groupby(\"Season_Year\")[\"Start_Time\"].count()).reset_index()"
   ]
  },
  {
   "cell_type": "code",
   "execution_count": 54,
   "metadata": {},
   "outputs": [
    {
     "data": {
      "text/html": [
       "<div>\n",
       "<style scoped>\n",
       "    .dataframe tbody tr th:only-of-type {\n",
       "        vertical-align: middle;\n",
       "    }\n",
       "\n",
       "    .dataframe tbody tr th {\n",
       "        vertical-align: top;\n",
       "    }\n",
       "\n",
       "    .dataframe thead th {\n",
       "        text-align: right;\n",
       "    }\n",
       "</style>\n",
       "<table border=\"1\" class=\"dataframe\">\n",
       "  <thead>\n",
       "    <tr style=\"text-align: right;\">\n",
       "      <th></th>\n",
       "      <th>Season_Year</th>\n",
       "      <th>Accident Count</th>\n",
       "    </tr>\n",
       "  </thead>\n",
       "  <tbody>\n",
       "    <tr>\n",
       "      <th>0</th>\n",
       "      <td>2016-Winter</td>\n",
       "      <td>166888</td>\n",
       "    </tr>\n",
       "    <tr>\n",
       "      <th>1</th>\n",
       "      <td>2017-Spring</td>\n",
       "      <td>146476</td>\n",
       "    </tr>\n",
       "    <tr>\n",
       "      <th>2</th>\n",
       "      <td>2017-Summer</td>\n",
       "      <td>170318</td>\n",
       "    </tr>\n",
       "    <tr>\n",
       "      <th>3</th>\n",
       "      <td>2017-Fall</td>\n",
       "      <td>221794</td>\n",
       "    </tr>\n",
       "    <tr>\n",
       "      <th>4</th>\n",
       "      <td>2017-Winter</td>\n",
       "      <td>218047</td>\n",
       "    </tr>\n",
       "    <tr>\n",
       "      <th>5</th>\n",
       "      <td>2018-Spring</td>\n",
       "      <td>223482</td>\n",
       "    </tr>\n",
       "    <tr>\n",
       "      <th>6</th>\n",
       "      <td>2018-Summer</td>\n",
       "      <td>209903</td>\n",
       "    </tr>\n",
       "    <tr>\n",
       "      <th>7</th>\n",
       "      <td>2018-Fall</td>\n",
       "      <td>242553</td>\n",
       "    </tr>\n",
       "    <tr>\n",
       "      <th>8</th>\n",
       "      <td>2018-Winter</td>\n",
       "      <td>224036</td>\n",
       "    </tr>\n",
       "    <tr>\n",
       "      <th>9</th>\n",
       "      <td>2019-Spring</td>\n",
       "      <td>216264</td>\n",
       "    </tr>\n",
       "    <tr>\n",
       "      <th>10</th>\n",
       "      <td>2019-Summer</td>\n",
       "      <td>208964</td>\n",
       "    </tr>\n",
       "    <tr>\n",
       "      <th>11</th>\n",
       "      <td>2019-Fall</td>\n",
       "      <td>276361</td>\n",
       "    </tr>\n",
       "  </tbody>\n",
       "</table>\n",
       "</div>"
      ],
      "text/plain": [
       "    Season_Year  Accident Count\n",
       "0   2016-Winter          166888\n",
       "1   2017-Spring          146476\n",
       "2   2017-Summer          170318\n",
       "3     2017-Fall          221794\n",
       "4   2017-Winter          218047\n",
       "5   2018-Spring          223482\n",
       "6   2018-Summer          209903\n",
       "7     2018-Fall          242553\n",
       "8   2018-Winter          224036\n",
       "9   2019-Spring          216264\n",
       "10  2019-Summer          208964\n",
       "11    2019-Fall          276361"
      ]
     },
     "execution_count": 54,
     "metadata": {},
     "output_type": "execute_result"
    }
   ],
   "source": [
    "# Changing the order of rows since Winter should be followed by Spring followed by Summer \n",
    "#and followed by Fall otherwise the data would not show in a sequence of seasons while plotting\n",
    "\n",
    "accident_season_year_us.rename(columns={\"Start_Time\":\"Accident Count\"},inplace=True)\n",
    "accident_season_year_us=accident_season_year_us.reindex([0,2,3,1,4,6,7,5,8,10,11,9]).reset_index(drop=True)\n",
    "\n",
    "accident_season_year_us"
   ]
  },
  {
   "cell_type": "code",
   "execution_count": 56,
   "metadata": {
    "scrolled": true
   },
   "outputs": [
    {
     "data": {
      "image/png": "[encoded data removed]",
      "text/plain": [
       "<Figure size 1440x432 with 1 Axes>"
      ]
     },
     "metadata": {
      "needs_background": "light"
     },
     "output_type": "display_data"
    }
   ],
   "source": [
    "plt.figure(figsize=(20,6))\n",
    "plt.bar(accident_season_year_us[\"Season_Year\"],accident_season_year_us[\"Accident Count\"],alpha=1.0,color=\"red\",align=\"center\")\n",
    "_=plt.xticks(rotation=30)\n",
    "plt.tight_layout()\n",
    "\n",
    "plt.xlabel(\"Seasons\",fontsize=16)\n",
    "plt.ylabel(\"Number of Accidents\",fontsize=16)\n",
    "\n",
    "_=plt.title(\"Distribution of Accidents in different seasons across dataset\",fontsize=20)\n",
    "\n",
    "plt.savefig(\"Images\\Accidents_vs_Seasons\")"
   ]
  },
  {
   "cell_type": "markdown",
   "metadata": {},
   "source": [
    "###### Fall and Winters are the seasons in which most accidents happend compared to other seasons with most accidents happening in Fall in 2017-2019."
   ]
  },
  {
   "cell_type": "code",
   "execution_count": null,
   "metadata": {},
   "outputs": [],
   "source": []
  },
  {
   "cell_type": "markdown",
   "metadata": {},
   "source": [
    "# Analyze impact of Weather Factors on Number of Accident across data"
   ]
  },
  {
   "cell_type": "code",
   "execution_count": 57,
   "metadata": {},
   "outputs": [],
   "source": [
    "#Create function to calculate linear regression and correlation co-efficient for factors against accident\n",
    "\n",
    "def factor_accident_correlation(factor,line_x,line_y):\n",
    "    accident_count_factor=accident_target.groupby(factor).count().reset_index()\n",
    "    #accident_count_humidity.head()\n",
    "    x_axis=accident_count_factor[factor]\n",
    "    y_axis=accident_count_factor[\"Start_Time\"]\n",
    "    \n",
    "    #fig=plt.figure(figsize=(12,8))\n",
    "    \n",
    "    _=plt.scatter(x_axis,y_axis)\n",
    "    \n",
    "    plt.title(f\"Number of Accidents vs {factor}\")\n",
    "    plt.xlabel(f\"{factor}\")\n",
    "    plt.ylabel(\"Number of Accidents\")\n",
    "    \n",
    "    #plt.yticks(np.arange(min(accident_count_factor[\"Start_Time\"]),max(accident_count_factor[\"Start_Time\"])+10000,10000))\n",
    "    \n",
    "    #plt.xticks(np.arange(min(accident_count_factor[factor]),max(accident_count_factor[factor])+5,10))\n",
    "    \n",
    "    slope,intercept,p,r,stderr=linregress(x_axis,y_axis)\n",
    "    \n",
    "    line_eq=f\"y= {round(slope,2)}*x + {round(intercept,2)}\"\n",
    "    \n",
    "    plt.plot(x_axis,((slope*x_axis)+intercept),\"r--\")\n",
    "    \n",
    "    _=plt.annotate(line_eq,(line_x,line_y),color=\"red\",fontsize=15)\n",
    "    \n",
    "    corr,pvalue=pearsonr(accident_count_factor[factor],accident_count_factor[\"Start_Time\"])\n",
    "    \n",
    "    plt.tight_layout()\n",
    "    \n",
    "    print(f\"The correlation-co-efficient is: {round(corr,4)}\")\n",
    "    "
   ]
  },
  {
   "cell_type": "markdown",
   "metadata": {},
   "source": [
    "## Analyze impact of Humidity on Number of Accident across data"
   ]
  },
  {
   "cell_type": "code",
   "execution_count": 58,
   "metadata": {
    "scrolled": false
   },
   "outputs": [
    {
     "name": "stdout",
     "output_type": "stream",
     "text": [
      "The correlation-co-efficient is: 0.7222163222770662\n"
     ]
    },
    {
     "data": {
      "image/png": "[encoded data removed]",
      "text/plain": [
       "<Figure size 432x288 with 1 Axes>"
      ]
     },
     "metadata": {
      "needs_background": "light"
     },
     "output_type": "display_data"
    }
   ],
   "source": [
    "factor_accident_correlation('Humidity(%)',10,50)"
   ]
  },
  {
   "cell_type": "markdown",
   "metadata": {},
   "source": [
    "## Analyze impact of Temperature on Number of Accident across data"
   ]
  },
  {
   "cell_type": "code",
   "execution_count": 59,
   "metadata": {},
   "outputs": [
    {
     "name": "stdout",
     "output_type": "stream",
     "text": [
      "The correlation-co-efficient is: 0.14016364426733344\n"
     ]
    },
    {
     "data": {
      "image/png": "[encoded data removed]",
      "text/plain": [
       "<Figure size 432x288 with 1 Axes>"
      ]
     },
     "metadata": {
      "needs_background": "light"
     },
     "output_type": "display_data"
    }
   ],
   "source": [
    "factor_accident_correlation('Temperature(F)',10,50)"
   ]
  },
  {
   "cell_type": "markdown",
   "metadata": {},
   "source": [
    "## Analyze impact of Visibility on Number of Accident across data"
   ]
  },
  {
   "cell_type": "code",
   "execution_count": 60,
   "metadata": {},
   "outputs": [
    {
     "name": "stdout",
     "output_type": "stream",
     "text": [
      "The correlation-co-efficient is: -0.06332434579325778\n"
     ]
    },
    {
     "data": {
      "image/png": "[encoded data removed]",
      "text/plain": [
       "<Figure size 432x288 with 1 Axes>"
      ]
     },
     "metadata": {
      "needs_background": "light"
     },
     "output_type": "display_data"
    }
   ],
   "source": [
    "factor_accident_correlation('Visibility(mi)',10,100000)"
   ]
  },
  {
   "cell_type": "code",
   "execution_count": 61,
   "metadata": {},
   "outputs": [
    {
     "name": "stdout",
     "output_type": "stream",
     "text": [
      "The correlation-co-efficient is: -0.22664563282981276\n"
     ]
    },
    {
     "data": {
      "image/png": "[encoded data removed]",
      "text/plain": [
       "<Figure size 432x288 with 1 Axes>"
      ]
     },
     "metadata": {
      "needs_background": "light"
     },
     "output_type": "display_data"
    }
   ],
   "source": [
    "# Since the data is skewed due to a big value of Accidents for Visibility: 10 mi \n",
    "#Hence removing the value to see the correlaton of Visibility with Accidents without outlier value of 10 mi\n",
    "\n",
    "factor=\"Visibility(mi)\"\n",
    "accident_count_factor=accident_target.loc[accident_target[factor]!=10.0].groupby(factor).count().reset_index()\n",
    "x_axis=accident_count_factor[factor]\n",
    "y_axis=accident_count_factor[\"Start_Time\"]\n",
    "\n",
    "#fig=plt.figure(figsize=(10,6))\n",
    "\n",
    "_=plt.scatter(x_axis,y_axis,s=20)\n",
    "\n",
    "plt.title(f\"Number of Accidents vs {factor}\")\n",
    "plt.xlabel(f\"{factor}\")\n",
    "plt.ylabel(\"Number of Accidents\")\n",
    "\n",
    "#plt.yticks(np.arange(min(accident_count_factor[\"Start_Time\"]),max(accident_count_factor[\"Start_Time\"])+10000,10000))\n",
    "\n",
    "#plt.xticks(np.arange(min(accident_count_factor[factor]),max(accident_count_factor[factor])+5,10))\n",
    "\n",
    "slope,intercept,p,r,stderr=linregress(x_axis,y_axis)\n",
    "\n",
    "line_eq=f\"y= {round(slope,2)}*x + {round(intercept,2)}\"\n",
    "\n",
    "plt.plot(x_axis,((slope*x_axis)+intercept),\"r--\")\n",
    "\n",
    "_=plt.annotate(line_eq,(10,10000),color=\"red\",fontsize=15)\n",
    "\n",
    "corr,pvalue=pearsonr(accident_count_factor[factor],accident_count_factor[\"Start_Time\"])\n",
    "    \n",
    "plt.tight_layout()\n",
    "    \n",
    "print(f\"The correlation-co-efficient is: {round(corr,4)}\")"
   ]
  },
  {
   "cell_type": "code",
   "execution_count": null,
   "metadata": {},
   "outputs": [],
   "source": []
  },
  {
   "cell_type": "markdown",
   "metadata": {},
   "source": [
    "## Analyze impact of Wind Speed on Number of Accident across data"
   ]
  },
  {
   "cell_type": "code",
   "execution_count": 62,
   "metadata": {},
   "outputs": [
    {
     "name": "stdout",
     "output_type": "stream",
     "text": [
      "The correlation-co-efficient is: -0.2705582678095802\n"
     ]
    },
    {
     "data": {
      "image/png": "[encoded data removed]",
      "text/plain": [
       "<Figure size 432x288 with 1 Axes>"
      ]
     },
     "metadata": {
      "needs_background": "light"
     },
     "output_type": "display_data"
    }
   ],
   "source": [
    "factor_accident_correlation('Wind_Speed(mph)',10,100000)"
   ]
  },
  {
   "cell_type": "code",
   "execution_count": 63,
   "metadata": {},
   "outputs": [
    {
     "name": "stdout",
     "output_type": "stream",
     "text": [
      "The correlation-co-efficient is: -0.5449831256476607\n"
     ]
    },
    {
     "data": {
      "image/png": "[encoded data removed]",
      "text/plain": [
       "<Figure size 432x288 with 1 Axes>"
      ]
     },
     "metadata": {
      "needs_background": "light"
     },
     "output_type": "display_data"
    }
   ],
   "source": [
    "# Since there are very few values with wind speed above 100 mph and is not possible value of wind speed in general \n",
    "#Hence removing all the rows with WindSpeed greater than 100 mph to see the correlaton of Wind Speed with Accidents \n",
    "\n",
    "factor=\"Wind_Speed(mph)\"\n",
    "accident_count_factor=accident_target.loc[accident_target[factor]<=100].groupby(factor).count().reset_index()\n",
    "x_axis=accident_count_factor[factor]\n",
    "y_axis=accident_count_factor[\"Start_Time\"]\n",
    "\n",
    "#fig=plt.figure(figsize=(10,6))\n",
    "\n",
    "_=plt.scatter(x_axis,y_axis,s=20)\n",
    "\n",
    "plt.title(f\"Number of Accidents vs {factor}\")\n",
    "plt.xlabel(f\"{factor}\")\n",
    "plt.ylabel(\"Number of Accidents\")\n",
    "\n",
    "#plt.yticks(np.arange(min(accident_count_factor[\"Start_Time\"]),max(accident_count_factor[\"Start_Time\"])+10000,10000))\n",
    "\n",
    "#plt.xticks(np.arange(min(accident_count_factor[factor]),max(accident_count_factor[factor])+5,10))\n",
    "\n",
    "slope,intercept,p,r,stderr=linregress(x_axis,y_axis)\n",
    "\n",
    "line_eq=f\"y= {round(slope,2)}*x + {round(intercept,2)}\"\n",
    "\n",
    "plt.plot(x_axis,((slope*x_axis)+intercept),\"r--\")\n",
    "\n",
    "_=plt.annotate(line_eq,(10,10000),color=\"red\",fontsize=15)\n",
    "\n",
    "corr,pvalue=pearsonr(accident_count_factor[factor],accident_count_factor[\"Start_Time\"])\n",
    "    \n",
    "plt.tight_layout()\n",
    "    \n",
    "print(f\"The correlation-co-efficient is: {round(corr,4)}\")"
   ]
  },
  {
   "cell_type": "code",
   "execution_count": null,
   "metadata": {},
   "outputs": [],
   "source": []
  },
  {
   "cell_type": "code",
   "execution_count": null,
   "metadata": {},
   "outputs": [],
   "source": []
  },
  {
   "cell_type": "markdown",
   "metadata": {},
   "source": [
    "## Analyze impact of different weather factors on Number of Accident across data"
   ]
  },
  {
   "cell_type": "code",
   "execution_count": 64,
   "metadata": {},
   "outputs": [],
   "source": [
    "multi_factor=[\"Temperature(F)\",\"Humidity(%)\",\"Visibility(mi)\",\"Wind_Speed(mph)\"]"
   ]
  },
  {
   "cell_type": "code",
   "execution_count": 65,
   "metadata": {},
   "outputs": [
    {
     "data": {
      "image/png": "[encoded data removed]",
      "text/plain": [
       "<Figure size 1152x576 with 4 Axes>"
      ]
     },
     "metadata": {
      "needs_background": "light"
     },
     "output_type": "display_data"
    }
   ],
   "source": [
    "fig,ax =  plt.subplots(2,2,figsize=(16,8))\n",
    "#fig=plt.figure(figsize=(20,8))\n",
    "\n",
    "#multi_factor=[\"Humidity(%)\",\"Visibility(mi)\",\"Temperature(F)\",\"Wind_Speed(mph)\"]\n",
    "#,\"Precipitation(in)\"\n",
    "x_cord=0\n",
    "y_cord=0\n",
    "\n",
    "for factor in multi_factor:\n",
    "    \n",
    "    #.loc[accident_target[factor]!=10.0]\n",
    "    if factor==\"Wind_Speed(mph)\":\n",
    "        accident_count_factor=accident_target.loc[accident_target[factor]<=100].groupby(factor).count().reset_index()\n",
    "        x_axis=accident_count_factor[factor]\n",
    "        y_axis=accident_count_factor[\"Start_Time\"]\n",
    "    elif factor==\"Visibility(mi)\":\n",
    "        accident_count_factor=accident_target.loc[accident_target[factor]!=10.0].groupby(factor).count().reset_index()\n",
    "        x_axis=accident_count_factor[factor]\n",
    "        y_axis=accident_count_factor[\"Start_Time\"]\n",
    "    else:\n",
    "        accident_count_factor=accident_target.groupby(factor).count().reset_index()\n",
    "        x_axis=accident_count_factor[factor]\n",
    "        y_axis=accident_count_factor[\"Start_Time\"]\n",
    "    \n",
    "   \n",
    "\n",
    "    ax[x_cord][y_cord].scatter(x_axis,y_axis)\n",
    "    \n",
    "    ax[x_cord][y_cord].set_title(f\"Correlation of Accidents vs {factor}\",fontsize=16)\n",
    "    ax[x_cord][y_cord].set_xlabel(f\"{factor}\",fontsize=12)\n",
    "    ax[x_cord][y_cord].set_ylabel(\"Number of Accidents\",fontsize=12)\n",
    "\n",
    "    #plt.yticks(np.arange(min(accident_count_factor[\"Start_Time\"]),max(accident_count_factor[\"Start_Time\"])+10000,10000))\n",
    "\n",
    "    #plt.xticks(np.arange(min(accident_count_factor[factor]),max(accident_count_factor[factor])+5,10))\n",
    "\n",
    "    slope,intercept,p,r,stderr=linregress(x_axis,y_axis)\n",
    "\n",
    "    line_eq=f\"y= {round(slope,2)}*x + {round(intercept,2)}\"\n",
    "    \n",
    "    corr,pvalue=pearsonr(accident_count_factor[factor],accident_count_factor[\"Start_Time\"])\n",
    "\n",
    "    ax[x_cord][y_cord].plot(x_axis,((slope*x_axis)+intercept),\"r--\")\n",
    "\n",
    "    ax[x_cord][y_cord].annotate(line_eq,(10,10000),color=\"red\",fontsize=15)\n",
    "    \n",
    "    ax[x_cord][y_cord].text(0.1, 0.9,f\"The correlation co-efficient is: {round(corr,4)}\", transform=ax[x_cord][y_cord].transAxes,bbox=dict(facecolor='red', alpha=0.5))\n",
    "    \n",
    "    #imagepath=f\"Images/Accidents_vs_factors\"\n",
    "    \n",
    "    \n",
    "    \n",
    "    if(x_cord==0 and y_cord==0):\n",
    "        y_cord=1\n",
    "    elif (x_cord==0 and y_cord==1):\n",
    "        x_cord=1\n",
    "        y_cord=0\n",
    "    elif (x_cord==1 and y_cord==0):\n",
    "        y_cord=1\n",
    "       \n",
    "\n",
    "    plt.tight_layout()\n",
    "    \n",
    "    plt.savefig(\"Images/Accidents_vs_factors\")\n",
    "\n",
    "    #print(f\"The r-squared value for Number of Accidents vs {factor} is: {r**2}\")\n",
    "    \n"
   ]
  },
  {
   "cell_type": "markdown",
   "metadata": {},
   "source": [
    "###### The correlation co-efficient factor between Accidents and Temperature is 0.1402 which shows a weak correlation between temperature and accidents. The distribution of number of accidents in US follows the distribution of temperature across state across year. \n",
    "\n",
    "###### The correlation co-efficient factor between Accidents and Humidity is 0.7223 which shows a very high correlation between humidity and accidents.\n",
    "###### The correlation co-efficient factor between Accidents and Visibility is -0.2266 which shows a negative correlation between Visibility and accidents. As we can see from the graph that more accidents tend to happen when the visibility is lower. \n",
    "\n",
    "###### The correlation co-efficient factor between Accidents and Wind Speed is -0.5445 which shows a moderately negative correlation between Wind speed and accidents. More accidents tend to happen when Wind speed is low."
   ]
  },
  {
   "cell_type": "code",
   "execution_count": null,
   "metadata": {},
   "outputs": [],
   "source": []
  },
  {
   "cell_type": "markdown",
   "metadata": {},
   "source": [
    "## Analyze impact of various weather factors on Number of Accident in Calfornia"
   ]
  },
  {
   "cell_type": "code",
   "execution_count": 66,
   "metadata": {},
   "outputs": [
    {
     "data": {
      "image/png": "[encoded data removed]",
      "text/plain": [
       "<Figure size 1152x576 with 4 Axes>"
      ]
     },
     "metadata": {
      "needs_background": "light"
     },
     "output_type": "display_data"
    }
   ],
   "source": [
    "fig,ax =  plt.subplots(2,2,figsize=(16,8))\n",
    "#fig=plt.figure(figsize=(20,8))\n",
    "\n",
    "#multi_factor=[\"Humidity(%)\",\"Visibility(mi)\",\"Temperature(F)\",\"Wind_Speed(mph)\"]\n",
    "#,\"Precipitation(in)\"\n",
    "x_cord=0\n",
    "y_cord=0\n",
    "\n",
    "for factor in multi_factor:\n",
    "    \n",
    "    if factor==\"Wind_Speed(mph)\":\n",
    "        accident_count_factor=accident_target.loc[(accident_target[factor]<=100) & (accident_target[\"State\"]==\"CA\")].groupby(factor).count().reset_index()\n",
    "        x_axis=accident_count_factor[factor]\n",
    "        y_axis=accident_count_factor[\"Start_Time\"]\n",
    "    elif factor==\"Visibility(mi)\":\n",
    "        accident_count_factor=accident_target.loc[(accident_target[factor]!=10.0) & (accident_target[\"State\"]==\"CA\")].groupby(factor).count().reset_index()\n",
    "        x_axis=accident_count_factor[factor]\n",
    "        y_axis=accident_count_factor[\"Start_Time\"]\n",
    "    else:\n",
    "        accident_count_factor=accident_target.groupby(factor).count().reset_index()\n",
    "        x_axis=accident_count_factor[factor]\n",
    "        y_axis=accident_count_factor[\"Start_Time\"]\n",
    "    \n",
    "    ax[x_cord][y_cord].scatter(x_axis,y_axis)\n",
    "    \n",
    "    ax[x_cord][y_cord].set_title(f\"Correlation of Accidents vs {factor} in California\",fontsize=16)\n",
    "    ax[x_cord][y_cord].set_xlabel(f\"{factor}\",fontsize=12)\n",
    "    ax[x_cord][y_cord].set_ylabel(\"Number of Accidents\",fontsize=12)\n",
    "\n",
    "    #plt.yticks(np.arange(min(accident_count_factor[\"Start_Time\"]),max(accident_count_factor[\"Start_Time\"])+10000,10000))\n",
    "\n",
    "    #plt.xticks(np.arange(min(accident_count_factor[factor]),max(accident_count_factor[factor])+5,10))\n",
    "\n",
    "    slope,intercept,p,r,stderr=linregress(x_axis,y_axis)\n",
    "\n",
    "    line_eq=f\"y= {round(slope,2)}*x + {round(intercept,2)}\"\n",
    "    \n",
    "    corr,pvalue=pearsonr(accident_count_factor[factor],accident_count_factor[\"Start_Time\"])\n",
    "\n",
    "    ax[x_cord][y_cord].plot(x_axis,((slope*x_axis)+intercept),\"r--\")\n",
    "\n",
    "    ax[x_cord][y_cord].annotate(line_eq,(10,10000),color=\"red\",fontsize=15)\n",
    "    \n",
    "    ax[x_cord][y_cord].text(0.1, 0.9,f\"The correlation co-efficient is: {round(corr,4)}\", transform=ax[x_cord][y_cord].transAxes,bbox=dict(facecolor='red', alpha=0.5))\n",
    "    \n",
    "    if(x_cord==0 and y_cord==0):\n",
    "        y_cord=1\n",
    "    elif (x_cord==0 and y_cord==1):\n",
    "        x_cord=1\n",
    "        y_cord=0\n",
    "    elif (x_cord==1 and y_cord==0):\n",
    "        y_cord=1\n",
    "    \n",
    "    plt.savefig(\"Images/Accidents_vs_factors_ca\")\n",
    "\n",
    "    plt.tight_layout()"
   ]
  },
  {
   "cell_type": "markdown",
   "metadata": {},
   "source": [
    "##### The relationship is in-line with US in general."
   ]
  },
  {
   "cell_type": "markdown",
   "metadata": {},
   "source": [
    "## Analyze impact of various weather factors on Number of Accident in New York"
   ]
  },
  {
   "cell_type": "code",
   "execution_count": 67,
   "metadata": {},
   "outputs": [
    {
     "data": {
      "image/png": "[encoded data removed]",
      "text/plain": [
       "<Figure size 1152x576 with 4 Axes>"
      ]
     },
     "metadata": {
      "needs_background": "light"
     },
     "output_type": "display_data"
    }
   ],
   "source": [
    "fig,ax =  plt.subplots(2,2,figsize=(16,8))\n",
    "#fig=plt.figure(figsize=(20,8))\n",
    "\n",
    "#multi_factor=[\"Humidity(%)\",\"Visibility(mi)\",\"Temperature(F)\",\"Wind_Speed(mph)\"]\n",
    "#,\"Precipitation(in)\"\n",
    "x_cord=0\n",
    "y_cord=0\n",
    "\n",
    "for factor in multi_factor:\n",
    "    if factor==\"Wind_Speed(mph)\":\n",
    "        accident_count_factor=accident_target.loc[(accident_target[factor]<=100) & (accident_target[\"State\"]==\"NY\")].groupby(factor).count().reset_index()\n",
    "        x_axis=accident_count_factor[factor]\n",
    "        y_axis=accident_count_factor[\"Start_Time\"]\n",
    "    elif factor==\"Visibility(mi)\":\n",
    "        accident_count_factor=accident_target.loc[(accident_target[factor]!=10.0) & (accident_target[\"State\"]==\"NY\")].groupby(factor).count().reset_index()\n",
    "        x_axis=accident_count_factor[factor]\n",
    "        y_axis=accident_count_factor[\"Start_Time\"]\n",
    "    else:\n",
    "        accident_count_factor=accident_target.groupby(factor).count().reset_index()\n",
    "        x_axis=accident_count_factor[factor]\n",
    "        y_axis=accident_count_factor[\"Start_Time\"]\n",
    "    \n",
    "    ax[x_cord][y_cord].scatter(x_axis,y_axis)\n",
    "    \n",
    "    ax[x_cord][y_cord].set_title(f\"Correlation of Accidents vs {factor} in New York\",fontsize=16)\n",
    "    ax[x_cord][y_cord].set_xlabel(f\"{factor}\",fontsize=12)\n",
    "    ax[x_cord][y_cord].set_ylabel(\"Number of Accidents\",fontsize=12)\n",
    "\n",
    "    #plt.yticks(np.arange(min(accident_count_factor[\"Start_Time\"]),max(accident_count_factor[\"Start_Time\"])+10000,10000))\n",
    "\n",
    "    #plt.xticks(np.arange(min(accident_count_factor[factor]),max(accident_count_factor[factor])+5,10))\n",
    "\n",
    "    slope,intercept,p,r,stderr=linregress(x_axis,y_axis)\n",
    "\n",
    "    line_eq=f\"y= {round(slope,2)}*x + {round(intercept,2)}\"\n",
    "\n",
    "    ax[x_cord][y_cord].plot(x_axis,((slope*x_axis)+intercept),\"r--\")\n",
    "    \n",
    "    corr,pvalue=pearsonr(accident_count_factor[factor],accident_count_factor[\"Start_Time\"])\n",
    "\n",
    "    ax[x_cord][y_cord].annotate(line_eq,(10,2000),color=\"red\",fontsize=15)\n",
    "    \n",
    "    ax[x_cord][y_cord].text(0.1, 0.9,f\"The correlation co-efficient is: {round(corr,4)}\", transform=ax[x_cord][y_cord].transAxes,bbox=dict(facecolor='red', alpha=0.5))\n",
    "    \n",
    "    if(x_cord==0 and y_cord==0):\n",
    "        y_cord=1\n",
    "    elif (x_cord==0 and y_cord==1):\n",
    "        x_cord=1\n",
    "        y_cord=0\n",
    "    elif (x_cord==1 and y_cord==0):\n",
    "        y_cord=1\n",
    "       \n",
    "    plt.savefig(\"Images/Accidents_vs_factors_ny\")\n",
    "    \n",
    "    plt.tight_layout()\n"
   ]
  },
  {
   "cell_type": "markdown",
   "metadata": {},
   "source": [
    "##### The relationship is in-line with US in general Except for visibility which shows a low relation wth the number of accidents.\n",
    "##### The Visibility in New York is upto 20 mil compared to being 140 mil in US in general. The highest number of accidents fall in same range of first 10 miles in almost all of US."
   ]
  },
  {
   "cell_type": "markdown",
   "metadata": {},
   "source": [
    "### Correlation of temperature and visibility on Accident Count"
   ]
  },
  {
   "cell_type": "code",
   "execution_count": 68,
   "metadata": {},
   "outputs": [
    {
     "data": {
      "text/html": [
       "<div>\n",
       "<style scoped>\n",
       "    .dataframe tbody tr th:only-of-type {\n",
       "        vertical-align: middle;\n",
       "    }\n",
       "\n",
       "    .dataframe tbody tr th {\n",
       "        vertical-align: top;\n",
       "    }\n",
       "\n",
       "    .dataframe thead th {\n",
       "        text-align: right;\n",
       "    }\n",
       "</style>\n",
       "<table border=\"1\" class=\"dataframe\">\n",
       "  <thead>\n",
       "    <tr style=\"text-align: right;\">\n",
       "      <th></th>\n",
       "      <th>Temperature(F)</th>\n",
       "      <th>Visibility(mi)</th>\n",
       "      <th>Accident Count</th>\n",
       "      <th>Combined Value</th>\n",
       "    </tr>\n",
       "  </thead>\n",
       "  <tbody>\n",
       "    <tr>\n",
       "      <th>0</th>\n",
       "      <td>-33.0</td>\n",
       "      <td>7.0</td>\n",
       "      <td>1</td>\n",
       "      <td>-231.00</td>\n",
       "    </tr>\n",
       "    <tr>\n",
       "      <th>1</th>\n",
       "      <td>-29.0</td>\n",
       "      <td>6.0</td>\n",
       "      <td>2</td>\n",
       "      <td>-174.00</td>\n",
       "    </tr>\n",
       "    <tr>\n",
       "      <th>2</th>\n",
       "      <td>-27.9</td>\n",
       "      <td>4.0</td>\n",
       "      <td>1</td>\n",
       "      <td>-111.60</td>\n",
       "    </tr>\n",
       "    <tr>\n",
       "      <th>3</th>\n",
       "      <td>-27.9</td>\n",
       "      <td>9.0</td>\n",
       "      <td>4</td>\n",
       "      <td>-251.10</td>\n",
       "    </tr>\n",
       "    <tr>\n",
       "      <th>4</th>\n",
       "      <td>-27.0</td>\n",
       "      <td>4.0</td>\n",
       "      <td>1</td>\n",
       "      <td>-108.00</td>\n",
       "    </tr>\n",
       "    <tr>\n",
       "      <th>...</th>\n",
       "      <td>...</td>\n",
       "      <td>...</td>\n",
       "      <td>...</td>\n",
       "      <td>...</td>\n",
       "    </tr>\n",
       "    <tr>\n",
       "      <th>195</th>\n",
       "      <td>-4.0</td>\n",
       "      <td>7.0</td>\n",
       "      <td>9</td>\n",
       "      <td>-28.00</td>\n",
       "    </tr>\n",
       "    <tr>\n",
       "      <th>196</th>\n",
       "      <td>-4.0</td>\n",
       "      <td>8.0</td>\n",
       "      <td>15</td>\n",
       "      <td>-32.00</td>\n",
       "    </tr>\n",
       "    <tr>\n",
       "      <th>197</th>\n",
       "      <td>-4.0</td>\n",
       "      <td>9.0</td>\n",
       "      <td>6</td>\n",
       "      <td>-36.00</td>\n",
       "    </tr>\n",
       "    <tr>\n",
       "      <th>198</th>\n",
       "      <td>-4.0</td>\n",
       "      <td>20.0</td>\n",
       "      <td>4</td>\n",
       "      <td>-80.00</td>\n",
       "    </tr>\n",
       "    <tr>\n",
       "      <th>199</th>\n",
       "      <td>-3.5</td>\n",
       "      <td>2.5</td>\n",
       "      <td>1</td>\n",
       "      <td>-8.75</td>\n",
       "    </tr>\n",
       "  </tbody>\n",
       "</table>\n",
       "<p>200 rows × 4 columns</p>\n",
       "</div>"
      ],
      "text/plain": [
       "     Temperature(F)  Visibility(mi)  Accident Count  Combined Value\n",
       "0             -33.0             7.0               1         -231.00\n",
       "1             -29.0             6.0               2         -174.00\n",
       "2             -27.9             4.0               1         -111.60\n",
       "3             -27.9             9.0               4         -251.10\n",
       "4             -27.0             4.0               1         -108.00\n",
       "..              ...             ...             ...             ...\n",
       "195            -4.0             7.0               9          -28.00\n",
       "196            -4.0             8.0              15          -32.00\n",
       "197            -4.0             9.0               6          -36.00\n",
       "198            -4.0            20.0               4          -80.00\n",
       "199            -3.5             2.5               1           -8.75\n",
       "\n",
       "[200 rows x 4 columns]"
      ]
     },
     "execution_count": 68,
     "metadata": {},
     "output_type": "execute_result"
    }
   ],
   "source": [
    "accident_count_temp_visibility=pd.DataFrame(accident_target[accident_target[\"Visibility(mi)\"]!=10]\\\n",
    "                                            .groupby([\"Temperature(F)\",\"Visibility(mi)\"])[\"Start_Time\"].count()).reset_index()\n",
    "accident_count_temp_visibility.rename(columns={\"Start_Time\":\"Accident Count\"},inplace=True)\n",
    "accident_count_temp_visibility[\"Combined Value\"]=accident_count_temp_visibility[\"Temperature(F)\"]\\\n",
    "*accident_count_temp_visibility[\"Visibility(mi)\"]\n",
    "\n",
    "accident_count_temp_visibility.head(200)\n"
   ]
  },
  {
   "cell_type": "code",
   "execution_count": 69,
   "metadata": {},
   "outputs": [
    {
     "name": "stdout",
     "output_type": "stream",
     "text": [
      "The correlation co-efficient is: -0.02140009219267412\n"
     ]
    }
   ],
   "source": [
    "corr,pvalue=pearsonr(accident_count_temp_visibility[\"Combined Value\"],accident_count_temp_visibility[\"Accident Count\"])\n",
    "\n",
    "print(f\"The correlation co-efficient is: {corr}\")"
   ]
  },
  {
   "cell_type": "markdown",
   "metadata": {},
   "source": [
    "##### The correlation co-efficient is very low when combining values of temperature and visibility and does not seem to correlate together with number of accidents"
   ]
  },
  {
   "cell_type": "code",
   "execution_count": null,
   "metadata": {},
   "outputs": [],
   "source": []
  },
  {
   "cell_type": "markdown",
   "metadata": {},
   "source": [
    "### Correlation of humidity and visibility on Accident Count"
   ]
  },
  {
   "cell_type": "code",
   "execution_count": 72,
   "metadata": {},
   "outputs": [
    {
     "data": {
      "text/html": [
       "<div>\n",
       "<style scoped>\n",
       "    .dataframe tbody tr th:only-of-type {\n",
       "        vertical-align: middle;\n",
       "    }\n",
       "\n",
       "    .dataframe tbody tr th {\n",
       "        vertical-align: top;\n",
       "    }\n",
       "\n",
       "    .dataframe thead th {\n",
       "        text-align: right;\n",
       "    }\n",
       "</style>\n",
       "<table border=\"1\" class=\"dataframe\">\n",
       "  <thead>\n",
       "    <tr style=\"text-align: right;\">\n",
       "      <th></th>\n",
       "      <th>Humidity(%)</th>\n",
       "      <th>Visibility(mi)</th>\n",
       "      <th>Accident Count</th>\n",
       "      <th>Combined Value</th>\n",
       "    </tr>\n",
       "  </thead>\n",
       "  <tbody>\n",
       "    <tr>\n",
       "      <th>0</th>\n",
       "      <td>4.0</td>\n",
       "      <td>1.0</td>\n",
       "      <td>4</td>\n",
       "      <td>4.0</td>\n",
       "    </tr>\n",
       "    <tr>\n",
       "      <th>1</th>\n",
       "      <td>4.0</td>\n",
       "      <td>1.5</td>\n",
       "      <td>2</td>\n",
       "      <td>6.0</td>\n",
       "    </tr>\n",
       "    <tr>\n",
       "      <th>2</th>\n",
       "      <td>4.0</td>\n",
       "      <td>3.0</td>\n",
       "      <td>1</td>\n",
       "      <td>12.0</td>\n",
       "    </tr>\n",
       "    <tr>\n",
       "      <th>3</th>\n",
       "      <td>4.0</td>\n",
       "      <td>4.0</td>\n",
       "      <td>9</td>\n",
       "      <td>16.0</td>\n",
       "    </tr>\n",
       "    <tr>\n",
       "      <th>4</th>\n",
       "      <td>4.0</td>\n",
       "      <td>7.0</td>\n",
       "      <td>9</td>\n",
       "      <td>28.0</td>\n",
       "    </tr>\n",
       "    <tr>\n",
       "      <th>...</th>\n",
       "      <td>...</td>\n",
       "      <td>...</td>\n",
       "      <td>...</td>\n",
       "      <td>...</td>\n",
       "    </tr>\n",
       "    <tr>\n",
       "      <th>195</th>\n",
       "      <td>15.0</td>\n",
       "      <td>3.0</td>\n",
       "      <td>6</td>\n",
       "      <td>45.0</td>\n",
       "    </tr>\n",
       "    <tr>\n",
       "      <th>196</th>\n",
       "      <td>15.0</td>\n",
       "      <td>4.0</td>\n",
       "      <td>7</td>\n",
       "      <td>60.0</td>\n",
       "    </tr>\n",
       "    <tr>\n",
       "      <th>197</th>\n",
       "      <td>15.0</td>\n",
       "      <td>5.0</td>\n",
       "      <td>30</td>\n",
       "      <td>75.0</td>\n",
       "    </tr>\n",
       "    <tr>\n",
       "      <th>198</th>\n",
       "      <td>15.0</td>\n",
       "      <td>6.0</td>\n",
       "      <td>47</td>\n",
       "      <td>90.0</td>\n",
       "    </tr>\n",
       "    <tr>\n",
       "      <th>199</th>\n",
       "      <td>15.0</td>\n",
       "      <td>7.0</td>\n",
       "      <td>151</td>\n",
       "      <td>105.0</td>\n",
       "    </tr>\n",
       "  </tbody>\n",
       "</table>\n",
       "<p>200 rows × 4 columns</p>\n",
       "</div>"
      ],
      "text/plain": [
       "     Humidity(%)  Visibility(mi)  Accident Count  Combined Value\n",
       "0            4.0             1.0               4             4.0\n",
       "1            4.0             1.5               2             6.0\n",
       "2            4.0             3.0               1            12.0\n",
       "3            4.0             4.0               9            16.0\n",
       "4            4.0             7.0               9            28.0\n",
       "..           ...             ...             ...             ...\n",
       "195         15.0             3.0               6            45.0\n",
       "196         15.0             4.0               7            60.0\n",
       "197         15.0             5.0              30            75.0\n",
       "198         15.0             6.0              47            90.0\n",
       "199         15.0             7.0             151           105.0\n",
       "\n",
       "[200 rows x 4 columns]"
      ]
     },
     "execution_count": 72,
     "metadata": {},
     "output_type": "execute_result"
    }
   ],
   "source": [
    "accident_count_humid_visibility=pd.DataFrame(accident_target[accident_target[\"Visibility(mi)\"]!=10]\\\n",
    "                                            .groupby([\"Humidity(%)\",\"Visibility(mi)\"])[\"Start_Time\"].count()).reset_index()\n",
    "accident_count_humid_visibility.rename(columns={\"Start_Time\":\"Accident Count\"},inplace=True)\n",
    "accident_count_humid_visibility[\"Combined Value\"]=accident_count_humid_visibility[\"Humidity(%)\"]\\\n",
    "*accident_count_humid_visibility[\"Visibility(mi)\"]\n",
    "\n",
    "accident_count_humid_visibility.head(200)"
   ]
  },
  {
   "cell_type": "code",
   "execution_count": 74,
   "metadata": {},
   "outputs": [
    {
     "name": "stdout",
     "output_type": "stream",
     "text": [
      "The correlation co-efficient is: -0.06666206617471869\n"
     ]
    }
   ],
   "source": [
    "corr,pvalue=pearsonr(accident_count_humid_visibility[\"Combined Value\"],accident_count_humid_visibility[\"Accident Count\"])\n",
    "\n",
    "print(f\"The correlation co-efficient is: {corr}\")\n",
    "    "
   ]
  },
  {
   "cell_type": "markdown",
   "metadata": {},
   "source": [
    "##### The correlation co-efficient is very low when combining values of humidity and visibility and does not seem to correlate together with number of accidents"
   ]
  },
  {
   "cell_type": "code",
   "execution_count": null,
   "metadata": {},
   "outputs": [],
   "source": []
  }
 ],
 "metadata": {
  "kernelspec": {
   "display_name": "Python 3",
   "language": "python",
   "name": "python3"
  },
  "language_info": {
   "codemirror_mode": {
    "name": "ipython",
    "version": 3
   },
   "file_extension": ".py",
   "mimetype": "text/x-python",
   "name": "python",
   "nbconvert_exporter": "python",
   "pygments_lexer": "ipython3",
   "version": "3.7.6"
  }
 },
 "nbformat": 4,
 "nbformat_minor": 4
}
